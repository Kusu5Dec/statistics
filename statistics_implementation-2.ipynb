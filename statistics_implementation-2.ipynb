{
 "cells": [
  {
   "cell_type": "code",
   "execution_count": 2,
   "metadata": {},
   "outputs": [
    {
     "data": {
      "text/plain": [
       "[1, 2, 3, 4, 5]"
      ]
     },
     "execution_count": 2,
     "metadata": {},
     "output_type": "execute_result"
    }
   ],
   "source": [
    "data=[1,2,3,4,5]\n",
    "data"
   ]
  },
  {
   "cell_type": "code",
   "execution_count": 3,
   "metadata": {},
   "outputs": [],
   "source": [
    "#measures of central tendency"
   ]
  },
  {
   "cell_type": "code",
   "execution_count": 4,
   "metadata": {},
   "outputs": [],
   "source": [
    "import numpy as np\n",
    "import pandas as pd\n",
    "import seaborn as sns"
   ]
  },
  {
   "cell_type": "code",
   "execution_count": 5,
   "metadata": {},
   "outputs": [
    {
     "data": {
      "text/plain": [
       "3.0"
      ]
     },
     "execution_count": 5,
     "metadata": {},
     "output_type": "execute_result"
    }
   ],
   "source": [
    "np.mean(data)"
   ]
  },
  {
   "cell_type": "code",
   "execution_count": 6,
   "metadata": {},
   "outputs": [],
   "source": [
    "df=sns.load_dataset('tips')"
   ]
  },
  {
   "cell_type": "code",
   "execution_count": 7,
   "metadata": {},
   "outputs": [
    {
     "data": {
      "text/html": [
       "<div>\n",
       "<style scoped>\n",
       "    .dataframe tbody tr th:only-of-type {\n",
       "        vertical-align: middle;\n",
       "    }\n",
       "\n",
       "    .dataframe tbody tr th {\n",
       "        vertical-align: top;\n",
       "    }\n",
       "\n",
       "    .dataframe thead th {\n",
       "        text-align: right;\n",
       "    }\n",
       "</style>\n",
       "<table border=\"1\" class=\"dataframe\">\n",
       "  <thead>\n",
       "    <tr style=\"text-align: right;\">\n",
       "      <th></th>\n",
       "      <th>total_bill</th>\n",
       "      <th>tip</th>\n",
       "      <th>sex</th>\n",
       "      <th>smoker</th>\n",
       "      <th>day</th>\n",
       "      <th>time</th>\n",
       "      <th>size</th>\n",
       "    </tr>\n",
       "  </thead>\n",
       "  <tbody>\n",
       "    <tr>\n",
       "      <th>0</th>\n",
       "      <td>16.99</td>\n",
       "      <td>1.01</td>\n",
       "      <td>Female</td>\n",
       "      <td>No</td>\n",
       "      <td>Sun</td>\n",
       "      <td>Dinner</td>\n",
       "      <td>2</td>\n",
       "    </tr>\n",
       "    <tr>\n",
       "      <th>1</th>\n",
       "      <td>10.34</td>\n",
       "      <td>1.66</td>\n",
       "      <td>Male</td>\n",
       "      <td>No</td>\n",
       "      <td>Sun</td>\n",
       "      <td>Dinner</td>\n",
       "      <td>3</td>\n",
       "    </tr>\n",
       "    <tr>\n",
       "      <th>2</th>\n",
       "      <td>21.01</td>\n",
       "      <td>3.50</td>\n",
       "      <td>Male</td>\n",
       "      <td>No</td>\n",
       "      <td>Sun</td>\n",
       "      <td>Dinner</td>\n",
       "      <td>3</td>\n",
       "    </tr>\n",
       "    <tr>\n",
       "      <th>3</th>\n",
       "      <td>23.68</td>\n",
       "      <td>3.31</td>\n",
       "      <td>Male</td>\n",
       "      <td>No</td>\n",
       "      <td>Sun</td>\n",
       "      <td>Dinner</td>\n",
       "      <td>2</td>\n",
       "    </tr>\n",
       "    <tr>\n",
       "      <th>4</th>\n",
       "      <td>24.59</td>\n",
       "      <td>3.61</td>\n",
       "      <td>Female</td>\n",
       "      <td>No</td>\n",
       "      <td>Sun</td>\n",
       "      <td>Dinner</td>\n",
       "      <td>4</td>\n",
       "    </tr>\n",
       "    <tr>\n",
       "      <th>...</th>\n",
       "      <td>...</td>\n",
       "      <td>...</td>\n",
       "      <td>...</td>\n",
       "      <td>...</td>\n",
       "      <td>...</td>\n",
       "      <td>...</td>\n",
       "      <td>...</td>\n",
       "    </tr>\n",
       "    <tr>\n",
       "      <th>239</th>\n",
       "      <td>29.03</td>\n",
       "      <td>5.92</td>\n",
       "      <td>Male</td>\n",
       "      <td>No</td>\n",
       "      <td>Sat</td>\n",
       "      <td>Dinner</td>\n",
       "      <td>3</td>\n",
       "    </tr>\n",
       "    <tr>\n",
       "      <th>240</th>\n",
       "      <td>27.18</td>\n",
       "      <td>2.00</td>\n",
       "      <td>Female</td>\n",
       "      <td>Yes</td>\n",
       "      <td>Sat</td>\n",
       "      <td>Dinner</td>\n",
       "      <td>2</td>\n",
       "    </tr>\n",
       "    <tr>\n",
       "      <th>241</th>\n",
       "      <td>22.67</td>\n",
       "      <td>2.00</td>\n",
       "      <td>Male</td>\n",
       "      <td>Yes</td>\n",
       "      <td>Sat</td>\n",
       "      <td>Dinner</td>\n",
       "      <td>2</td>\n",
       "    </tr>\n",
       "    <tr>\n",
       "      <th>242</th>\n",
       "      <td>17.82</td>\n",
       "      <td>1.75</td>\n",
       "      <td>Male</td>\n",
       "      <td>No</td>\n",
       "      <td>Sat</td>\n",
       "      <td>Dinner</td>\n",
       "      <td>2</td>\n",
       "    </tr>\n",
       "    <tr>\n",
       "      <th>243</th>\n",
       "      <td>18.78</td>\n",
       "      <td>3.00</td>\n",
       "      <td>Female</td>\n",
       "      <td>No</td>\n",
       "      <td>Thur</td>\n",
       "      <td>Dinner</td>\n",
       "      <td>2</td>\n",
       "    </tr>\n",
       "  </tbody>\n",
       "</table>\n",
       "<p>244 rows × 7 columns</p>\n",
       "</div>"
      ],
      "text/plain": [
       "     total_bill   tip     sex smoker   day    time  size\n",
       "0         16.99  1.01  Female     No   Sun  Dinner     2\n",
       "1         10.34  1.66    Male     No   Sun  Dinner     3\n",
       "2         21.01  3.50    Male     No   Sun  Dinner     3\n",
       "3         23.68  3.31    Male     No   Sun  Dinner     2\n",
       "4         24.59  3.61  Female     No   Sun  Dinner     4\n",
       "..          ...   ...     ...    ...   ...     ...   ...\n",
       "239       29.03  5.92    Male     No   Sat  Dinner     3\n",
       "240       27.18  2.00  Female    Yes   Sat  Dinner     2\n",
       "241       22.67  2.00    Male    Yes   Sat  Dinner     2\n",
       "242       17.82  1.75    Male     No   Sat  Dinner     2\n",
       "243       18.78  3.00  Female     No  Thur  Dinner     2\n",
       "\n",
       "[244 rows x 7 columns]"
      ]
     },
     "execution_count": 7,
     "metadata": {},
     "output_type": "execute_result"
    }
   ],
   "source": [
    "df"
   ]
  },
  {
   "cell_type": "code",
   "execution_count": 8,
   "metadata": {},
   "outputs": [
    {
     "data": {
      "text/plain": [
       "19.78594262295082"
      ]
     },
     "execution_count": 8,
     "metadata": {},
     "output_type": "execute_result"
    }
   ],
   "source": [
    "np.mean(df['total_bill'])"
   ]
  },
  {
   "cell_type": "code",
   "execution_count": 9,
   "metadata": {},
   "outputs": [
    {
     "data": {
      "text/html": [
       "<div>\n",
       "<style scoped>\n",
       "    .dataframe tbody tr th:only-of-type {\n",
       "        vertical-align: middle;\n",
       "    }\n",
       "\n",
       "    .dataframe tbody tr th {\n",
       "        vertical-align: top;\n",
       "    }\n",
       "\n",
       "    .dataframe thead th {\n",
       "        text-align: right;\n",
       "    }\n",
       "</style>\n",
       "<table border=\"1\" class=\"dataframe\">\n",
       "  <thead>\n",
       "    <tr style=\"text-align: right;\">\n",
       "      <th></th>\n",
       "      <th>total_bill</th>\n",
       "      <th>tip</th>\n",
       "      <th>size</th>\n",
       "    </tr>\n",
       "  </thead>\n",
       "  <tbody>\n",
       "    <tr>\n",
       "      <th>count</th>\n",
       "      <td>244.000000</td>\n",
       "      <td>244.000000</td>\n",
       "      <td>244.000000</td>\n",
       "    </tr>\n",
       "    <tr>\n",
       "      <th>mean</th>\n",
       "      <td>19.785943</td>\n",
       "      <td>2.998279</td>\n",
       "      <td>2.569672</td>\n",
       "    </tr>\n",
       "    <tr>\n",
       "      <th>std</th>\n",
       "      <td>8.902412</td>\n",
       "      <td>1.383638</td>\n",
       "      <td>0.951100</td>\n",
       "    </tr>\n",
       "    <tr>\n",
       "      <th>min</th>\n",
       "      <td>3.070000</td>\n",
       "      <td>1.000000</td>\n",
       "      <td>1.000000</td>\n",
       "    </tr>\n",
       "    <tr>\n",
       "      <th>25%</th>\n",
       "      <td>13.347500</td>\n",
       "      <td>2.000000</td>\n",
       "      <td>2.000000</td>\n",
       "    </tr>\n",
       "    <tr>\n",
       "      <th>50%</th>\n",
       "      <td>17.795000</td>\n",
       "      <td>2.900000</td>\n",
       "      <td>2.000000</td>\n",
       "    </tr>\n",
       "    <tr>\n",
       "      <th>75%</th>\n",
       "      <td>24.127500</td>\n",
       "      <td>3.562500</td>\n",
       "      <td>3.000000</td>\n",
       "    </tr>\n",
       "    <tr>\n",
       "      <th>max</th>\n",
       "      <td>50.810000</td>\n",
       "      <td>10.000000</td>\n",
       "      <td>6.000000</td>\n",
       "    </tr>\n",
       "  </tbody>\n",
       "</table>\n",
       "</div>"
      ],
      "text/plain": [
       "       total_bill         tip        size\n",
       "count  244.000000  244.000000  244.000000\n",
       "mean    19.785943    2.998279    2.569672\n",
       "std      8.902412    1.383638    0.951100\n",
       "min      3.070000    1.000000    1.000000\n",
       "25%     13.347500    2.000000    2.000000\n",
       "50%     17.795000    2.900000    2.000000\n",
       "75%     24.127500    3.562500    3.000000\n",
       "max     50.810000   10.000000    6.000000"
      ]
     },
     "execution_count": 9,
     "metadata": {},
     "output_type": "execute_result"
    }
   ],
   "source": [
    "df.describe()"
   ]
  },
  {
   "cell_type": "code",
   "execution_count": 10,
   "metadata": {},
   "outputs": [
    {
     "data": {
      "text/plain": [
       "[1, 2, 3, 4, 5]"
      ]
     },
     "execution_count": 10,
     "metadata": {},
     "output_type": "execute_result"
    }
   ],
   "source": [
    "data"
   ]
  },
  {
   "cell_type": "code",
   "execution_count": 11,
   "metadata": {},
   "outputs": [
    {
     "data": {
      "text/plain": [
       "3.0"
      ]
     },
     "execution_count": 11,
     "metadata": {},
     "output_type": "execute_result"
    }
   ],
   "source": [
    "np.median(data)"
   ]
  },
  {
   "cell_type": "code",
   "execution_count": 12,
   "metadata": {},
   "outputs": [
    {
     "data": {
      "text/plain": [
       "[1, 2, 3, 4, 5]"
      ]
     },
     "execution_count": 12,
     "metadata": {},
     "output_type": "execute_result"
    }
   ],
   "source": [
    "data"
   ]
  },
  {
   "cell_type": "code",
   "execution_count": 13,
   "metadata": {},
   "outputs": [],
   "source": [
    "data=[1,2,3,4,500]"
   ]
  },
  {
   "cell_type": "code",
   "execution_count": 14,
   "metadata": {},
   "outputs": [
    {
     "data": {
      "text/plain": [
       "102.0"
      ]
     },
     "execution_count": 14,
     "metadata": {},
     "output_type": "execute_result"
    }
   ],
   "source": [
    "np.mean(data)"
   ]
  },
  {
   "cell_type": "code",
   "execution_count": 15,
   "metadata": {},
   "outputs": [
    {
     "data": {
      "text/plain": [
       "3.0"
      ]
     },
     "execution_count": 15,
     "metadata": {},
     "output_type": "execute_result"
    }
   ],
   "source": [
    "np.median(data)"
   ]
  },
  {
   "cell_type": "code",
   "execution_count": 16,
   "metadata": {},
   "outputs": [],
   "source": [
    "#mean is inflated(change) by outliers but median not"
   ]
  },
  {
   "cell_type": "code",
   "execution_count": 17,
   "metadata": {},
   "outputs": [
    {
     "data": {
      "text/plain": [
       "17.795"
      ]
     },
     "execution_count": 17,
     "metadata": {},
     "output_type": "execute_result"
    }
   ],
   "source": [
    "np.median(df['total_bill'])"
   ]
  },
  {
   "cell_type": "code",
   "execution_count": 18,
   "metadata": {},
   "outputs": [
    {
     "data": {
      "text/plain": [
       "[1, 2, 3, 4, 500]"
      ]
     },
     "execution_count": 18,
     "metadata": {},
     "output_type": "execute_result"
    }
   ],
   "source": [
    "data"
   ]
  },
  {
   "cell_type": "code",
   "execution_count": 19,
   "metadata": {},
   "outputs": [],
   "source": [
    "data=[1,2,3,3,3,3,4,500]"
   ]
  },
  {
   "cell_type": "code",
   "execution_count": 20,
   "metadata": {},
   "outputs": [
    {
     "data": {
      "text/plain": [
       "[1, 2, 3, 3, 3, 3, 4, 500]"
      ]
     },
     "execution_count": 20,
     "metadata": {},
     "output_type": "execute_result"
    }
   ],
   "source": [
    "data"
   ]
  },
  {
   "cell_type": "code",
   "execution_count": 21,
   "metadata": {},
   "outputs": [],
   "source": [
    "# numpy is not concept of mode"
   ]
  },
  {
   "cell_type": "code",
   "execution_count": 22,
   "metadata": {},
   "outputs": [],
   "source": [
    "# how will calculate mode"
   ]
  },
  {
   "cell_type": "code",
   "execution_count": 23,
   "metadata": {},
   "outputs": [
    {
     "data": {
      "text/plain": [
       "3"
      ]
     },
     "execution_count": 23,
     "metadata": {},
     "output_type": "execute_result"
    }
   ],
   "source": [
    "import statistics \n",
    "statistics.mode(data)"
   ]
  },
  {
   "cell_type": "code",
   "execution_count": 24,
   "metadata": {},
   "outputs": [
    {
     "data": {
      "text/plain": [
       "[1, 2, 3, 3, 3, 3, 4, 500]"
      ]
     },
     "execution_count": 24,
     "metadata": {},
     "output_type": "execute_result"
    }
   ],
   "source": [
    "data"
   ]
  },
  {
   "cell_type": "code",
   "execution_count": 25,
   "metadata": {},
   "outputs": [
    {
     "data": {
      "text/plain": [
       "array([2.75])"
      ]
     },
     "execution_count": 25,
     "metadata": {},
     "output_type": "execute_result"
    }
   ],
   "source": [
    "np.percentile(data,[25])"
   ]
  },
  {
   "cell_type": "code",
   "execution_count": 26,
   "metadata": {},
   "outputs": [
    {
     "data": {
      "text/plain": [
       "array([  2.75,   3.  ,   3.25, 326.4 , 361.12, 395.84, 430.56, 500.  ])"
      ]
     },
     "execution_count": 26,
     "metadata": {},
     "output_type": "execute_result"
    }
   ],
   "source": [
    "np.percentile(data,[25,50,75,95,96,97,98,100])"
   ]
  },
  {
   "cell_type": "code",
   "execution_count": 27,
   "metadata": {},
   "outputs": [],
   "source": [
    "data.append(-500)"
   ]
  },
  {
   "cell_type": "code",
   "execution_count": 28,
   "metadata": {},
   "outputs": [
    {
     "data": {
      "text/plain": [
       "[1, 2, 3, 3, 3, 3, 4, 500, -500]"
      ]
     },
     "execution_count": 28,
     "metadata": {},
     "output_type": "execute_result"
    }
   ],
   "source": [
    "data"
   ]
  },
  {
   "cell_type": "code",
   "execution_count": 29,
   "metadata": {},
   "outputs": [],
   "source": [
    "#outliers"
   ]
  },
  {
   "cell_type": "code",
   "execution_count": 30,
   "metadata": {},
   "outputs": [],
   "source": [
    "data=[1,2,3,3,3,3,4,50,-50]"
   ]
  },
  {
   "cell_type": "code",
   "execution_count": 31,
   "metadata": {},
   "outputs": [
    {
     "data": {
      "text/plain": [
       "<Axes: >"
      ]
     },
     "execution_count": 31,
     "metadata": {},
     "output_type": "execute_result"
    },
    {
     "data": {
      "image/png": "[encoded data removed]",
      "text/plain": [
       "<Figure size 640x480 with 1 Axes>"
      ]
     },
     "metadata": {},
     "output_type": "display_data"
    }
   ],
   "source": [
    "sns.boxplot(data)"
   ]
  },
  {
   "cell_type": "code",
   "execution_count": 32,
   "metadata": {},
   "outputs": [],
   "source": [
    "data=[1,2,3,3,3,3,4,20,-200]"
   ]
  },
  {
   "cell_type": "code",
   "execution_count": 33,
   "metadata": {},
   "outputs": [
    {
     "data": {
      "text/plain": [
       "<Axes: >"
      ]
     },
     "execution_count": 33,
     "metadata": {},
     "output_type": "execute_result"
    },
    {
     "data": {
      "image/png": "[encoded data removed]",
      "text/plain": [
       "<Figure size 640x480 with 1 Axes>"
      ]
     },
     "metadata": {},
     "output_type": "display_data"
    }
   ],
   "source": [
    "sns.boxplot(data)"
   ]
  },
  {
   "cell_type": "code",
   "execution_count": 34,
   "metadata": {},
   "outputs": [],
   "source": [
    "#measures of dispersion"
   ]
  },
  {
   "cell_type": "code",
   "execution_count": 35,
   "metadata": {},
   "outputs": [
    {
     "data": {
      "text/plain": [
       "[1, 2, 3, 3, 3, 3, 4, 20, -200]"
      ]
     },
     "execution_count": 35,
     "metadata": {},
     "output_type": "execute_result"
    }
   ],
   "source": [
    "data"
   ]
  },
  {
   "cell_type": "code",
   "execution_count": 36,
   "metadata": {},
   "outputs": [
    {
     "data": {
      "text/plain": [
       "4175.20987654321"
      ]
     },
     "execution_count": 36,
     "metadata": {},
     "output_type": "execute_result"
    }
   ],
   "source": [
    "np.var(data)"
   ]
  },
  {
   "cell_type": "code",
   "execution_count": 37,
   "metadata": {},
   "outputs": [
    {
     "data": {
      "text/plain": [
       "64.61586396964147"
      ]
     },
     "execution_count": 37,
     "metadata": {},
     "output_type": "execute_result"
    }
   ],
   "source": [
    "np.std(data)"
   ]
  },
  {
   "cell_type": "code",
   "execution_count": 38,
   "metadata": {},
   "outputs": [
    {
     "data": {
      "text/plain": [
       "4697.111111111111"
      ]
     },
     "execution_count": 38,
     "metadata": {},
     "output_type": "execute_result"
    }
   ],
   "source": [
    "statistics.variance(data) # sample variance"
   ]
  },
  {
   "cell_type": "code",
   "execution_count": 39,
   "metadata": {},
   "outputs": [
    {
     "data": {
      "text/plain": [
       "4175.20987654321"
      ]
     },
     "execution_count": 39,
     "metadata": {},
     "output_type": "execute_result"
    }
   ],
   "source": [
    "statistics.pvariance(data) # population variance"
   ]
  },
  {
   "cell_type": "code",
   "execution_count": 40,
   "metadata": {},
   "outputs": [
    {
     "data": {
      "text/plain": [
       "68.53547337774148"
      ]
     },
     "execution_count": 40,
     "metadata": {},
     "output_type": "execute_result"
    }
   ],
   "source": [
    "import math \n",
    "math.sqrt(statistics.variance(data))"
   ]
  },
  {
   "cell_type": "code",
   "execution_count": 41,
   "metadata": {},
   "outputs": [
    {
     "data": {
      "text/plain": [
       "[1, 2, 3, 3, 3, 3, 4, 20, -200]"
      ]
     },
     "execution_count": 41,
     "metadata": {},
     "output_type": "execute_result"
    }
   ],
   "source": [
    "data"
   ]
  },
  {
   "cell_type": "code",
   "execution_count": 46,
   "metadata": {},
   "outputs": [],
   "source": [
    "data=[1,2,3,3,3,3,4,20,-20]"
   ]
  },
  {
   "cell_type": "code",
   "execution_count": 47,
   "metadata": {},
   "outputs": [
    {
     "data": {
      "text/plain": [
       "[1, 2, 3, 3, 3, 3, 4, 20, -20]"
      ]
     },
     "execution_count": 47,
     "metadata": {},
     "output_type": "execute_result"
    }
   ],
   "source": [
    "data"
   ]
  },
  {
   "cell_type": "code",
   "execution_count": 48,
   "metadata": {},
   "outputs": [
    {
     "data": {
      "text/plain": [
       "9"
      ]
     },
     "execution_count": 48,
     "metadata": {},
     "output_type": "execute_result"
    }
   ],
   "source": [
    "len(data)"
   ]
  },
  {
   "cell_type": "code",
   "execution_count": 49,
   "metadata": {},
   "outputs": [
    {
     "data": {
      "text/html": [
       "<div>\n",
       "<style scoped>\n",
       "    .dataframe tbody tr th:only-of-type {\n",
       "        vertical-align: middle;\n",
       "    }\n",
       "\n",
       "    .dataframe tbody tr th {\n",
       "        vertical-align: top;\n",
       "    }\n",
       "\n",
       "    .dataframe thead th {\n",
       "        text-align: right;\n",
       "    }\n",
       "</style>\n",
       "<table border=\"1\" class=\"dataframe\">\n",
       "  <thead>\n",
       "    <tr style=\"text-align: right;\">\n",
       "      <th></th>\n",
       "      <th>total_bill</th>\n",
       "      <th>tip</th>\n",
       "      <th>sex</th>\n",
       "      <th>smoker</th>\n",
       "      <th>day</th>\n",
       "      <th>time</th>\n",
       "      <th>size</th>\n",
       "    </tr>\n",
       "  </thead>\n",
       "  <tbody>\n",
       "    <tr>\n",
       "      <th>0</th>\n",
       "      <td>16.99</td>\n",
       "      <td>1.01</td>\n",
       "      <td>Female</td>\n",
       "      <td>No</td>\n",
       "      <td>Sun</td>\n",
       "      <td>Dinner</td>\n",
       "      <td>2</td>\n",
       "    </tr>\n",
       "    <tr>\n",
       "      <th>1</th>\n",
       "      <td>10.34</td>\n",
       "      <td>1.66</td>\n",
       "      <td>Male</td>\n",
       "      <td>No</td>\n",
       "      <td>Sun</td>\n",
       "      <td>Dinner</td>\n",
       "      <td>3</td>\n",
       "    </tr>\n",
       "    <tr>\n",
       "      <th>2</th>\n",
       "      <td>21.01</td>\n",
       "      <td>3.50</td>\n",
       "      <td>Male</td>\n",
       "      <td>No</td>\n",
       "      <td>Sun</td>\n",
       "      <td>Dinner</td>\n",
       "      <td>3</td>\n",
       "    </tr>\n",
       "    <tr>\n",
       "      <th>3</th>\n",
       "      <td>23.68</td>\n",
       "      <td>3.31</td>\n",
       "      <td>Male</td>\n",
       "      <td>No</td>\n",
       "      <td>Sun</td>\n",
       "      <td>Dinner</td>\n",
       "      <td>2</td>\n",
       "    </tr>\n",
       "    <tr>\n",
       "      <th>4</th>\n",
       "      <td>24.59</td>\n",
       "      <td>3.61</td>\n",
       "      <td>Female</td>\n",
       "      <td>No</td>\n",
       "      <td>Sun</td>\n",
       "      <td>Dinner</td>\n",
       "      <td>4</td>\n",
       "    </tr>\n",
       "    <tr>\n",
       "      <th>...</th>\n",
       "      <td>...</td>\n",
       "      <td>...</td>\n",
       "      <td>...</td>\n",
       "      <td>...</td>\n",
       "      <td>...</td>\n",
       "      <td>...</td>\n",
       "      <td>...</td>\n",
       "    </tr>\n",
       "    <tr>\n",
       "      <th>239</th>\n",
       "      <td>29.03</td>\n",
       "      <td>5.92</td>\n",
       "      <td>Male</td>\n",
       "      <td>No</td>\n",
       "      <td>Sat</td>\n",
       "      <td>Dinner</td>\n",
       "      <td>3</td>\n",
       "    </tr>\n",
       "    <tr>\n",
       "      <th>240</th>\n",
       "      <td>27.18</td>\n",
       "      <td>2.00</td>\n",
       "      <td>Female</td>\n",
       "      <td>Yes</td>\n",
       "      <td>Sat</td>\n",
       "      <td>Dinner</td>\n",
       "      <td>2</td>\n",
       "    </tr>\n",
       "    <tr>\n",
       "      <th>241</th>\n",
       "      <td>22.67</td>\n",
       "      <td>2.00</td>\n",
       "      <td>Male</td>\n",
       "      <td>Yes</td>\n",
       "      <td>Sat</td>\n",
       "      <td>Dinner</td>\n",
       "      <td>2</td>\n",
       "    </tr>\n",
       "    <tr>\n",
       "      <th>242</th>\n",
       "      <td>17.82</td>\n",
       "      <td>1.75</td>\n",
       "      <td>Male</td>\n",
       "      <td>No</td>\n",
       "      <td>Sat</td>\n",
       "      <td>Dinner</td>\n",
       "      <td>2</td>\n",
       "    </tr>\n",
       "    <tr>\n",
       "      <th>243</th>\n",
       "      <td>18.78</td>\n",
       "      <td>3.00</td>\n",
       "      <td>Female</td>\n",
       "      <td>No</td>\n",
       "      <td>Thur</td>\n",
       "      <td>Dinner</td>\n",
       "      <td>2</td>\n",
       "    </tr>\n",
       "  </tbody>\n",
       "</table>\n",
       "<p>244 rows × 7 columns</p>\n",
       "</div>"
      ],
      "text/plain": [
       "     total_bill   tip     sex smoker   day    time  size\n",
       "0         16.99  1.01  Female     No   Sun  Dinner     2\n",
       "1         10.34  1.66    Male     No   Sun  Dinner     3\n",
       "2         21.01  3.50    Male     No   Sun  Dinner     3\n",
       "3         23.68  3.31    Male     No   Sun  Dinner     2\n",
       "4         24.59  3.61  Female     No   Sun  Dinner     4\n",
       "..          ...   ...     ...    ...   ...     ...   ...\n",
       "239       29.03  5.92    Male     No   Sat  Dinner     3\n",
       "240       27.18  2.00  Female    Yes   Sat  Dinner     2\n",
       "241       22.67  2.00    Male    Yes   Sat  Dinner     2\n",
       "242       17.82  1.75    Male     No   Sat  Dinner     2\n",
       "243       18.78  3.00  Female     No  Thur  Dinner     2\n",
       "\n",
       "[244 rows x 7 columns]"
      ]
     },
     "execution_count": 49,
     "metadata": {},
     "output_type": "execute_result"
    }
   ],
   "source": [
    "df"
   ]
  },
  {
   "cell_type": "code",
   "execution_count": 50,
   "metadata": {},
   "outputs": [],
   "source": [
    "# how to know the relationship b/w two features\n",
    "# correlation and covariance"
   ]
  },
  {
   "cell_type": "code",
   "execution_count": 51,
   "metadata": {},
   "outputs": [
    {
     "data": {
      "text/html": [
       "<div>\n",
       "<style scoped>\n",
       "    .dataframe tbody tr th:only-of-type {\n",
       "        vertical-align: middle;\n",
       "    }\n",
       "\n",
       "    .dataframe tbody tr th {\n",
       "        vertical-align: top;\n",
       "    }\n",
       "\n",
       "    .dataframe thead th {\n",
       "        text-align: right;\n",
       "    }\n",
       "</style>\n",
       "<table border=\"1\" class=\"dataframe\">\n",
       "  <thead>\n",
       "    <tr style=\"text-align: right;\">\n",
       "      <th></th>\n",
       "      <th>total_bill</th>\n",
       "      <th>tip</th>\n",
       "      <th>sex</th>\n",
       "      <th>smoker</th>\n",
       "      <th>day</th>\n",
       "      <th>time</th>\n",
       "      <th>size</th>\n",
       "    </tr>\n",
       "  </thead>\n",
       "  <tbody>\n",
       "    <tr>\n",
       "      <th>0</th>\n",
       "      <td>16.99</td>\n",
       "      <td>1.01</td>\n",
       "      <td>Female</td>\n",
       "      <td>No</td>\n",
       "      <td>Sun</td>\n",
       "      <td>Dinner</td>\n",
       "      <td>2</td>\n",
       "    </tr>\n",
       "    <tr>\n",
       "      <th>1</th>\n",
       "      <td>10.34</td>\n",
       "      <td>1.66</td>\n",
       "      <td>Male</td>\n",
       "      <td>No</td>\n",
       "      <td>Sun</td>\n",
       "      <td>Dinner</td>\n",
       "      <td>3</td>\n",
       "    </tr>\n",
       "    <tr>\n",
       "      <th>2</th>\n",
       "      <td>21.01</td>\n",
       "      <td>3.50</td>\n",
       "      <td>Male</td>\n",
       "      <td>No</td>\n",
       "      <td>Sun</td>\n",
       "      <td>Dinner</td>\n",
       "      <td>3</td>\n",
       "    </tr>\n",
       "    <tr>\n",
       "      <th>3</th>\n",
       "      <td>23.68</td>\n",
       "      <td>3.31</td>\n",
       "      <td>Male</td>\n",
       "      <td>No</td>\n",
       "      <td>Sun</td>\n",
       "      <td>Dinner</td>\n",
       "      <td>2</td>\n",
       "    </tr>\n",
       "    <tr>\n",
       "      <th>4</th>\n",
       "      <td>24.59</td>\n",
       "      <td>3.61</td>\n",
       "      <td>Female</td>\n",
       "      <td>No</td>\n",
       "      <td>Sun</td>\n",
       "      <td>Dinner</td>\n",
       "      <td>4</td>\n",
       "    </tr>\n",
       "    <tr>\n",
       "      <th>...</th>\n",
       "      <td>...</td>\n",
       "      <td>...</td>\n",
       "      <td>...</td>\n",
       "      <td>...</td>\n",
       "      <td>...</td>\n",
       "      <td>...</td>\n",
       "      <td>...</td>\n",
       "    </tr>\n",
       "    <tr>\n",
       "      <th>239</th>\n",
       "      <td>29.03</td>\n",
       "      <td>5.92</td>\n",
       "      <td>Male</td>\n",
       "      <td>No</td>\n",
       "      <td>Sat</td>\n",
       "      <td>Dinner</td>\n",
       "      <td>3</td>\n",
       "    </tr>\n",
       "    <tr>\n",
       "      <th>240</th>\n",
       "      <td>27.18</td>\n",
       "      <td>2.00</td>\n",
       "      <td>Female</td>\n",
       "      <td>Yes</td>\n",
       "      <td>Sat</td>\n",
       "      <td>Dinner</td>\n",
       "      <td>2</td>\n",
       "    </tr>\n",
       "    <tr>\n",
       "      <th>241</th>\n",
       "      <td>22.67</td>\n",
       "      <td>2.00</td>\n",
       "      <td>Male</td>\n",
       "      <td>Yes</td>\n",
       "      <td>Sat</td>\n",
       "      <td>Dinner</td>\n",
       "      <td>2</td>\n",
       "    </tr>\n",
       "    <tr>\n",
       "      <th>242</th>\n",
       "      <td>17.82</td>\n",
       "      <td>1.75</td>\n",
       "      <td>Male</td>\n",
       "      <td>No</td>\n",
       "      <td>Sat</td>\n",
       "      <td>Dinner</td>\n",
       "      <td>2</td>\n",
       "    </tr>\n",
       "    <tr>\n",
       "      <th>243</th>\n",
       "      <td>18.78</td>\n",
       "      <td>3.00</td>\n",
       "      <td>Female</td>\n",
       "      <td>No</td>\n",
       "      <td>Thur</td>\n",
       "      <td>Dinner</td>\n",
       "      <td>2</td>\n",
       "    </tr>\n",
       "  </tbody>\n",
       "</table>\n",
       "<p>244 rows × 7 columns</p>\n",
       "</div>"
      ],
      "text/plain": [
       "     total_bill   tip     sex smoker   day    time  size\n",
       "0         16.99  1.01  Female     No   Sun  Dinner     2\n",
       "1         10.34  1.66    Male     No   Sun  Dinner     3\n",
       "2         21.01  3.50    Male     No   Sun  Dinner     3\n",
       "3         23.68  3.31    Male     No   Sun  Dinner     2\n",
       "4         24.59  3.61  Female     No   Sun  Dinner     4\n",
       "..          ...   ...     ...    ...   ...     ...   ...\n",
       "239       29.03  5.92    Male     No   Sat  Dinner     3\n",
       "240       27.18  2.00  Female    Yes   Sat  Dinner     2\n",
       "241       22.67  2.00    Male    Yes   Sat  Dinner     2\n",
       "242       17.82  1.75    Male     No   Sat  Dinner     2\n",
       "243       18.78  3.00  Female     No  Thur  Dinner     2\n",
       "\n",
       "[244 rows x 7 columns]"
      ]
     },
     "execution_count": 51,
     "metadata": {},
     "output_type": "execute_result"
    }
   ],
   "source": [
    "df"
   ]
  },
  {
   "cell_type": "code",
   "execution_count": 54,
   "metadata": {},
   "outputs": [],
   "source": [
    "corr=df[['total_bill','tip','size']].corr()"
   ]
  },
  {
   "cell_type": "code",
   "execution_count": 55,
   "metadata": {},
   "outputs": [
    {
     "data": {
      "text/html": [
       "<div>\n",
       "<style scoped>\n",
       "    .dataframe tbody tr th:only-of-type {\n",
       "        vertical-align: middle;\n",
       "    }\n",
       "\n",
       "    .dataframe tbody tr th {\n",
       "        vertical-align: top;\n",
       "    }\n",
       "\n",
       "    .dataframe thead th {\n",
       "        text-align: right;\n",
       "    }\n",
       "</style>\n",
       "<table border=\"1\" class=\"dataframe\">\n",
       "  <thead>\n",
       "    <tr style=\"text-align: right;\">\n",
       "      <th></th>\n",
       "      <th>total_bill</th>\n",
       "      <th>tip</th>\n",
       "      <th>size</th>\n",
       "    </tr>\n",
       "  </thead>\n",
       "  <tbody>\n",
       "    <tr>\n",
       "      <th>total_bill</th>\n",
       "      <td>1.000000</td>\n",
       "      <td>0.675734</td>\n",
       "      <td>0.598315</td>\n",
       "    </tr>\n",
       "    <tr>\n",
       "      <th>tip</th>\n",
       "      <td>0.675734</td>\n",
       "      <td>1.000000</td>\n",
       "      <td>0.489299</td>\n",
       "    </tr>\n",
       "    <tr>\n",
       "      <th>size</th>\n",
       "      <td>0.598315</td>\n",
       "      <td>0.489299</td>\n",
       "      <td>1.000000</td>\n",
       "    </tr>\n",
       "  </tbody>\n",
       "</table>\n",
       "</div>"
      ],
      "text/plain": [
       "            total_bill       tip      size\n",
       "total_bill    1.000000  0.675734  0.598315\n",
       "tip           0.675734  1.000000  0.489299\n",
       "size          0.598315  0.489299  1.000000"
      ]
     },
     "execution_count": 55,
     "metadata": {},
     "output_type": "execute_result"
    }
   ],
   "source": [
    "corr"
   ]
  },
  {
   "cell_type": "code",
   "execution_count": 57,
   "metadata": {},
   "outputs": [
    {
     "data": {
      "text/html": [
       "<div>\n",
       "<style scoped>\n",
       "    .dataframe tbody tr th:only-of-type {\n",
       "        vertical-align: middle;\n",
       "    }\n",
       "\n",
       "    .dataframe tbody tr th {\n",
       "        vertical-align: top;\n",
       "    }\n",
       "\n",
       "    .dataframe thead th {\n",
       "        text-align: right;\n",
       "    }\n",
       "</style>\n",
       "<table border=\"1\" class=\"dataframe\">\n",
       "  <thead>\n",
       "    <tr style=\"text-align: right;\">\n",
       "      <th></th>\n",
       "      <th>total_bill</th>\n",
       "      <th>tip</th>\n",
       "      <th>size</th>\n",
       "    </tr>\n",
       "  </thead>\n",
       "  <tbody>\n",
       "    <tr>\n",
       "      <th>total_bill</th>\n",
       "      <td>1.000000</td>\n",
       "      <td>0.675734</td>\n",
       "      <td>0.598315</td>\n",
       "    </tr>\n",
       "    <tr>\n",
       "      <th>tip</th>\n",
       "      <td>0.675734</td>\n",
       "      <td>1.000000</td>\n",
       "      <td>0.489299</td>\n",
       "    </tr>\n",
       "    <tr>\n",
       "      <th>size</th>\n",
       "      <td>0.598315</td>\n",
       "      <td>0.489299</td>\n",
       "      <td>1.000000</td>\n",
       "    </tr>\n",
       "  </tbody>\n",
       "</table>\n",
       "</div>"
      ],
      "text/plain": [
       "            total_bill       tip      size\n",
       "total_bill    1.000000  0.675734  0.598315\n",
       "tip           0.675734  1.000000  0.489299\n",
       "size          0.598315  0.489299  1.000000"
      ]
     },
     "execution_count": 57,
     "metadata": {},
     "output_type": "execute_result"
    }
   ],
   "source": [
    "df.corr(numeric_only=True)"
   ]
  },
  {
   "cell_type": "code",
   "execution_count": 58,
   "metadata": {},
   "outputs": [],
   "source": [
    "# if there is one unit change in total bill then there is 67 percent chance that tip will also incearse in tip"
   ]
  },
  {
   "cell_type": "code",
   "execution_count": 59,
   "metadata": {},
   "outputs": [
    {
     "data": {
      "text/plain": [
       "<Axes: >"
      ]
     },
     "execution_count": 59,
     "metadata": {},
     "output_type": "execute_result"
    },
    {
     "data": {
      "image/png": "[encoded data removed]",
      "text/plain": [
       "<Figure size 640x480 with 2 Axes>"
      ]
     },
     "metadata": {},
     "output_type": "display_data"
    }
   ],
   "source": [
    "sns.heatmap(corr,annot=True)"
   ]
  },
  {
   "cell_type": "code",
   "execution_count": 60,
   "metadata": {},
   "outputs": [
    {
     "data": {
      "text/html": [
       "<div>\n",
       "<style scoped>\n",
       "    .dataframe tbody tr th:only-of-type {\n",
       "        vertical-align: middle;\n",
       "    }\n",
       "\n",
       "    .dataframe tbody tr th {\n",
       "        vertical-align: top;\n",
       "    }\n",
       "\n",
       "    .dataframe thead th {\n",
       "        text-align: right;\n",
       "    }\n",
       "</style>\n",
       "<table border=\"1\" class=\"dataframe\">\n",
       "  <thead>\n",
       "    <tr style=\"text-align: right;\">\n",
       "      <th></th>\n",
       "      <th>total_bill</th>\n",
       "      <th>tip</th>\n",
       "      <th>size</th>\n",
       "    </tr>\n",
       "  </thead>\n",
       "  <tbody>\n",
       "    <tr>\n",
       "      <th>total_bill</th>\n",
       "      <td>79.252939</td>\n",
       "      <td>8.323502</td>\n",
       "      <td>5.065983</td>\n",
       "    </tr>\n",
       "    <tr>\n",
       "      <th>tip</th>\n",
       "      <td>8.323502</td>\n",
       "      <td>1.914455</td>\n",
       "      <td>0.643906</td>\n",
       "    </tr>\n",
       "    <tr>\n",
       "      <th>size</th>\n",
       "      <td>5.065983</td>\n",
       "      <td>0.643906</td>\n",
       "      <td>0.904591</td>\n",
       "    </tr>\n",
       "  </tbody>\n",
       "</table>\n",
       "</div>"
      ],
      "text/plain": [
       "            total_bill       tip      size\n",
       "total_bill   79.252939  8.323502  5.065983\n",
       "tip           8.323502  1.914455  0.643906\n",
       "size          5.065983  0.643906  0.904591"
      ]
     },
     "execution_count": 60,
     "metadata": {},
     "output_type": "execute_result"
    }
   ],
   "source": [
    "df.cov(numeric_only=True)"
   ]
  },
  {
   "cell_type": "code",
   "execution_count": 61,
   "metadata": {},
   "outputs": [
    {
     "name": "stderr",
     "output_type": "stream",
     "text": [
      "c:\\ProgramData\\anaconda3\\Lib\\site-packages\\seaborn\\axisgrid.py:118: UserWarning: The figure layout has changed to tight\n",
      "  self._figure.tight_layout(*args, **kwargs)\n"
     ]
    },
    {
     "data": {
      "text/plain": [
       "<seaborn.axisgrid.PairGrid at 0x2396c17c950>"
      ]
     },
     "execution_count": 61,
     "metadata": {},
     "output_type": "execute_result"
    },
    {
     "data": {
      "image/png": "[encoded data removed]",
      "text/plain": [
       "<Figure size 750x750 with 12 Axes>"
      ]
     },
     "metadata": {},
     "output_type": "display_data"
    }
   ],
   "source": [
    "sns.pairplot(df)"
   ]
  },
  {
   "cell_type": "code",
   "execution_count": 63,
   "metadata": {},
   "outputs": [
    {
     "data": {
      "text/plain": [
       "<Axes: ylabel='Count'>"
      ]
     },
     "execution_count": 63,
     "metadata": {},
     "output_type": "execute_result"
    },
    {
     "data": {
      "image/png": "[encoded data removed]",
      "text/plain": [
       "<Figure size 640x480 with 1 Axes>"
      ]
     },
     "metadata": {},
     "output_type": "display_data"
    }
   ],
   "source": [
    "sns.histplot(data)"
   ]
  },
  {
   "cell_type": "code",
   "execution_count": 64,
   "metadata": {},
   "outputs": [
    {
     "data": {
      "text/plain": [
       "<Axes: ylabel='Count'>"
      ]
     },
     "execution_count": 64,
     "metadata": {},
     "output_type": "execute_result"
    },
    {
     "data": {
      "image/png": "[encoded data removed]",
      "text/plain": [
       "<Figure size 640x480 with 1 Axes>"
      ]
     },
     "metadata": {},
     "output_type": "display_data"
    }
   ],
   "source": [
    "sns.histplot(data,kde=True)"
   ]
  },
  {
   "cell_type": "code",
   "execution_count": 65,
   "metadata": {},
   "outputs": [
    {
     "data": {
      "text/plain": [
       "<Axes: xlabel='total_bill', ylabel='Count'>"
      ]
     },
     "execution_count": 65,
     "metadata": {},
     "output_type": "execute_result"
    },
    {
     "data": {
      "image/png": "[encoded data removed]",
      "text/plain": [
       "<Figure size 640x480 with 1 Axes>"
      ]
     },
     "metadata": {},
     "output_type": "display_data"
    }
   ],
   "source": [
    "sns.histplot(df['total_bill'])"
   ]
  },
  {
   "cell_type": "code",
   "execution_count": 66,
   "metadata": {},
   "outputs": [
    {
     "data": {
      "text/plain": [
       "<Axes: xlabel='total_bill', ylabel='Count'>"
      ]
     },
     "execution_count": 66,
     "metadata": {},
     "output_type": "execute_result"
    },
    {
     "data": {
      "image/png": "[encoded data removed]",
      "text/plain": [
       "<Figure size 640x480 with 1 Axes>"
      ]
     },
     "metadata": {},
     "output_type": "display_data"
    }
   ],
   "source": [
    "sns.histplot(df['total_bill'],kde=True)"
   ]
  },
  {
   "cell_type": "code",
   "execution_count": 70,
   "metadata": {},
   "outputs": [],
   "source": [
    "data1 = np.random.normal(0.5,0.2,1000)"
   ]
  },
  {
   "cell_type": "code",
   "execution_count": 71,
   "metadata": {},
   "outputs": [
    {
     "name": "stderr",
     "output_type": "stream",
     "text": [
      "c:\\ProgramData\\anaconda3\\Lib\\site-packages\\seaborn\\axisgrid.py:118: UserWarning: The figure layout has changed to tight\n",
      "  self._figure.tight_layout(*args, **kwargs)\n"
     ]
    },
    {
     "data": {
      "text/plain": [
       "<seaborn.axisgrid.FacetGrid at 0x2397028a750>"
      ]
     },
     "execution_count": 71,
     "metadata": {},
     "output_type": "execute_result"
    },
    {
     "data": {
      "image/png": "[encoded data removed]",
      "text/plain": [
       "<Figure size 500x500 with 1 Axes>"
      ]
     },
     "metadata": {},
     "output_type": "display_data"
    }
   ],
   "source": [
    "sns.displot(data1)"
   ]
  },
  {
   "cell_type": "code",
   "execution_count": 73,
   "metadata": {},
   "outputs": [],
   "source": [
    "population=np.random.randint(10,20,50)"
   ]
  },
  {
   "cell_type": "code",
   "execution_count": 74,
   "metadata": {},
   "outputs": [
    {
     "data": {
      "text/plain": [
       "array([11, 16, 10, 14, 10, 14, 17, 16, 10, 17, 16, 12, 14, 14, 18, 18, 15,\n",
       "       15, 19, 19, 13, 15, 12, 13, 16, 14, 17, 11, 10, 14, 16, 11, 13, 10,\n",
       "       13, 13, 11, 17, 15, 15, 13, 16, 19, 19, 14, 13, 13, 19, 10, 15])"
      ]
     },
     "execution_count": 74,
     "metadata": {},
     "output_type": "execute_result"
    }
   ],
   "source": [
    "population"
   ]
  },
  {
   "cell_type": "code",
   "execution_count": 75,
   "metadata": {},
   "outputs": [
    {
     "data": {
      "text/plain": [
       "50"
      ]
     },
     "execution_count": 75,
     "metadata": {},
     "output_type": "execute_result"
    }
   ],
   "source": [
    "len(population)"
   ]
  },
  {
   "cell_type": "code",
   "execution_count": 76,
   "metadata": {},
   "outputs": [
    {
     "data": {
      "text/plain": [
       "13"
      ]
     },
     "execution_count": 76,
     "metadata": {},
     "output_type": "execute_result"
    }
   ],
   "source": [
    "statistics.mode(population)"
   ]
  },
  {
   "cell_type": "code",
   "execution_count": 77,
   "metadata": {},
   "outputs": [
    {
     "data": {
      "text/plain": [
       "14.3"
      ]
     },
     "execution_count": 77,
     "metadata": {},
     "output_type": "execute_result"
    }
   ],
   "source": [
    "np.mean(population)"
   ]
  },
  {
   "cell_type": "code",
   "execution_count": 78,
   "metadata": {},
   "outputs": [],
   "source": [
    "sample1=np.random.choice(population,20)\n",
    "sample2=np.random.choice(population,20)\n",
    "sample3=np.random.choice(population,20)\n",
    "sample4=np.random.choice(population,20)"
   ]
  },
  {
   "cell_type": "code",
   "execution_count": 79,
   "metadata": {},
   "outputs": [
    {
     "data": {
      "text/plain": [
       "array([12, 13, 13, 11, 18, 10, 13, 14, 19, 10, 17, 15, 12, 15, 14, 19, 14,\n",
       "       12, 15, 14])"
      ]
     },
     "execution_count": 79,
     "metadata": {},
     "output_type": "execute_result"
    }
   ],
   "source": [
    "sample1"
   ]
  },
  {
   "cell_type": "code",
   "execution_count": 80,
   "metadata": {},
   "outputs": [
    {
     "data": {
      "text/plain": [
       "array([18, 11, 15, 10, 13, 15, 12, 14, 11, 10, 16, 11, 16, 13, 11, 14, 10,\n",
       "       17, 16, 19])"
      ]
     },
     "execution_count": 80,
     "metadata": {},
     "output_type": "execute_result"
    }
   ],
   "source": [
    "sample2"
   ]
  },
  {
   "cell_type": "code",
   "execution_count": 88,
   "metadata": {},
   "outputs": [],
   "source": [
    "mean_of_samples=[],sample4\n",
    "all_samples=[sample1,sample2,sample3,sample4]\n",
    "\n",
    "    \n"
   ]
  },
  {
   "cell_type": "code",
   "execution_count": 89,
   "metadata": {},
   "outputs": [
    {
     "data": {
      "text/plain": [
       "([],\n",
       " array([12, 16, 16, 16, 10, 13, 14, 14, 14, 15, 19, 18, 11, 16, 13, 12, 17,\n",
       "        16, 11, 16]))"
      ]
     },
     "execution_count": 89,
     "metadata": {},
     "output_type": "execute_result"
    }
   ],
   "source": [
    "mean_of_samples"
   ]
  },
  {
   "cell_type": "code",
   "execution_count": 90,
   "metadata": {},
   "outputs": [],
   "source": [
    "# central limit theorem >> the sample mean will be approxmated to normal distrubtion  given sample  size >=30 and no of samples should be sufficently large "
   ]
  },
  {
   "cell_type": "code",
   "execution_count": 91,
   "metadata": {},
   "outputs": [],
   "source": [
    "population=np.random.binomial(10,0.5,1000)"
   ]
  },
  {
   "cell_type": "code",
   "execution_count": 92,
   "metadata": {},
   "outputs": [
    {
     "data": {
      "text/plain": [
       "array([6, 5, 5, 6, 6, 4, 3, 3, 6, 6, 7, 4, 5, 5, 6, 3, 4, 4, 3, 6, 6, 3,\n",
       "       6, 6, 5, 5, 5, 5, 5, 6, 4, 5, 5, 7, 6, 5, 4, 5, 6, 8, 8, 6, 4, 2,\n",
       "       6, 3, 2, 6, 3, 9, 3, 6, 6, 7, 5, 6, 4, 4, 6, 4, 7, 3, 6, 6, 2, 4,\n",
       "       1, 5, 7, 5, 2, 6, 4, 4, 6, 2, 4, 4, 7, 3, 3, 7, 6, 3, 4, 3, 5, 5,\n",
       "       6, 7, 5, 5, 6, 7, 3, 4, 4, 5, 7, 3, 6, 4, 6, 4, 3, 6, 6, 7, 4, 5,\n",
       "       6, 4, 5, 8, 3, 4, 4, 3, 4, 7, 5, 6, 6, 6, 7, 5, 5, 6, 6, 4, 6, 6,\n",
       "       6, 6, 5, 5, 3, 7, 4, 2, 5, 4, 2, 7, 5, 3, 6, 2, 6, 5, 6, 5, 5, 5,\n",
       "       6, 2, 4, 5, 6, 5, 3, 4, 5, 8, 6, 5, 6, 2, 5, 3, 5, 4, 6, 3, 3, 5,\n",
       "       3, 4, 8, 5, 3, 5, 7, 3, 5, 5, 6, 4, 4, 7, 4, 6, 4, 4, 3, 4, 5, 6,\n",
       "       3, 5, 6, 3, 5, 5, 7, 5, 4, 6, 4, 6, 4, 5, 7, 6, 6, 4, 3, 7, 8, 6,\n",
       "       4, 4, 5, 4, 5, 6, 5, 9, 6, 7, 4, 4, 5, 4, 4, 4, 6, 5, 5, 4, 6, 6,\n",
       "       6, 6, 7, 2, 6, 3, 6, 4, 6, 7, 6, 2, 6, 4, 6, 6, 5, 4, 2, 2, 5, 4,\n",
       "       6, 6, 4, 5, 6, 6, 6, 6, 6, 7, 7, 5, 6, 5, 5, 5, 7, 7, 3, 6, 6, 6,\n",
       "       2, 3, 8, 3, 5, 7, 4, 2, 6, 6, 7, 6, 5, 2, 6, 5, 5, 4, 6, 6, 5, 6,\n",
       "       4, 6, 5, 4, 6, 5, 3, 5, 5, 4, 7, 5, 5, 6, 7, 6, 6, 7, 6, 1, 4, 5,\n",
       "       7, 8, 7, 6, 6, 3, 6, 4, 4, 6, 8, 4, 4, 7, 4, 3, 7, 4, 5, 8, 7, 5,\n",
       "       6, 5, 3, 7, 4, 7, 5, 4, 6, 6, 4, 4, 2, 5, 5, 3, 6, 4, 5, 3, 5, 6,\n",
       "       4, 4, 3, 8, 3, 2, 6, 6, 6, 9, 4, 6, 6, 7, 5, 6, 6, 6, 5, 2, 4, 5,\n",
       "       5, 5, 4, 5, 4, 1, 4, 6, 3, 7, 4, 4, 6, 4, 2, 6, 2, 5, 4, 7, 6, 7,\n",
       "       6, 2, 5, 6, 5, 6, 5, 8, 4, 4, 5, 5, 5, 3, 8, 9, 5, 5, 5, 5, 7, 5,\n",
       "       8, 5, 4, 4, 5, 7, 4, 6, 3, 7, 6, 5, 6, 9, 3, 6, 6, 6, 5, 4, 6, 5,\n",
       "       3, 2, 3, 4, 3, 5, 4, 7, 5, 7, 4, 7, 6, 7, 7, 7, 8, 4, 7, 3, 7, 2,\n",
       "       6, 2, 3, 5, 5, 4, 4, 7, 3, 4, 5, 6, 4, 4, 6, 4, 5, 8, 5, 5, 5, 5,\n",
       "       4, 6, 9, 6, 8, 6, 4, 5, 6, 5, 5, 8, 5, 4, 5, 3, 6, 6, 5, 8, 5, 3,\n",
       "       5, 5, 5, 7, 7, 2, 4, 4, 7, 5, 5, 6, 5, 6, 8, 3, 6, 3, 5, 3, 6, 5,\n",
       "       4, 5, 3, 6, 6, 7, 4, 5, 4, 7, 7, 4, 4, 4, 5, 6, 5, 7, 2, 4, 5, 4,\n",
       "       7, 6, 4, 7, 5, 3, 4, 5, 4, 3, 5, 4, 4, 4, 5, 6, 6, 6, 3, 5, 7, 3,\n",
       "       6, 7, 3, 7, 5, 5, 4, 8, 3, 5, 4, 6, 5, 6, 3, 7, 7, 3, 4, 6, 5, 6,\n",
       "       5, 7, 5, 5, 8, 3, 4, 5, 4, 4, 6, 5, 2, 4, 5, 6, 5, 3, 5, 6, 5, 6,\n",
       "       7, 1, 7, 6, 6, 3, 8, 2, 4, 7, 6, 3, 5, 4, 7, 3, 6, 4, 5, 3, 4, 3,\n",
       "       4, 4, 6, 8, 7, 3, 6, 7, 8, 3, 6, 3, 2, 7, 6, 5, 7, 6, 6, 6, 5, 3,\n",
       "       7, 6, 7, 5, 5, 5, 5, 2, 5, 7, 5, 6, 5, 4, 4, 4, 7, 6, 4, 6, 4, 5,\n",
       "       4, 4, 5, 6, 4, 5, 7, 4, 5, 2, 3, 3, 4, 4, 6, 7, 3, 7, 7, 3, 6, 3,\n",
       "       8, 5, 7, 8, 3, 5, 3, 5, 5, 6, 6, 7, 5, 6, 6, 5, 7, 5, 6, 6, 5, 5,\n",
       "       4, 7, 6, 6, 5, 8, 7, 5, 4, 7, 2, 4, 6, 7, 5, 5, 5, 5, 7, 4, 3, 5,\n",
       "       5, 3, 6, 5, 7, 7, 4, 7, 3, 5, 5, 5, 7, 3, 6, 8, 5, 7, 4, 2, 4, 5,\n",
       "       4, 5, 6, 4, 3, 3, 6, 4, 7, 4, 3, 5, 6, 3, 4, 3, 6, 7, 3, 5, 4, 4,\n",
       "       6, 4, 3, 8, 7, 3, 4, 6, 5, 2, 6, 3, 6, 4, 7, 5, 4, 7, 2, 3, 4, 7,\n",
       "       4, 6, 6, 4, 6, 5, 6, 5, 3, 7, 4, 1, 4, 4, 8, 5, 5, 4, 6, 6, 4, 6,\n",
       "       3, 7, 7, 6, 2, 4, 6, 3, 8, 2, 7, 3, 5, 7, 6, 9, 7, 7, 5, 5, 4, 4,\n",
       "       4, 6, 4, 6, 4, 2, 6, 5, 6, 4, 5, 7, 4, 4, 4, 5, 6, 5, 8, 8, 6, 2,\n",
       "       6, 5, 5, 5, 6, 6, 4, 6, 5, 6, 4, 6, 5, 4, 4, 3, 5, 6, 6, 7, 7, 6,\n",
       "       6, 5, 6, 5, 7, 6, 4, 7, 5, 6, 4, 6, 3, 6, 4, 5, 4, 9, 2, 2, 4, 3,\n",
       "       6, 4, 3, 4, 5, 3, 6, 4, 6, 6, 5, 5, 8, 4, 5, 6, 7, 4, 3, 5, 4, 5,\n",
       "       7, 7, 4, 3, 7, 6, 5, 1, 3, 4, 4, 6, 8, 4, 4, 5, 5, 5, 6, 4, 6, 5,\n",
       "       6, 5, 2, 8, 6, 7, 5, 4, 3, 4])"
      ]
     },
     "execution_count": 92,
     "metadata": {},
     "output_type": "execute_result"
    }
   ],
   "source": [
    "population"
   ]
  },
  {
   "cell_type": "code",
   "execution_count": 94,
   "metadata": {},
   "outputs": [
    {
     "name": "stderr",
     "output_type": "stream",
     "text": [
      "C:\\Users\\Admin\\AppData\\Local\\Temp\\ipykernel_13232\\2958836585.py:1: UserWarning: \n",
      "\n",
      "`distplot` is a deprecated function and will be removed in seaborn v0.14.0.\n",
      "\n",
      "Please adapt your code to use either `displot` (a figure-level function with\n",
      "similar flexibility) or `histplot` (an axes-level function for histograms).\n",
      "\n",
      "For a guide to updating your code to use the new functions, please see\n",
      "https://gist.github.com/mwaskom/de44147ed2974457ad6372750bbe5751\n",
      "\n",
      "  sns.distplot(population)\n"
     ]
    },
    {
     "data": {
      "text/plain": [
       "<Axes: ylabel='Density'>"
      ]
     },
     "execution_count": 94,
     "metadata": {},
     "output_type": "execute_result"
    },
    {
     "data": {
      "image/png": "[encoded data removed]",
      "text/plain": [
       "<Figure size 640x480 with 1 Axes>"
      ]
     },
     "metadata": {},
     "output_type": "display_data"
    }
   ],
   "source": [
    "sns.distplot(population)"
   ]
  },
  {
   "cell_type": "code",
   "execution_count": 96,
   "metadata": {},
   "outputs": [],
   "source": [
    "sample_size=3000\n",
    "\n",
    "mean_of_samples=[]\n",
    "\n",
    "for i in range(1,10000):\n",
    "    sample=np.random.choice(population,size=sample_size)\n",
    "    mean_of_samples.append(np.mean(sample))\n",
    "\n",
    "                                                                                                           "
   ]
  },
  {
   "cell_type": "code",
   "execution_count": 99,
   "metadata": {},
   "outputs": [
    {
     "name": "stderr",
     "output_type": "stream",
     "text": [
      "C:\\Users\\Admin\\AppData\\Local\\Temp\\ipykernel_13232\\122225809.py:1: UserWarning: \n",
      "\n",
      "`distplot` is a deprecated function and will be removed in seaborn v0.14.0.\n",
      "\n",
      "Please adapt your code to use either `displot` (a figure-level function with\n",
      "similar flexibility) or `histplot` (an axes-level function for histograms).\n",
      "\n",
      "For a guide to updating your code to use the new functions, please see\n",
      "https://gist.github.com/mwaskom/de44147ed2974457ad6372750bbe5751\n",
      "\n",
      "  sns.distplot(mean_of_samples,kde=True)\n"
     ]
    },
    {
     "data": {
      "text/plain": [
       "<Axes: ylabel='Density'>"
      ]
     },
     "execution_count": 99,
     "metadata": {},
     "output_type": "execute_result"
    },
    {
     "data": {
      "image/png": "[encoded data removed]",
      "text/plain": [
       "<Figure size 640x480 with 1 Axes>"
      ]
     },
     "metadata": {},
     "output_type": "display_data"
    }
   ],
   "source": [
    "sns.distplot(mean_of_samples,kde=True)"
   ]
  },
  {
   "cell_type": "code",
   "execution_count": 100,
   "metadata": {},
   "outputs": [
    {
     "name": "stderr",
     "output_type": "stream",
     "text": [
      "C:\\Users\\Admin\\AppData\\Local\\Temp\\ipykernel_13232\\1816764095.py:1: UserWarning: \n",
      "\n",
      "`distplot` is a deprecated function and will be removed in seaborn v0.14.0.\n",
      "\n",
      "Please adapt your code to use either `displot` (a figure-level function with\n",
      "similar flexibility) or `histplot` (an axes-level function for histograms).\n",
      "\n",
      "For a guide to updating your code to use the new functions, please see\n",
      "https://gist.github.com/mwaskom/de44147ed2974457ad6372750bbe5751\n",
      "\n",
      "  sns.distplot(mean_of_samples,kde=True,color='blue')\n"
     ]
    },
    {
     "data": {
      "text/plain": [
       "<Axes: ylabel='Density'>"
      ]
     },
     "execution_count": 100,
     "metadata": {},
     "output_type": "execute_result"
    },
    {
     "data": {
      "image/png": "[encoded data removed]",
      "text/plain": [
       "<Figure size 640x480 with 1 Axes>"
      ]
     },
     "metadata": {},
     "output_type": "display_data"
    }
   ],
   "source": [
    "sns.distplot(mean_of_samples,kde=True,color='blue')"
   ]
  },
  {
   "cell_type": "code",
   "execution_count": 101,
   "metadata": {},
   "outputs": [
    {
     "data": {
      "text/plain": [
       "[5.025666666666667,\n",
       " 5.0183333333333335,\n",
       " 5.101,\n",
       " 5.0183333333333335,\n",
       " 5.052,\n",
       " 5.009666666666667,\n",
       " 5.015333333333333,\n",
       " 5.052,\n",
       " 5.053333333333334,\n",
       " 5.042,\n",
       " 5.078333333333333,\n",
       " 5.026,\n",
       " 5.035333333333333,\n",
       " 5.035333333333333,\n",
       " 5.058,\n",
       " 5.066333333333334,\n",
       " 5.075333333333333,\n",
       " 5.049333333333333,\n",
       " 5.024333333333334,\n",
       " 5.015333333333333,\n",
       " 5.022666666666667,\n",
       " 5.042333333333334,\n",
       " 5.057666666666667,\n",
       " 5.033,\n",
       " 5.076333333333333,\n",
       " 5.005333333333334,\n",
       " 5.080333333333333,\n",
       " 4.999666666666666,\n",
       " 5.046,\n",
       " 5.072,\n",
       " 5.030666666666667,\n",
       " 5.080666666666667,\n",
       " 5.062333333333333,\n",
       " 5.036,\n",
       " 5.031,\n",
       " 5.062333333333333,\n",
       " 5.050333333333334,\n",
       " 5.060333333333333,\n",
       " 5.016333333333334,\n",
       " 5.078,\n",
       " 5.072,\n",
       " 5.058666666666666,\n",
       " 5.086666666666667,\n",
       " 5.062333333333333,\n",
       " 5.033666666666667,\n",
       " 5.0296666666666665,\n",
       " 5.038,\n",
       " 5.004333333333333,\n",
       " 5.028,\n",
       " 5.039333333333333,\n",
       " 5.0376666666666665,\n",
       " 5.039333333333333,\n",
       " 5.013,\n",
       " 5.0263333333333335,\n",
       " 5.039666666666666,\n",
       " 5.075333333333333,\n",
       " 5.063666666666666,\n",
       " 5.017333333333333,\n",
       " 5.078,\n",
       " 4.995,\n",
       " 5.032666666666667,\n",
       " 5.035333333333333,\n",
       " 5.042,\n",
       " 5.055,\n",
       " 5.0616666666666665,\n",
       " 5.000333333333334,\n",
       " 5.027666666666667,\n",
       " 5.084666666666666,\n",
       " 5.05,\n",
       " 4.993666666666667,\n",
       " 5.032,\n",
       " 5.065666666666667,\n",
       " 5.072666666666667,\n",
       " 5.062333333333333,\n",
       " 5.077,\n",
       " 5.025666666666667,\n",
       " 5.057666666666667,\n",
       " 5.070666666666667,\n",
       " 5.016,\n",
       " 5.04,\n",
       " 5.041,\n",
       " 4.990333333333333,\n",
       " 5.037,\n",
       " 5.081,\n",
       " 5.020666666666667,\n",
       " 5.018666666666666,\n",
       " 4.996333333333333,\n",
       " 5.048333333333333,\n",
       " 5.051333333333333,\n",
       " 5.034666666666666,\n",
       " 5.059,\n",
       " 4.995,\n",
       " 5.107,\n",
       " 5.04,\n",
       " 5.039333333333333,\n",
       " 5.078,\n",
       " 4.992,\n",
       " 5.001666666666667,\n",
       " 5.036666666666667,\n",
       " 5.030666666666667,\n",
       " 5.048666666666667,\n",
       " 5.020333333333333,\n",
       " 5.013,\n",
       " 5.022666666666667,\n",
       " 5.039666666666666,\n",
       " 5.100333333333333,\n",
       " 5.004666666666667,\n",
       " 4.988,\n",
       " 5.073666666666667,\n",
       " 5.132,\n",
       " 5.034,\n",
       " 5.005333333333334,\n",
       " 5.036666666666667,\n",
       " 5.044666666666667,\n",
       " 5.057666666666667,\n",
       " 5.048333333333333,\n",
       " 5.09,\n",
       " 5.049333333333333,\n",
       " 5.062666666666667,\n",
       " 5.012333333333333,\n",
       " 5.058666666666666,\n",
       " 5.003,\n",
       " 5.023666666666666,\n",
       " 5.016333333333334,\n",
       " 5.030666666666667,\n",
       " 5.030666666666667,\n",
       " 4.999333333333333,\n",
       " 5.036333333333333,\n",
       " 5.048,\n",
       " 5.031333333333333,\n",
       " 4.999666666666666,\n",
       " 5.038333333333333,\n",
       " 5.007666666666666,\n",
       " 5.048333333333333,\n",
       " 5.040666666666667,\n",
       " 5.037333333333334,\n",
       " 5.025666666666667,\n",
       " 5.000333333333334,\n",
       " 5.020333333333333,\n",
       " 5.026,\n",
       " 5.016,\n",
       " 5.096666666666667,\n",
       " 5.066333333333334,\n",
       " 5.051666666666667,\n",
       " 5.030333333333333,\n",
       " 5.0696666666666665,\n",
       " 5.042,\n",
       " 5.072333333333333,\n",
       " 4.9943333333333335,\n",
       " 5.028,\n",
       " 5.041333333333333,\n",
       " 5.007666666666666,\n",
       " 5.069,\n",
       " 5.050666666666666,\n",
       " 5.029333333333334,\n",
       " 5.010666666666666,\n",
       " 4.992333333333334,\n",
       " 5.080333333333333,\n",
       " 5.058333333333334,\n",
       " 5.067,\n",
       " 5.052,\n",
       " 5.023666666666666,\n",
       " 5.027333333333333,\n",
       " 5.052333333333333,\n",
       " 5.104333333333333,\n",
       " 5.058666666666666,\n",
       " 5.046,\n",
       " 5.018666666666666,\n",
       " 5.0136666666666665,\n",
       " 5.027,\n",
       " 5.049,\n",
       " 5.046,\n",
       " 5.006,\n",
       " 5.028,\n",
       " 5.0473333333333334,\n",
       " 5.031333333333333,\n",
       " 5.031,\n",
       " 4.997,\n",
       " 5.057333333333333,\n",
       " 5.015666666666666,\n",
       " 5.062333333333333,\n",
       " 5.036,\n",
       " 5.073333333333333,\n",
       " 5.093,\n",
       " 5.029333333333334,\n",
       " 5.075333333333333,\n",
       " 5.044333333333333,\n",
       " 5.014,\n",
       " 5.001666666666667,\n",
       " 5.108,\n",
       " 5.039666666666666,\n",
       " 5.068,\n",
       " 5.026,\n",
       " 5.065666666666667,\n",
       " 5.091333333333333,\n",
       " 5.04,\n",
       " 4.998,\n",
       " 5.091333333333333,\n",
       " 5.018,\n",
       " 5.057333333333333,\n",
       " 5.014,\n",
       " 5.059333333333333,\n",
       " 4.9943333333333335,\n",
       " 5.078666666666667,\n",
       " 5.023333333333333,\n",
       " 5.045,\n",
       " 5.038333333333333,\n",
       " 5.015,\n",
       " 5.050333333333334,\n",
       " 5.013,\n",
       " 5.021333333333334,\n",
       " 5.0713333333333335,\n",
       " 4.9896666666666665,\n",
       " 5.046666666666667,\n",
       " 5.051333333333333,\n",
       " 4.998,\n",
       " 5.009666666666667,\n",
       " 5.073,\n",
       " 5.012666666666667,\n",
       " 5.051,\n",
       " 5.030333333333333,\n",
       " 5.0343333333333335,\n",
       " 5.113,\n",
       " 5.037333333333334,\n",
       " 5.048,\n",
       " 5.043,\n",
       " 5.073333333333333,\n",
       " 5.050666666666666,\n",
       " 5.056666666666667,\n",
       " 5.0183333333333335,\n",
       " 5.0136666666666665,\n",
       " 5.059333333333333,\n",
       " 5.002666666666666,\n",
       " 4.991,\n",
       " 5.059333333333333,\n",
       " 5.026,\n",
       " 5.050666666666666,\n",
       " 5.047666666666666,\n",
       " 5.038333333333333,\n",
       " 5.083666666666667,\n",
       " 5.038666666666667,\n",
       " 5.082333333333334,\n",
       " 5.012333333333333,\n",
       " 5.068,\n",
       " 5.05,\n",
       " 5.057666666666667,\n",
       " 5.052,\n",
       " 5.060666666666667,\n",
       " 5.037333333333334,\n",
       " 5.004,\n",
       " 5.036666666666667,\n",
       " 5.097666666666667,\n",
       " 5.041333333333333,\n",
       " 5.051,\n",
       " 5.068666666666667,\n",
       " 5.052333333333333,\n",
       " 5.023333333333333,\n",
       " 5.040666666666667,\n",
       " 5.061333333333334,\n",
       " 5.051,\n",
       " 5.072,\n",
       " 5.048,\n",
       " 5.049333333333333,\n",
       " 5.033666666666667,\n",
       " 5.043,\n",
       " 5.028,\n",
       " 5.066333333333334,\n",
       " 5.093,\n",
       " 4.982333333333333,\n",
       " 5.057666666666667,\n",
       " 5.031,\n",
       " 5.072,\n",
       " 5.105333333333333,\n",
       " 4.996666666666667,\n",
       " 5.0216666666666665,\n",
       " 5.003,\n",
       " 5.036333333333333,\n",
       " 5.014666666666667,\n",
       " 5.085333333333334,\n",
       " 5.039,\n",
       " 5.046,\n",
       " 5.0536666666666665,\n",
       " 5.022,\n",
       " 5.082,\n",
       " 5.014666666666667,\n",
       " 4.979666666666667,\n",
       " 5.035333333333333,\n",
       " 5.053,\n",
       " 5.033666666666667,\n",
       " 5.105666666666667,\n",
       " 5.042,\n",
       " 5.065333333333333,\n",
       " 5.028,\n",
       " 5.025333333333333,\n",
       " 5.082,\n",
       " 5.062666666666667,\n",
       " 5.100333333333333,\n",
       " 5.085333333333334,\n",
       " 5.008666666666667,\n",
       " 5.0216666666666665,\n",
       " 5.004666666666667,\n",
       " 5.059666666666667,\n",
       " 5.033,\n",
       " 5.068,\n",
       " 4.997,\n",
       " 5.078666666666667,\n",
       " 5.021,\n",
       " 5.044,\n",
       " 4.983333333333333,\n",
       " 5.048666666666667,\n",
       " 5.035666666666667,\n",
       " 4.993666666666667,\n",
       " 5.09,\n",
       " 5.028333333333333,\n",
       " 5.0553333333333335,\n",
       " 5.075666666666667,\n",
       " 5.041,\n",
       " 5.059333333333333,\n",
       " 5.070333333333333,\n",
       " 5.079666666666666,\n",
       " 5.011333333333333,\n",
       " 5.073666666666667,\n",
       " 5.059,\n",
       " 5.0696666666666665,\n",
       " 5.031333333333333,\n",
       " 5.034,\n",
       " 5.053,\n",
       " 5.072666666666667,\n",
       " 5.062333333333333,\n",
       " 5.015666666666666,\n",
       " 5.0616666666666665,\n",
       " 5.054333333333333,\n",
       " 5.055,\n",
       " 4.982,\n",
       " 4.9976666666666665,\n",
       " 4.999,\n",
       " 5.049333333333333,\n",
       " 5.052333333333333,\n",
       " 5.019666666666667,\n",
       " 5.0136666666666665,\n",
       " 5.044333333333333,\n",
       " 5.051666666666667,\n",
       " 5.005,\n",
       " 5.039333333333333,\n",
       " 5.017333333333333,\n",
       " 5.053,\n",
       " 5.056333333333333,\n",
       " 5.048333333333333,\n",
       " 5.049666666666667,\n",
       " 5.027,\n",
       " 5.063666666666666,\n",
       " 5.028,\n",
       " 5.1,\n",
       " 5.035666666666667,\n",
       " 5.042666666666666,\n",
       " 5.048333333333333,\n",
       " 5.049333333333333,\n",
       " 5.045,\n",
       " 5.031666666666666,\n",
       " 5.081333333333333,\n",
       " 4.999,\n",
       " 5.033666666666667,\n",
       " 4.991,\n",
       " 5.080666666666667,\n",
       " 4.996666666666667,\n",
       " 5.015333333333333,\n",
       " 5.075666666666667,\n",
       " 5.067333333333333,\n",
       " 5.018,\n",
       " 5.068333333333333,\n",
       " 5.035,\n",
       " 5.0616666666666665,\n",
       " 5.044666666666667,\n",
       " 5.0473333333333334,\n",
       " 5.099333333333333,\n",
       " 5.083333333333333,\n",
       " 5.0456666666666665,\n",
       " 5.019,\n",
       " 5.059333333333333,\n",
       " 5.039666666666666,\n",
       " 5.039333333333333,\n",
       " 5.044666666666667,\n",
       " 4.967333333333333,\n",
       " 5.053,\n",
       " 5.032666666666667,\n",
       " 5.050666666666666,\n",
       " 5.063,\n",
       " 5.041,\n",
       " 5.048333333333333,\n",
       " 5.042666666666666,\n",
       " 5.035,\n",
       " 5.006,\n",
       " 5.048333333333333,\n",
       " 5.046,\n",
       " 5.036,\n",
       " 4.974666666666667,\n",
       " 5.063,\n",
       " 5.054,\n",
       " 5.006666666666667,\n",
       " 5.026666666666666,\n",
       " 5.014333333333333,\n",
       " 4.994,\n",
       " 5.015,\n",
       " 5.061,\n",
       " 5.031333333333333,\n",
       " 5.034666666666666,\n",
       " 5.054333333333333,\n",
       " 5.011333333333333,\n",
       " 5.043,\n",
       " 5.019333333333333,\n",
       " 5.068666666666667,\n",
       " 5.034,\n",
       " 5.0616666666666665,\n",
       " 5.024333333333334,\n",
       " 5.037333333333334,\n",
       " 5.042666666666666,\n",
       " 5.028,\n",
       " 5.048,\n",
       " 5.130333333333334,\n",
       " 5.009333333333333,\n",
       " 5.002666666666666,\n",
       " 5.047,\n",
       " 5.0343333333333335,\n",
       " 5.079,\n",
       " 5.020333333333333,\n",
       " 5.026666666666666,\n",
       " 5.046,\n",
       " 4.999333333333333,\n",
       " 5.078666666666667,\n",
       " 5.035666666666667,\n",
       " 5.034666666666666,\n",
       " 5.040666666666667,\n",
       " 5.037333333333334,\n",
       " 5.020333333333333,\n",
       " 5.044666666666667,\n",
       " 5.015333333333333,\n",
       " 5.065333333333333,\n",
       " 5.060333333333333,\n",
       " 5.043,\n",
       " 5.069333333333334,\n",
       " 5.031666666666666,\n",
       " 5.024,\n",
       " 5.004,\n",
       " 5.029,\n",
       " 5.089,\n",
       " 5.022666666666667,\n",
       " 5.073666666666667,\n",
       " 5.011,\n",
       " 5.098333333333334,\n",
       " 4.9656666666666665,\n",
       " 5.03,\n",
       " 5.02,\n",
       " 5.071666666666666,\n",
       " 5.029333333333334,\n",
       " 5.033333333333333,\n",
       " 5.034666666666666,\n",
       " 5.031333333333333,\n",
       " 5.015,\n",
       " 5.064666666666667,\n",
       " 4.962666666666666,\n",
       " 5.052333333333333,\n",
       " 5.013,\n",
       " 5.0456666666666665,\n",
       " 5.065,\n",
       " 5.0183333333333335,\n",
       " 5.069333333333334,\n",
       " 5.035333333333333,\n",
       " 5.031666666666666,\n",
       " 5.001666666666667,\n",
       " 4.97,\n",
       " 5.040666666666667,\n",
       " 5.019333333333333,\n",
       " 5.0456666666666665,\n",
       " 5.075333333333333,\n",
       " 5.035333333333333,\n",
       " 5.0536666666666665,\n",
       " 5.0713333333333335,\n",
       " 5.013,\n",
       " 5.0473333333333334,\n",
       " 5.060666666666667,\n",
       " 5.028333333333333,\n",
       " 5.022333333333333,\n",
       " 5.084666666666666,\n",
       " 5.031333333333333,\n",
       " 5.0696666666666665,\n",
       " 5.025,\n",
       " 5.038,\n",
       " 5.06,\n",
       " 5.055,\n",
       " 5.035333333333333,\n",
       " 5.006,\n",
       " 5.032,\n",
       " 5.043333333333333,\n",
       " 5.035333333333333,\n",
       " 5.055666666666666,\n",
       " 5.055666666666666,\n",
       " 5.085333333333334,\n",
       " 5.041,\n",
       " 5.053333333333334,\n",
       " 5.069333333333334,\n",
       " 5.063666666666666,\n",
       " 5.065,\n",
       " 5.051,\n",
       " 5.061333333333334,\n",
       " 5.058666666666666,\n",
       " 5.063666666666666,\n",
       " 5.033,\n",
       " 5.0713333333333335,\n",
       " 4.9736666666666665,\n",
       " 5.072333333333333,\n",
       " 5.024666666666667,\n",
       " 5.011333333333333,\n",
       " 4.989333333333334,\n",
       " 5.085333333333334,\n",
       " 5.062333333333333,\n",
       " 5.005,\n",
       " 5.008,\n",
       " 5.083,\n",
       " 5.070666666666667,\n",
       " 5.0633333333333335,\n",
       " 5.044666666666667,\n",
       " 5.047666666666666,\n",
       " 4.992666666666667,\n",
       " 5.026666666666666,\n",
       " 5.066666666666666,\n",
       " 5.043666666666667,\n",
       " 5.110333333333333,\n",
       " 5.067333333333333,\n",
       " 5.030333333333333,\n",
       " 5.055,\n",
       " 5.074333333333334,\n",
       " 5.040666666666667,\n",
       " 4.990333333333333,\n",
       " 5.037333333333334,\n",
       " 5.012333333333333,\n",
       " 5.045333333333334,\n",
       " 5.039333333333333,\n",
       " 5.084333333333333,\n",
       " 5.037,\n",
       " 4.987,\n",
       " 5.019666666666667,\n",
       " 4.994666666666666,\n",
       " 5.044333333333333,\n",
       " 5.029333333333334,\n",
       " 4.992666666666667,\n",
       " 5.031333333333333,\n",
       " 5.028,\n",
       " 5.055666666666666,\n",
       " 5.051,\n",
       " 5.056666666666667,\n",
       " 5.072,\n",
       " 5.043,\n",
       " 5.039333333333333,\n",
       " 5.061333333333334,\n",
       " 4.969333333333333,\n",
       " 5.017,\n",
       " 5.051,\n",
       " 5.0986666666666665,\n",
       " 5.043333333333333,\n",
       " 5.07,\n",
       " 4.999666666666666,\n",
       " 5.017333333333333,\n",
       " 4.993333333333333,\n",
       " 5.048333333333333,\n",
       " 5.021333333333334,\n",
       " 5.004,\n",
       " 5.033333333333333,\n",
       " 5.032333333333334,\n",
       " 5.091666666666667,\n",
       " 5.031,\n",
       " 5.007333333333333,\n",
       " 4.997,\n",
       " 5.037333333333334,\n",
       " 5.012,\n",
       " 5.048666666666667,\n",
       " 5.036,\n",
       " 5.060666666666667,\n",
       " 5.012666666666667,\n",
       " 4.995666666666667,\n",
       " 5.030333333333333,\n",
       " 5.045333333333334,\n",
       " 5.028,\n",
       " 5.043333333333333,\n",
       " 5.068333333333333,\n",
       " 5.0103333333333335,\n",
       " 5.062,\n",
       " 4.975666666666666,\n",
       " 5.045333333333334,\n",
       " 5.036,\n",
       " 5.059,\n",
       " 5.016666666666667,\n",
       " 5.066,\n",
       " 5.002,\n",
       " 5.028666666666667,\n",
       " 5.04,\n",
       " 5.048666666666667,\n",
       " 5.041333333333333,\n",
       " 5.038333333333333,\n",
       " 5.076666666666667,\n",
       " 5.102666666666667,\n",
       " 5.04,\n",
       " 5.042666666666666,\n",
       " 5.049666666666667,\n",
       " 5.038,\n",
       " 5.0536666666666665,\n",
       " 5.0296666666666665,\n",
       " 5.057333333333333,\n",
       " 5.064333333333333,\n",
       " 5.033666666666667,\n",
       " 5.063666666666666,\n",
       " 5.060666666666667,\n",
       " 5.019666666666667,\n",
       " 5.039,\n",
       " 5.062333333333333,\n",
       " 5.035333333333333,\n",
       " 5.036666666666667,\n",
       " 5.069,\n",
       " 5.078666666666667,\n",
       " 4.965333333333334,\n",
       " 5.013333333333334,\n",
       " 5.054333333333333,\n",
       " 5.011333333333333,\n",
       " 5.062333333333333,\n",
       " 4.998333333333333,\n",
       " 5.052,\n",
       " 5.067,\n",
       " 5.051666666666667,\n",
       " 5.037,\n",
       " 5.01,\n",
       " 5.038,\n",
       " 5.041333333333333,\n",
       " 5.048,\n",
       " 5.033666666666667,\n",
       " 5.071666666666666,\n",
       " 5.014,\n",
       " 5.065,\n",
       " 5.037,\n",
       " 5.018,\n",
       " 5.0103333333333335,\n",
       " 5.034666666666666,\n",
       " 5.068666666666667,\n",
       " 4.982,\n",
       " 5.098333333333334,\n",
       " 5.044333333333333,\n",
       " 5.031,\n",
       " 5.088,\n",
       " 5.03,\n",
       " 4.999666666666666,\n",
       " 5.054,\n",
       " 5.0536666666666665,\n",
       " 4.994,\n",
       " 5.0183333333333335,\n",
       " 5.017333333333333,\n",
       " 5.043333333333333,\n",
       " 5.04,\n",
       " 5.05,\n",
       " 5.012666666666667,\n",
       " 5.089333333333333,\n",
       " 5.093666666666667,\n",
       " 5.096666666666667,\n",
       " 5.013333333333334,\n",
       " 5.058,\n",
       " 5.001666666666667,\n",
       " 5.0056666666666665,\n",
       " 5.028,\n",
       " 5.073666666666667,\n",
       " 5.030333333333333,\n",
       " 5.031,\n",
       " 5.0793333333333335,\n",
       " 5.009333333333333,\n",
       " 5.083666666666667,\n",
       " 5.048,\n",
       " 5.040333333333334,\n",
       " 5.033,\n",
       " 5.059,\n",
       " 5.086,\n",
       " 4.996333333333333,\n",
       " 5.026,\n",
       " 5.070666666666667,\n",
       " 5.022666666666667,\n",
       " 5.043,\n",
       " 5.027666666666667,\n",
       " 5.018,\n",
       " 5.0343333333333335,\n",
       " 5.041333333333333,\n",
       " 5.078,\n",
       " 5.010666666666666,\n",
       " 5.042333333333334,\n",
       " 5.025333333333333,\n",
       " 5.030333333333333,\n",
       " 5.058333333333334,\n",
       " 5.066333333333334,\n",
       " 5.051,\n",
       " 5.0376666666666665,\n",
       " 5.049,\n",
       " 5.095,\n",
       " 5.068333333333333,\n",
       " 5.058,\n",
       " 5.0473333333333334,\n",
       " 5.032666666666667,\n",
       " 5.048,\n",
       " 5.018666666666666,\n",
       " 5.013,\n",
       " 5.043,\n",
       " 5.019,\n",
       " 5.021333333333334,\n",
       " 5.088333333333333,\n",
       " 4.998,\n",
       " 5.078666666666667,\n",
       " 4.993,\n",
       " 5.057666666666667,\n",
       " 5.081333333333333,\n",
       " 5.025,\n",
       " 5.027333333333333,\n",
       " 5.0136666666666665,\n",
       " 5.026,\n",
       " 5.055,\n",
       " 5.006333333333333,\n",
       " 5.016333333333334,\n",
       " 5.054333333333333,\n",
       " 4.991666666666666,\n",
       " 5.062,\n",
       " 5.025666666666667,\n",
       " 5.039666666666666,\n",
       " 5.0553333333333335,\n",
       " 5.044333333333333,\n",
       " 5.066,\n",
       " 5.011333333333333,\n",
       " 5.080333333333333,\n",
       " 5.089666666666667,\n",
       " 5.003333333333333,\n",
       " 5.059666666666667,\n",
       " 5.080666666666667,\n",
       " 5.062333333333333,\n",
       " 5.040666666666667,\n",
       " 5.062666666666667,\n",
       " 5.063,\n",
       " 5.023,\n",
       " 5.0103333333333335,\n",
       " 5.102666666666667,\n",
       " 5.039666666666666,\n",
       " 5.04,\n",
       " 5.077,\n",
       " 5.035666666666667,\n",
       " 5.067,\n",
       " 5.043,\n",
       " 5.082666666666666,\n",
       " 5.044333333333333,\n",
       " 4.992,\n",
       " 5.045333333333334,\n",
       " 5.009666666666667,\n",
       " 5.042666666666666,\n",
       " 5.069333333333334,\n",
       " 5.054,\n",
       " 5.039333333333333,\n",
       " 5.034666666666666,\n",
       " 5.052333333333333,\n",
       " 4.966,\n",
       " 5.038,\n",
       " 5.056666666666667,\n",
       " 5.0296666666666665,\n",
       " 5.036,\n",
       " 5.016333333333334,\n",
       " 5.034666666666666,\n",
       " 5.068,\n",
       " 5.1,\n",
       " 5.031,\n",
       " 5.059333333333333,\n",
       " 5.023333333333333,\n",
       " 5.092333333333333,\n",
       " 5.048666666666667,\n",
       " 5.034,\n",
       " 5.0263333333333335,\n",
       " 5.055666666666666,\n",
       " 5.043333333333333,\n",
       " 5.057,\n",
       " 5.042,\n",
       " 5.043666666666667,\n",
       " 5.0216666666666665,\n",
       " 5.022333333333333,\n",
       " 5.104,\n",
       " 4.995333333333333,\n",
       " 5.046666666666667,\n",
       " 5.0473333333333334,\n",
       " 5.050666666666666,\n",
       " 5.058666666666666,\n",
       " 5.0616666666666665,\n",
       " 5.0616666666666665,\n",
       " 5.051666666666667,\n",
       " 5.061,\n",
       " 5.025666666666667,\n",
       " 5.042333333333334,\n",
       " 5.027,\n",
       " 5.061333333333334,\n",
       " 5.052333333333333,\n",
       " 5.033,\n",
       " 5.025666666666667,\n",
       " 5.052,\n",
       " 5.042666666666666,\n",
       " 5.033333333333333,\n",
       " 5.033666666666667,\n",
       " 5.0,\n",
       " 5.031333333333333,\n",
       " 5.027333333333333,\n",
       " 5.013,\n",
       " 5.009,\n",
       " 5.031333333333333,\n",
       " 5.067666666666667,\n",
       " 5.0216666666666665,\n",
       " 5.0456666666666665,\n",
       " 5.040666666666667,\n",
       " 5.0376666666666665,\n",
       " 5.061333333333334,\n",
       " 5.016666666666667,\n",
       " 5.0056666666666665,\n",
       " 5.049333333333333,\n",
       " 5.009333333333333,\n",
       " 5.050333333333334,\n",
       " 5.034,\n",
       " 5.077333333333334,\n",
       " 5.08,\n",
       " 4.9976666666666665,\n",
       " 5.075333333333333,\n",
       " 5.026,\n",
       " 5.065666666666667,\n",
       " 5.032,\n",
       " 5.033666666666667,\n",
       " 5.064666666666667,\n",
       " 5.04,\n",
       " 5.075333333333333,\n",
       " 4.992666666666667,\n",
       " 5.039333333333333,\n",
       " 5.062666666666667,\n",
       " 5.033666666666667,\n",
       " 5.040666666666667,\n",
       " 4.988333333333333,\n",
       " 5.03,\n",
       " 5.043333333333333,\n",
       " 5.018666666666666,\n",
       " 5.04,\n",
       " 5.007,\n",
       " 5.033,\n",
       " 5.051666666666667,\n",
       " 5.016666666666667,\n",
       " 5.058333333333334,\n",
       " 5.044666666666667,\n",
       " 5.036666666666667,\n",
       " 5.068,\n",
       " 5.033333333333333,\n",
       " 5.042666666666666,\n",
       " 5.019666666666667,\n",
       " 5.018666666666666,\n",
       " 5.035,\n",
       " 4.998,\n",
       " 5.054666666666667,\n",
       " 5.046,\n",
       " 4.983333333333333,\n",
       " 5.072,\n",
       " 5.032666666666667,\n",
       " 5.034,\n",
       " 5.032333333333334,\n",
       " 5.072,\n",
       " 5.043666666666667,\n",
       " 5.036333333333333,\n",
       " 5.030666666666667,\n",
       " 5.04,\n",
       " 5.042666666666666,\n",
       " 5.045333333333334,\n",
       " 5.072,\n",
       " 5.035666666666667,\n",
       " 5.044666666666667,\n",
       " 5.0296666666666665,\n",
       " 5.019666666666667,\n",
       " 5.016666666666667,\n",
       " 5.085333333333334,\n",
       " 5.044333333333333,\n",
       " 5.043333333333333,\n",
       " 5.051666666666667,\n",
       " 5.0536666666666665,\n",
       " 5.054,\n",
       " 5.071666666666666,\n",
       " 5.039,\n",
       " 5.067333333333333,\n",
       " 5.024,\n",
       " 5.044333333333333,\n",
       " 5.070333333333333,\n",
       " 5.1,\n",
       " 5.043333333333333,\n",
       " 5.019666666666667,\n",
       " 5.060666666666667,\n",
       " 5.057333333333333,\n",
       " 5.046333333333333,\n",
       " 5.012666666666667,\n",
       " 5.034,\n",
       " 5.012666666666667,\n",
       " 5.016666666666667,\n",
       " 5.033,\n",
       " 5.06,\n",
       " 5.012333333333333,\n",
       " 5.06,\n",
       " 5.033,\n",
       " 5.043666666666667,\n",
       " 5.057666666666667,\n",
       " 5.059666666666667,\n",
       " 5.064333333333333,\n",
       " 5.040666666666667,\n",
       " 5.036,\n",
       " 5.043666666666667,\n",
       " 5.039,\n",
       " 5.038,\n",
       " 5.028,\n",
       " 4.9976666666666665,\n",
       " 5.038333333333333,\n",
       " 5.0216666666666665,\n",
       " 5.099333333333333,\n",
       " 4.997333333333334,\n",
       " 5.009666666666667,\n",
       " 5.073333333333333,\n",
       " 5.075666666666667,\n",
       " 4.996666666666667,\n",
       " 5.052,\n",
       " 5.109,\n",
       " 5.058,\n",
       " 5.073,\n",
       " 5.030333333333333,\n",
       " 4.986666666666666,\n",
       " 5.066666666666666,\n",
       " 5.075,\n",
       " 5.063,\n",
       " 5.020666666666667,\n",
       " 5.007666666666666,\n",
       " 5.057333333333333,\n",
       " 5.000333333333334,\n",
       " 5.071,\n",
       " 5.085666666666667,\n",
       " 5.009333333333333,\n",
       " 5.035333333333333,\n",
       " 5.017333333333333,\n",
       " 5.043666666666667,\n",
       " 5.046333333333333,\n",
       " 4.993666666666667,\n",
       " 5.047,\n",
       " 5.032666666666667,\n",
       " 5.086666666666667,\n",
       " 4.987,\n",
       " 5.026666666666666,\n",
       " 5.038,\n",
       " 4.9543333333333335,\n",
       " 5.041,\n",
       " 5.093333333333334,\n",
       " 5.0343333333333335,\n",
       " 5.016,\n",
       " 5.035333333333333,\n",
       " 5.054,\n",
       " 5.027333333333333,\n",
       " 5.088,\n",
       " 5.032333333333334,\n",
       " 5.027666666666667,\n",
       " 5.032333333333334,\n",
       " 5.068666666666667,\n",
       " 5.056,\n",
       " 5.01,\n",
       " 5.030333333333333,\n",
       " 5.007666666666666,\n",
       " 5.042,\n",
       " 5.0296666666666665,\n",
       " 5.031333333333333,\n",
       " 5.050333333333334,\n",
       " 5.008333333333334,\n",
       " 5.046333333333333,\n",
       " 5.017,\n",
       " 5.077,\n",
       " 5.092666666666666,\n",
       " 5.056333333333333,\n",
       " 5.039,\n",
       " 5.023666666666666,\n",
       " 5.046,\n",
       " 5.065,\n",
       " 5.065,\n",
       " 5.070333333333333,\n",
       " 5.027333333333333,\n",
       " 5.0473333333333334,\n",
       " 5.088333333333333,\n",
       " 5.023666666666666,\n",
       " 5.015333333333333,\n",
       " 5.084666666666666,\n",
       " 5.061333333333334,\n",
       " 5.051,\n",
       " 5.038333333333333,\n",
       " 5.089666666666667,\n",
       " 5.073333333333333,\n",
       " 5.03,\n",
       " 5.0296666666666665,\n",
       " 5.017666666666667,\n",
       " 5.048333333333333,\n",
       " 5.094,\n",
       " 5.102333333333333,\n",
       " 5.058,\n",
       " 5.052,\n",
       " 5.038666666666667,\n",
       " ...]"
      ]
     },
     "execution_count": 101,
     "metadata": {},
     "output_type": "execute_result"
    }
   ],
   "source": [
    "mean_of_samples"
   ]
  },
  {
   "cell_type": "code",
   "execution_count": 102,
   "metadata": {},
   "outputs": [
    {
     "data": {
      "text/plain": [
       "5.040676867686769"
      ]
     },
     "execution_count": 102,
     "metadata": {},
     "output_type": "execute_result"
    }
   ],
   "source": [
    "np.mean(mean_of_samples)"
   ]
  },
  {
   "cell_type": "code",
   "execution_count": 103,
   "metadata": {},
   "outputs": [
    {
     "data": {
      "text/plain": [
       "5.041"
      ]
     },
     "execution_count": 103,
     "metadata": {},
     "output_type": "execute_result"
    }
   ],
   "source": [
    "np.median(mean_of_samples)"
   ]
  },
  {
   "cell_type": "code",
   "execution_count": 104,
   "metadata": {},
   "outputs": [
    {
     "data": {
      "text/plain": [
       "5.033666666666667"
      ]
     },
     "execution_count": 104,
     "metadata": {},
     "output_type": "execute_result"
    }
   ],
   "source": [
    "statistics.mode(mean_of_samples)"
   ]
  },
  {
   "cell_type": "code",
   "execution_count": 110,
   "metadata": {},
   "outputs": [],
   "source": [
    "#hence mean=median=mode\n",
    "\n",
    "\n",
    "\n",
    "import scipy.stats as stats"
   ]
  },
  {
   "cell_type": "code",
   "execution_count": 111,
   "metadata": {},
   "outputs": [
    {
     "data": {
      "text/plain": [
       "[5.025666666666667,\n",
       " 5.0183333333333335,\n",
       " 5.101,\n",
       " 5.0183333333333335,\n",
       " 5.052,\n",
       " 5.009666666666667,\n",
       " 5.015333333333333,\n",
       " 5.052,\n",
       " 5.053333333333334,\n",
       " 5.042,\n",
       " 5.078333333333333,\n",
       " 5.026,\n",
       " 5.035333333333333,\n",
       " 5.035333333333333,\n",
       " 5.058,\n",
       " 5.066333333333334,\n",
       " 5.075333333333333,\n",
       " 5.049333333333333,\n",
       " 5.024333333333334,\n",
       " 5.015333333333333,\n",
       " 5.022666666666667,\n",
       " 5.042333333333334,\n",
       " 5.057666666666667,\n",
       " 5.033,\n",
       " 5.076333333333333,\n",
       " 5.005333333333334,\n",
       " 5.080333333333333,\n",
       " 4.999666666666666,\n",
       " 5.046,\n",
       " 5.072,\n",
       " 5.030666666666667,\n",
       " 5.080666666666667,\n",
       " 5.062333333333333,\n",
       " 5.036,\n",
       " 5.031,\n",
       " 5.062333333333333,\n",
       " 5.050333333333334,\n",
       " 5.060333333333333,\n",
       " 5.016333333333334,\n",
       " 5.078,\n",
       " 5.072,\n",
       " 5.058666666666666,\n",
       " 5.086666666666667,\n",
       " 5.062333333333333,\n",
       " 5.033666666666667,\n",
       " 5.0296666666666665,\n",
       " 5.038,\n",
       " 5.004333333333333,\n",
       " 5.028,\n",
       " 5.039333333333333,\n",
       " 5.0376666666666665,\n",
       " 5.039333333333333,\n",
       " 5.013,\n",
       " 5.0263333333333335,\n",
       " 5.039666666666666,\n",
       " 5.075333333333333,\n",
       " 5.063666666666666,\n",
       " 5.017333333333333,\n",
       " 5.078,\n",
       " 4.995,\n",
       " 5.032666666666667,\n",
       " 5.035333333333333,\n",
       " 5.042,\n",
       " 5.055,\n",
       " 5.0616666666666665,\n",
       " 5.000333333333334,\n",
       " 5.027666666666667,\n",
       " 5.084666666666666,\n",
       " 5.05,\n",
       " 4.993666666666667,\n",
       " 5.032,\n",
       " 5.065666666666667,\n",
       " 5.072666666666667,\n",
       " 5.062333333333333,\n",
       " 5.077,\n",
       " 5.025666666666667,\n",
       " 5.057666666666667,\n",
       " 5.070666666666667,\n",
       " 5.016,\n",
       " 5.04,\n",
       " 5.041,\n",
       " 4.990333333333333,\n",
       " 5.037,\n",
       " 5.081,\n",
       " 5.020666666666667,\n",
       " 5.018666666666666,\n",
       " 4.996333333333333,\n",
       " 5.048333333333333,\n",
       " 5.051333333333333,\n",
       " 5.034666666666666,\n",
       " 5.059,\n",
       " 4.995,\n",
       " 5.107,\n",
       " 5.04,\n",
       " 5.039333333333333,\n",
       " 5.078,\n",
       " 4.992,\n",
       " 5.001666666666667,\n",
       " 5.036666666666667,\n",
       " 5.030666666666667,\n",
       " 5.048666666666667,\n",
       " 5.020333333333333,\n",
       " 5.013,\n",
       " 5.022666666666667,\n",
       " 5.039666666666666,\n",
       " 5.100333333333333,\n",
       " 5.004666666666667,\n",
       " 4.988,\n",
       " 5.073666666666667,\n",
       " 5.132,\n",
       " 5.034,\n",
       " 5.005333333333334,\n",
       " 5.036666666666667,\n",
       " 5.044666666666667,\n",
       " 5.057666666666667,\n",
       " 5.048333333333333,\n",
       " 5.09,\n",
       " 5.049333333333333,\n",
       " 5.062666666666667,\n",
       " 5.012333333333333,\n",
       " 5.058666666666666,\n",
       " 5.003,\n",
       " 5.023666666666666,\n",
       " 5.016333333333334,\n",
       " 5.030666666666667,\n",
       " 5.030666666666667,\n",
       " 4.999333333333333,\n",
       " 5.036333333333333,\n",
       " 5.048,\n",
       " 5.031333333333333,\n",
       " 4.999666666666666,\n",
       " 5.038333333333333,\n",
       " 5.007666666666666,\n",
       " 5.048333333333333,\n",
       " 5.040666666666667,\n",
       " 5.037333333333334,\n",
       " 5.025666666666667,\n",
       " 5.000333333333334,\n",
       " 5.020333333333333,\n",
       " 5.026,\n",
       " 5.016,\n",
       " 5.096666666666667,\n",
       " 5.066333333333334,\n",
       " 5.051666666666667,\n",
       " 5.030333333333333,\n",
       " 5.0696666666666665,\n",
       " 5.042,\n",
       " 5.072333333333333,\n",
       " 4.9943333333333335,\n",
       " 5.028,\n",
       " 5.041333333333333,\n",
       " 5.007666666666666,\n",
       " 5.069,\n",
       " 5.050666666666666,\n",
       " 5.029333333333334,\n",
       " 5.010666666666666,\n",
       " 4.992333333333334,\n",
       " 5.080333333333333,\n",
       " 5.058333333333334,\n",
       " 5.067,\n",
       " 5.052,\n",
       " 5.023666666666666,\n",
       " 5.027333333333333,\n",
       " 5.052333333333333,\n",
       " 5.104333333333333,\n",
       " 5.058666666666666,\n",
       " 5.046,\n",
       " 5.018666666666666,\n",
       " 5.0136666666666665,\n",
       " 5.027,\n",
       " 5.049,\n",
       " 5.046,\n",
       " 5.006,\n",
       " 5.028,\n",
       " 5.0473333333333334,\n",
       " 5.031333333333333,\n",
       " 5.031,\n",
       " 4.997,\n",
       " 5.057333333333333,\n",
       " 5.015666666666666,\n",
       " 5.062333333333333,\n",
       " 5.036,\n",
       " 5.073333333333333,\n",
       " 5.093,\n",
       " 5.029333333333334,\n",
       " 5.075333333333333,\n",
       " 5.044333333333333,\n",
       " 5.014,\n",
       " 5.001666666666667,\n",
       " 5.108,\n",
       " 5.039666666666666,\n",
       " 5.068,\n",
       " 5.026,\n",
       " 5.065666666666667,\n",
       " 5.091333333333333,\n",
       " 5.04,\n",
       " 4.998,\n",
       " 5.091333333333333,\n",
       " 5.018,\n",
       " 5.057333333333333,\n",
       " 5.014,\n",
       " 5.059333333333333,\n",
       " 4.9943333333333335,\n",
       " 5.078666666666667,\n",
       " 5.023333333333333,\n",
       " 5.045,\n",
       " 5.038333333333333,\n",
       " 5.015,\n",
       " 5.050333333333334,\n",
       " 5.013,\n",
       " 5.021333333333334,\n",
       " 5.0713333333333335,\n",
       " 4.9896666666666665,\n",
       " 5.046666666666667,\n",
       " 5.051333333333333,\n",
       " 4.998,\n",
       " 5.009666666666667,\n",
       " 5.073,\n",
       " 5.012666666666667,\n",
       " 5.051,\n",
       " 5.030333333333333,\n",
       " 5.0343333333333335,\n",
       " 5.113,\n",
       " 5.037333333333334,\n",
       " 5.048,\n",
       " 5.043,\n",
       " 5.073333333333333,\n",
       " 5.050666666666666,\n",
       " 5.056666666666667,\n",
       " 5.0183333333333335,\n",
       " 5.0136666666666665,\n",
       " 5.059333333333333,\n",
       " 5.002666666666666,\n",
       " 4.991,\n",
       " 5.059333333333333,\n",
       " 5.026,\n",
       " 5.050666666666666,\n",
       " 5.047666666666666,\n",
       " 5.038333333333333,\n",
       " 5.083666666666667,\n",
       " 5.038666666666667,\n",
       " 5.082333333333334,\n",
       " 5.012333333333333,\n",
       " 5.068,\n",
       " 5.05,\n",
       " 5.057666666666667,\n",
       " 5.052,\n",
       " 5.060666666666667,\n",
       " 5.037333333333334,\n",
       " 5.004,\n",
       " 5.036666666666667,\n",
       " 5.097666666666667,\n",
       " 5.041333333333333,\n",
       " 5.051,\n",
       " 5.068666666666667,\n",
       " 5.052333333333333,\n",
       " 5.023333333333333,\n",
       " 5.040666666666667,\n",
       " 5.061333333333334,\n",
       " 5.051,\n",
       " 5.072,\n",
       " 5.048,\n",
       " 5.049333333333333,\n",
       " 5.033666666666667,\n",
       " 5.043,\n",
       " 5.028,\n",
       " 5.066333333333334,\n",
       " 5.093,\n",
       " 4.982333333333333,\n",
       " 5.057666666666667,\n",
       " 5.031,\n",
       " 5.072,\n",
       " 5.105333333333333,\n",
       " 4.996666666666667,\n",
       " 5.0216666666666665,\n",
       " 5.003,\n",
       " 5.036333333333333,\n",
       " 5.014666666666667,\n",
       " 5.085333333333334,\n",
       " 5.039,\n",
       " 5.046,\n",
       " 5.0536666666666665,\n",
       " 5.022,\n",
       " 5.082,\n",
       " 5.014666666666667,\n",
       " 4.979666666666667,\n",
       " 5.035333333333333,\n",
       " 5.053,\n",
       " 5.033666666666667,\n",
       " 5.105666666666667,\n",
       " 5.042,\n",
       " 5.065333333333333,\n",
       " 5.028,\n",
       " 5.025333333333333,\n",
       " 5.082,\n",
       " 5.062666666666667,\n",
       " 5.100333333333333,\n",
       " 5.085333333333334,\n",
       " 5.008666666666667,\n",
       " 5.0216666666666665,\n",
       " 5.004666666666667,\n",
       " 5.059666666666667,\n",
       " 5.033,\n",
       " 5.068,\n",
       " 4.997,\n",
       " 5.078666666666667,\n",
       " 5.021,\n",
       " 5.044,\n",
       " 4.983333333333333,\n",
       " 5.048666666666667,\n",
       " 5.035666666666667,\n",
       " 4.993666666666667,\n",
       " 5.09,\n",
       " 5.028333333333333,\n",
       " 5.0553333333333335,\n",
       " 5.075666666666667,\n",
       " 5.041,\n",
       " 5.059333333333333,\n",
       " 5.070333333333333,\n",
       " 5.079666666666666,\n",
       " 5.011333333333333,\n",
       " 5.073666666666667,\n",
       " 5.059,\n",
       " 5.0696666666666665,\n",
       " 5.031333333333333,\n",
       " 5.034,\n",
       " 5.053,\n",
       " 5.072666666666667,\n",
       " 5.062333333333333,\n",
       " 5.015666666666666,\n",
       " 5.0616666666666665,\n",
       " 5.054333333333333,\n",
       " 5.055,\n",
       " 4.982,\n",
       " 4.9976666666666665,\n",
       " 4.999,\n",
       " 5.049333333333333,\n",
       " 5.052333333333333,\n",
       " 5.019666666666667,\n",
       " 5.0136666666666665,\n",
       " 5.044333333333333,\n",
       " 5.051666666666667,\n",
       " 5.005,\n",
       " 5.039333333333333,\n",
       " 5.017333333333333,\n",
       " 5.053,\n",
       " 5.056333333333333,\n",
       " 5.048333333333333,\n",
       " 5.049666666666667,\n",
       " 5.027,\n",
       " 5.063666666666666,\n",
       " 5.028,\n",
       " 5.1,\n",
       " 5.035666666666667,\n",
       " 5.042666666666666,\n",
       " 5.048333333333333,\n",
       " 5.049333333333333,\n",
       " 5.045,\n",
       " 5.031666666666666,\n",
       " 5.081333333333333,\n",
       " 4.999,\n",
       " 5.033666666666667,\n",
       " 4.991,\n",
       " 5.080666666666667,\n",
       " 4.996666666666667,\n",
       " 5.015333333333333,\n",
       " 5.075666666666667,\n",
       " 5.067333333333333,\n",
       " 5.018,\n",
       " 5.068333333333333,\n",
       " 5.035,\n",
       " 5.0616666666666665,\n",
       " 5.044666666666667,\n",
       " 5.0473333333333334,\n",
       " 5.099333333333333,\n",
       " 5.083333333333333,\n",
       " 5.0456666666666665,\n",
       " 5.019,\n",
       " 5.059333333333333,\n",
       " 5.039666666666666,\n",
       " 5.039333333333333,\n",
       " 5.044666666666667,\n",
       " 4.967333333333333,\n",
       " 5.053,\n",
       " 5.032666666666667,\n",
       " 5.050666666666666,\n",
       " 5.063,\n",
       " 5.041,\n",
       " 5.048333333333333,\n",
       " 5.042666666666666,\n",
       " 5.035,\n",
       " 5.006,\n",
       " 5.048333333333333,\n",
       " 5.046,\n",
       " 5.036,\n",
       " 4.974666666666667,\n",
       " 5.063,\n",
       " 5.054,\n",
       " 5.006666666666667,\n",
       " 5.026666666666666,\n",
       " 5.014333333333333,\n",
       " 4.994,\n",
       " 5.015,\n",
       " 5.061,\n",
       " 5.031333333333333,\n",
       " 5.034666666666666,\n",
       " 5.054333333333333,\n",
       " 5.011333333333333,\n",
       " 5.043,\n",
       " 5.019333333333333,\n",
       " 5.068666666666667,\n",
       " 5.034,\n",
       " 5.0616666666666665,\n",
       " 5.024333333333334,\n",
       " 5.037333333333334,\n",
       " 5.042666666666666,\n",
       " 5.028,\n",
       " 5.048,\n",
       " 5.130333333333334,\n",
       " 5.009333333333333,\n",
       " 5.002666666666666,\n",
       " 5.047,\n",
       " 5.0343333333333335,\n",
       " 5.079,\n",
       " 5.020333333333333,\n",
       " 5.026666666666666,\n",
       " 5.046,\n",
       " 4.999333333333333,\n",
       " 5.078666666666667,\n",
       " 5.035666666666667,\n",
       " 5.034666666666666,\n",
       " 5.040666666666667,\n",
       " 5.037333333333334,\n",
       " 5.020333333333333,\n",
       " 5.044666666666667,\n",
       " 5.015333333333333,\n",
       " 5.065333333333333,\n",
       " 5.060333333333333,\n",
       " 5.043,\n",
       " 5.069333333333334,\n",
       " 5.031666666666666,\n",
       " 5.024,\n",
       " 5.004,\n",
       " 5.029,\n",
       " 5.089,\n",
       " 5.022666666666667,\n",
       " 5.073666666666667,\n",
       " 5.011,\n",
       " 5.098333333333334,\n",
       " 4.9656666666666665,\n",
       " 5.03,\n",
       " 5.02,\n",
       " 5.071666666666666,\n",
       " 5.029333333333334,\n",
       " 5.033333333333333,\n",
       " 5.034666666666666,\n",
       " 5.031333333333333,\n",
       " 5.015,\n",
       " 5.064666666666667,\n",
       " 4.962666666666666,\n",
       " 5.052333333333333,\n",
       " 5.013,\n",
       " 5.0456666666666665,\n",
       " 5.065,\n",
       " 5.0183333333333335,\n",
       " 5.069333333333334,\n",
       " 5.035333333333333,\n",
       " 5.031666666666666,\n",
       " 5.001666666666667,\n",
       " 4.97,\n",
       " 5.040666666666667,\n",
       " 5.019333333333333,\n",
       " 5.0456666666666665,\n",
       " 5.075333333333333,\n",
       " 5.035333333333333,\n",
       " 5.0536666666666665,\n",
       " 5.0713333333333335,\n",
       " 5.013,\n",
       " 5.0473333333333334,\n",
       " 5.060666666666667,\n",
       " 5.028333333333333,\n",
       " 5.022333333333333,\n",
       " 5.084666666666666,\n",
       " 5.031333333333333,\n",
       " 5.0696666666666665,\n",
       " 5.025,\n",
       " 5.038,\n",
       " 5.06,\n",
       " 5.055,\n",
       " 5.035333333333333,\n",
       " 5.006,\n",
       " 5.032,\n",
       " 5.043333333333333,\n",
       " 5.035333333333333,\n",
       " 5.055666666666666,\n",
       " 5.055666666666666,\n",
       " 5.085333333333334,\n",
       " 5.041,\n",
       " 5.053333333333334,\n",
       " 5.069333333333334,\n",
       " 5.063666666666666,\n",
       " 5.065,\n",
       " 5.051,\n",
       " 5.061333333333334,\n",
       " 5.058666666666666,\n",
       " 5.063666666666666,\n",
       " 5.033,\n",
       " 5.0713333333333335,\n",
       " 4.9736666666666665,\n",
       " 5.072333333333333,\n",
       " 5.024666666666667,\n",
       " 5.011333333333333,\n",
       " 4.989333333333334,\n",
       " 5.085333333333334,\n",
       " 5.062333333333333,\n",
       " 5.005,\n",
       " 5.008,\n",
       " 5.083,\n",
       " 5.070666666666667,\n",
       " 5.0633333333333335,\n",
       " 5.044666666666667,\n",
       " 5.047666666666666,\n",
       " 4.992666666666667,\n",
       " 5.026666666666666,\n",
       " 5.066666666666666,\n",
       " 5.043666666666667,\n",
       " 5.110333333333333,\n",
       " 5.067333333333333,\n",
       " 5.030333333333333,\n",
       " 5.055,\n",
       " 5.074333333333334,\n",
       " 5.040666666666667,\n",
       " 4.990333333333333,\n",
       " 5.037333333333334,\n",
       " 5.012333333333333,\n",
       " 5.045333333333334,\n",
       " 5.039333333333333,\n",
       " 5.084333333333333,\n",
       " 5.037,\n",
       " 4.987,\n",
       " 5.019666666666667,\n",
       " 4.994666666666666,\n",
       " 5.044333333333333,\n",
       " 5.029333333333334,\n",
       " 4.992666666666667,\n",
       " 5.031333333333333,\n",
       " 5.028,\n",
       " 5.055666666666666,\n",
       " 5.051,\n",
       " 5.056666666666667,\n",
       " 5.072,\n",
       " 5.043,\n",
       " 5.039333333333333,\n",
       " 5.061333333333334,\n",
       " 4.969333333333333,\n",
       " 5.017,\n",
       " 5.051,\n",
       " 5.0986666666666665,\n",
       " 5.043333333333333,\n",
       " 5.07,\n",
       " 4.999666666666666,\n",
       " 5.017333333333333,\n",
       " 4.993333333333333,\n",
       " 5.048333333333333,\n",
       " 5.021333333333334,\n",
       " 5.004,\n",
       " 5.033333333333333,\n",
       " 5.032333333333334,\n",
       " 5.091666666666667,\n",
       " 5.031,\n",
       " 5.007333333333333,\n",
       " 4.997,\n",
       " 5.037333333333334,\n",
       " 5.012,\n",
       " 5.048666666666667,\n",
       " 5.036,\n",
       " 5.060666666666667,\n",
       " 5.012666666666667,\n",
       " 4.995666666666667,\n",
       " 5.030333333333333,\n",
       " 5.045333333333334,\n",
       " 5.028,\n",
       " 5.043333333333333,\n",
       " 5.068333333333333,\n",
       " 5.0103333333333335,\n",
       " 5.062,\n",
       " 4.975666666666666,\n",
       " 5.045333333333334,\n",
       " 5.036,\n",
       " 5.059,\n",
       " 5.016666666666667,\n",
       " 5.066,\n",
       " 5.002,\n",
       " 5.028666666666667,\n",
       " 5.04,\n",
       " 5.048666666666667,\n",
       " 5.041333333333333,\n",
       " 5.038333333333333,\n",
       " 5.076666666666667,\n",
       " 5.102666666666667,\n",
       " 5.04,\n",
       " 5.042666666666666,\n",
       " 5.049666666666667,\n",
       " 5.038,\n",
       " 5.0536666666666665,\n",
       " 5.0296666666666665,\n",
       " 5.057333333333333,\n",
       " 5.064333333333333,\n",
       " 5.033666666666667,\n",
       " 5.063666666666666,\n",
       " 5.060666666666667,\n",
       " 5.019666666666667,\n",
       " 5.039,\n",
       " 5.062333333333333,\n",
       " 5.035333333333333,\n",
       " 5.036666666666667,\n",
       " 5.069,\n",
       " 5.078666666666667,\n",
       " 4.965333333333334,\n",
       " 5.013333333333334,\n",
       " 5.054333333333333,\n",
       " 5.011333333333333,\n",
       " 5.062333333333333,\n",
       " 4.998333333333333,\n",
       " 5.052,\n",
       " 5.067,\n",
       " 5.051666666666667,\n",
       " 5.037,\n",
       " 5.01,\n",
       " 5.038,\n",
       " 5.041333333333333,\n",
       " 5.048,\n",
       " 5.033666666666667,\n",
       " 5.071666666666666,\n",
       " 5.014,\n",
       " 5.065,\n",
       " 5.037,\n",
       " 5.018,\n",
       " 5.0103333333333335,\n",
       " 5.034666666666666,\n",
       " 5.068666666666667,\n",
       " 4.982,\n",
       " 5.098333333333334,\n",
       " 5.044333333333333,\n",
       " 5.031,\n",
       " 5.088,\n",
       " 5.03,\n",
       " 4.999666666666666,\n",
       " 5.054,\n",
       " 5.0536666666666665,\n",
       " 4.994,\n",
       " 5.0183333333333335,\n",
       " 5.017333333333333,\n",
       " 5.043333333333333,\n",
       " 5.04,\n",
       " 5.05,\n",
       " 5.012666666666667,\n",
       " 5.089333333333333,\n",
       " 5.093666666666667,\n",
       " 5.096666666666667,\n",
       " 5.013333333333334,\n",
       " 5.058,\n",
       " 5.001666666666667,\n",
       " 5.0056666666666665,\n",
       " 5.028,\n",
       " 5.073666666666667,\n",
       " 5.030333333333333,\n",
       " 5.031,\n",
       " 5.0793333333333335,\n",
       " 5.009333333333333,\n",
       " 5.083666666666667,\n",
       " 5.048,\n",
       " 5.040333333333334,\n",
       " 5.033,\n",
       " 5.059,\n",
       " 5.086,\n",
       " 4.996333333333333,\n",
       " 5.026,\n",
       " 5.070666666666667,\n",
       " 5.022666666666667,\n",
       " 5.043,\n",
       " 5.027666666666667,\n",
       " 5.018,\n",
       " 5.0343333333333335,\n",
       " 5.041333333333333,\n",
       " 5.078,\n",
       " 5.010666666666666,\n",
       " 5.042333333333334,\n",
       " 5.025333333333333,\n",
       " 5.030333333333333,\n",
       " 5.058333333333334,\n",
       " 5.066333333333334,\n",
       " 5.051,\n",
       " 5.0376666666666665,\n",
       " 5.049,\n",
       " 5.095,\n",
       " 5.068333333333333,\n",
       " 5.058,\n",
       " 5.0473333333333334,\n",
       " 5.032666666666667,\n",
       " 5.048,\n",
       " 5.018666666666666,\n",
       " 5.013,\n",
       " 5.043,\n",
       " 5.019,\n",
       " 5.021333333333334,\n",
       " 5.088333333333333,\n",
       " 4.998,\n",
       " 5.078666666666667,\n",
       " 4.993,\n",
       " 5.057666666666667,\n",
       " 5.081333333333333,\n",
       " 5.025,\n",
       " 5.027333333333333,\n",
       " 5.0136666666666665,\n",
       " 5.026,\n",
       " 5.055,\n",
       " 5.006333333333333,\n",
       " 5.016333333333334,\n",
       " 5.054333333333333,\n",
       " 4.991666666666666,\n",
       " 5.062,\n",
       " 5.025666666666667,\n",
       " 5.039666666666666,\n",
       " 5.0553333333333335,\n",
       " 5.044333333333333,\n",
       " 5.066,\n",
       " 5.011333333333333,\n",
       " 5.080333333333333,\n",
       " 5.089666666666667,\n",
       " 5.003333333333333,\n",
       " 5.059666666666667,\n",
       " 5.080666666666667,\n",
       " 5.062333333333333,\n",
       " 5.040666666666667,\n",
       " 5.062666666666667,\n",
       " 5.063,\n",
       " 5.023,\n",
       " 5.0103333333333335,\n",
       " 5.102666666666667,\n",
       " 5.039666666666666,\n",
       " 5.04,\n",
       " 5.077,\n",
       " 5.035666666666667,\n",
       " 5.067,\n",
       " 5.043,\n",
       " 5.082666666666666,\n",
       " 5.044333333333333,\n",
       " 4.992,\n",
       " 5.045333333333334,\n",
       " 5.009666666666667,\n",
       " 5.042666666666666,\n",
       " 5.069333333333334,\n",
       " 5.054,\n",
       " 5.039333333333333,\n",
       " 5.034666666666666,\n",
       " 5.052333333333333,\n",
       " 4.966,\n",
       " 5.038,\n",
       " 5.056666666666667,\n",
       " 5.0296666666666665,\n",
       " 5.036,\n",
       " 5.016333333333334,\n",
       " 5.034666666666666,\n",
       " 5.068,\n",
       " 5.1,\n",
       " 5.031,\n",
       " 5.059333333333333,\n",
       " 5.023333333333333,\n",
       " 5.092333333333333,\n",
       " 5.048666666666667,\n",
       " 5.034,\n",
       " 5.0263333333333335,\n",
       " 5.055666666666666,\n",
       " 5.043333333333333,\n",
       " 5.057,\n",
       " 5.042,\n",
       " 5.043666666666667,\n",
       " 5.0216666666666665,\n",
       " 5.022333333333333,\n",
       " 5.104,\n",
       " 4.995333333333333,\n",
       " 5.046666666666667,\n",
       " 5.0473333333333334,\n",
       " 5.050666666666666,\n",
       " 5.058666666666666,\n",
       " 5.0616666666666665,\n",
       " 5.0616666666666665,\n",
       " 5.051666666666667,\n",
       " 5.061,\n",
       " 5.025666666666667,\n",
       " 5.042333333333334,\n",
       " 5.027,\n",
       " 5.061333333333334,\n",
       " 5.052333333333333,\n",
       " 5.033,\n",
       " 5.025666666666667,\n",
       " 5.052,\n",
       " 5.042666666666666,\n",
       " 5.033333333333333,\n",
       " 5.033666666666667,\n",
       " 5.0,\n",
       " 5.031333333333333,\n",
       " 5.027333333333333,\n",
       " 5.013,\n",
       " 5.009,\n",
       " 5.031333333333333,\n",
       " 5.067666666666667,\n",
       " 5.0216666666666665,\n",
       " 5.0456666666666665,\n",
       " 5.040666666666667,\n",
       " 5.0376666666666665,\n",
       " 5.061333333333334,\n",
       " 5.016666666666667,\n",
       " 5.0056666666666665,\n",
       " 5.049333333333333,\n",
       " 5.009333333333333,\n",
       " 5.050333333333334,\n",
       " 5.034,\n",
       " 5.077333333333334,\n",
       " 5.08,\n",
       " 4.9976666666666665,\n",
       " 5.075333333333333,\n",
       " 5.026,\n",
       " 5.065666666666667,\n",
       " 5.032,\n",
       " 5.033666666666667,\n",
       " 5.064666666666667,\n",
       " 5.04,\n",
       " 5.075333333333333,\n",
       " 4.992666666666667,\n",
       " 5.039333333333333,\n",
       " 5.062666666666667,\n",
       " 5.033666666666667,\n",
       " 5.040666666666667,\n",
       " 4.988333333333333,\n",
       " 5.03,\n",
       " 5.043333333333333,\n",
       " 5.018666666666666,\n",
       " 5.04,\n",
       " 5.007,\n",
       " 5.033,\n",
       " 5.051666666666667,\n",
       " 5.016666666666667,\n",
       " 5.058333333333334,\n",
       " 5.044666666666667,\n",
       " 5.036666666666667,\n",
       " 5.068,\n",
       " 5.033333333333333,\n",
       " 5.042666666666666,\n",
       " 5.019666666666667,\n",
       " 5.018666666666666,\n",
       " 5.035,\n",
       " 4.998,\n",
       " 5.054666666666667,\n",
       " 5.046,\n",
       " 4.983333333333333,\n",
       " 5.072,\n",
       " 5.032666666666667,\n",
       " 5.034,\n",
       " 5.032333333333334,\n",
       " 5.072,\n",
       " 5.043666666666667,\n",
       " 5.036333333333333,\n",
       " 5.030666666666667,\n",
       " 5.04,\n",
       " 5.042666666666666,\n",
       " 5.045333333333334,\n",
       " 5.072,\n",
       " 5.035666666666667,\n",
       " 5.044666666666667,\n",
       " 5.0296666666666665,\n",
       " 5.019666666666667,\n",
       " 5.016666666666667,\n",
       " 5.085333333333334,\n",
       " 5.044333333333333,\n",
       " 5.043333333333333,\n",
       " 5.051666666666667,\n",
       " 5.0536666666666665,\n",
       " 5.054,\n",
       " 5.071666666666666,\n",
       " 5.039,\n",
       " 5.067333333333333,\n",
       " 5.024,\n",
       " 5.044333333333333,\n",
       " 5.070333333333333,\n",
       " 5.1,\n",
       " 5.043333333333333,\n",
       " 5.019666666666667,\n",
       " 5.060666666666667,\n",
       " 5.057333333333333,\n",
       " 5.046333333333333,\n",
       " 5.012666666666667,\n",
       " 5.034,\n",
       " 5.012666666666667,\n",
       " 5.016666666666667,\n",
       " 5.033,\n",
       " 5.06,\n",
       " 5.012333333333333,\n",
       " 5.06,\n",
       " 5.033,\n",
       " 5.043666666666667,\n",
       " 5.057666666666667,\n",
       " 5.059666666666667,\n",
       " 5.064333333333333,\n",
       " 5.040666666666667,\n",
       " 5.036,\n",
       " 5.043666666666667,\n",
       " 5.039,\n",
       " 5.038,\n",
       " 5.028,\n",
       " 4.9976666666666665,\n",
       " 5.038333333333333,\n",
       " 5.0216666666666665,\n",
       " 5.099333333333333,\n",
       " 4.997333333333334,\n",
       " 5.009666666666667,\n",
       " 5.073333333333333,\n",
       " 5.075666666666667,\n",
       " 4.996666666666667,\n",
       " 5.052,\n",
       " 5.109,\n",
       " 5.058,\n",
       " 5.073,\n",
       " 5.030333333333333,\n",
       " 4.986666666666666,\n",
       " 5.066666666666666,\n",
       " 5.075,\n",
       " 5.063,\n",
       " 5.020666666666667,\n",
       " 5.007666666666666,\n",
       " 5.057333333333333,\n",
       " 5.000333333333334,\n",
       " 5.071,\n",
       " 5.085666666666667,\n",
       " 5.009333333333333,\n",
       " 5.035333333333333,\n",
       " 5.017333333333333,\n",
       " 5.043666666666667,\n",
       " 5.046333333333333,\n",
       " 4.993666666666667,\n",
       " 5.047,\n",
       " 5.032666666666667,\n",
       " 5.086666666666667,\n",
       " 4.987,\n",
       " 5.026666666666666,\n",
       " 5.038,\n",
       " 4.9543333333333335,\n",
       " 5.041,\n",
       " 5.093333333333334,\n",
       " 5.0343333333333335,\n",
       " 5.016,\n",
       " 5.035333333333333,\n",
       " 5.054,\n",
       " 5.027333333333333,\n",
       " 5.088,\n",
       " 5.032333333333334,\n",
       " 5.027666666666667,\n",
       " 5.032333333333334,\n",
       " 5.068666666666667,\n",
       " 5.056,\n",
       " 5.01,\n",
       " 5.030333333333333,\n",
       " 5.007666666666666,\n",
       " 5.042,\n",
       " 5.0296666666666665,\n",
       " 5.031333333333333,\n",
       " 5.050333333333334,\n",
       " 5.008333333333334,\n",
       " 5.046333333333333,\n",
       " 5.017,\n",
       " 5.077,\n",
       " 5.092666666666666,\n",
       " 5.056333333333333,\n",
       " 5.039,\n",
       " 5.023666666666666,\n",
       " 5.046,\n",
       " 5.065,\n",
       " 5.065,\n",
       " 5.070333333333333,\n",
       " 5.027333333333333,\n",
       " 5.0473333333333334,\n",
       " 5.088333333333333,\n",
       " 5.023666666666666,\n",
       " 5.015333333333333,\n",
       " 5.084666666666666,\n",
       " 5.061333333333334,\n",
       " 5.051,\n",
       " 5.038333333333333,\n",
       " 5.089666666666667,\n",
       " 5.073333333333333,\n",
       " 5.03,\n",
       " 5.0296666666666665,\n",
       " 5.017666666666667,\n",
       " 5.048333333333333,\n",
       " 5.094,\n",
       " 5.102333333333333,\n",
       " 5.058,\n",
       " 5.052,\n",
       " 5.038666666666667,\n",
       " ...]"
      ]
     },
     "execution_count": 111,
     "metadata": {},
     "output_type": "execute_result"
    }
   ],
   "source": [
    "mean_of_samples"
   ]
  },
  {
   "cell_type": "code",
   "execution_count": 116,
   "metadata": {},
   "outputs": [
    {
     "data": {
      "text/plain": [
       "1.959963984540054"
      ]
     },
     "execution_count": 116,
     "metadata": {},
     "output_type": "execute_result"
    }
   ],
   "source": [
    "z_critical=stats.norm.ppf(q=0.975)\n",
    "z_critical\n",
    "\n",
    "\n",
    "# zcritical for give alpha,ztable"
   ]
  },
  {
   "cell_type": "code",
   "execution_count": 117,
   "metadata": {},
   "outputs": [
    {
     "data": {
      "text/plain": [
       "1.973994288847133"
      ]
     },
     "execution_count": 117,
     "metadata": {},
     "output_type": "execute_result"
    }
   ],
   "source": [
    "# t critical for give alpha,ttable\n",
    "stats.t.ppf(df=24,q=0.97)"
   ]
  },
  {
   "cell_type": "code",
   "execution_count": 118,
   "metadata": {},
   "outputs": [],
   "source": [
    "#margin of error\n",
    "margin_of_error = z_critical*np.std(mean_of_samples)/np.sqrt(20)"
   ]
  },
  {
   "cell_type": "code",
   "execution_count": 119,
   "metadata": {},
   "outputs": [
    {
     "data": {
      "text/plain": [
       "0.012188650264610355"
      ]
     },
     "execution_count": 119,
     "metadata": {},
     "output_type": "execute_result"
    }
   ],
   "source": [
    "margin_of_error"
   ]
  },
  {
   "cell_type": "code",
   "execution_count": 120,
   "metadata": {},
   "outputs": [
    {
     "data": {
      "text/plain": [
       "[5.025666666666667,\n",
       " 5.0183333333333335,\n",
       " 5.101,\n",
       " 5.0183333333333335,\n",
       " 5.052,\n",
       " 5.009666666666667,\n",
       " 5.015333333333333,\n",
       " 5.052,\n",
       " 5.053333333333334,\n",
       " 5.042,\n",
       " 5.078333333333333,\n",
       " 5.026,\n",
       " 5.035333333333333,\n",
       " 5.035333333333333,\n",
       " 5.058,\n",
       " 5.066333333333334,\n",
       " 5.075333333333333,\n",
       " 5.049333333333333,\n",
       " 5.024333333333334,\n",
       " 5.015333333333333,\n",
       " 5.022666666666667,\n",
       " 5.042333333333334,\n",
       " 5.057666666666667,\n",
       " 5.033,\n",
       " 5.076333333333333,\n",
       " 5.005333333333334,\n",
       " 5.080333333333333,\n",
       " 4.999666666666666,\n",
       " 5.046,\n",
       " 5.072,\n",
       " 5.030666666666667,\n",
       " 5.080666666666667,\n",
       " 5.062333333333333,\n",
       " 5.036,\n",
       " 5.031,\n",
       " 5.062333333333333,\n",
       " 5.050333333333334,\n",
       " 5.060333333333333,\n",
       " 5.016333333333334,\n",
       " 5.078,\n",
       " 5.072,\n",
       " 5.058666666666666,\n",
       " 5.086666666666667,\n",
       " 5.062333333333333,\n",
       " 5.033666666666667,\n",
       " 5.0296666666666665,\n",
       " 5.038,\n",
       " 5.004333333333333,\n",
       " 5.028,\n",
       " 5.039333333333333,\n",
       " 5.0376666666666665,\n",
       " 5.039333333333333,\n",
       " 5.013,\n",
       " 5.0263333333333335,\n",
       " 5.039666666666666,\n",
       " 5.075333333333333,\n",
       " 5.063666666666666,\n",
       " 5.017333333333333,\n",
       " 5.078,\n",
       " 4.995,\n",
       " 5.032666666666667,\n",
       " 5.035333333333333,\n",
       " 5.042,\n",
       " 5.055,\n",
       " 5.0616666666666665,\n",
       " 5.000333333333334,\n",
       " 5.027666666666667,\n",
       " 5.084666666666666,\n",
       " 5.05,\n",
       " 4.993666666666667,\n",
       " 5.032,\n",
       " 5.065666666666667,\n",
       " 5.072666666666667,\n",
       " 5.062333333333333,\n",
       " 5.077,\n",
       " 5.025666666666667,\n",
       " 5.057666666666667,\n",
       " 5.070666666666667,\n",
       " 5.016,\n",
       " 5.04,\n",
       " 5.041,\n",
       " 4.990333333333333,\n",
       " 5.037,\n",
       " 5.081,\n",
       " 5.020666666666667,\n",
       " 5.018666666666666,\n",
       " 4.996333333333333,\n",
       " 5.048333333333333,\n",
       " 5.051333333333333,\n",
       " 5.034666666666666,\n",
       " 5.059,\n",
       " 4.995,\n",
       " 5.107,\n",
       " 5.04,\n",
       " 5.039333333333333,\n",
       " 5.078,\n",
       " 4.992,\n",
       " 5.001666666666667,\n",
       " 5.036666666666667,\n",
       " 5.030666666666667,\n",
       " 5.048666666666667,\n",
       " 5.020333333333333,\n",
       " 5.013,\n",
       " 5.022666666666667,\n",
       " 5.039666666666666,\n",
       " 5.100333333333333,\n",
       " 5.004666666666667,\n",
       " 4.988,\n",
       " 5.073666666666667,\n",
       " 5.132,\n",
       " 5.034,\n",
       " 5.005333333333334,\n",
       " 5.036666666666667,\n",
       " 5.044666666666667,\n",
       " 5.057666666666667,\n",
       " 5.048333333333333,\n",
       " 5.09,\n",
       " 5.049333333333333,\n",
       " 5.062666666666667,\n",
       " 5.012333333333333,\n",
       " 5.058666666666666,\n",
       " 5.003,\n",
       " 5.023666666666666,\n",
       " 5.016333333333334,\n",
       " 5.030666666666667,\n",
       " 5.030666666666667,\n",
       " 4.999333333333333,\n",
       " 5.036333333333333,\n",
       " 5.048,\n",
       " 5.031333333333333,\n",
       " 4.999666666666666,\n",
       " 5.038333333333333,\n",
       " 5.007666666666666,\n",
       " 5.048333333333333,\n",
       " 5.040666666666667,\n",
       " 5.037333333333334,\n",
       " 5.025666666666667,\n",
       " 5.000333333333334,\n",
       " 5.020333333333333,\n",
       " 5.026,\n",
       " 5.016,\n",
       " 5.096666666666667,\n",
       " 5.066333333333334,\n",
       " 5.051666666666667,\n",
       " 5.030333333333333,\n",
       " 5.0696666666666665,\n",
       " 5.042,\n",
       " 5.072333333333333,\n",
       " 4.9943333333333335,\n",
       " 5.028,\n",
       " 5.041333333333333,\n",
       " 5.007666666666666,\n",
       " 5.069,\n",
       " 5.050666666666666,\n",
       " 5.029333333333334,\n",
       " 5.010666666666666,\n",
       " 4.992333333333334,\n",
       " 5.080333333333333,\n",
       " 5.058333333333334,\n",
       " 5.067,\n",
       " 5.052,\n",
       " 5.023666666666666,\n",
       " 5.027333333333333,\n",
       " 5.052333333333333,\n",
       " 5.104333333333333,\n",
       " 5.058666666666666,\n",
       " 5.046,\n",
       " 5.018666666666666,\n",
       " 5.0136666666666665,\n",
       " 5.027,\n",
       " 5.049,\n",
       " 5.046,\n",
       " 5.006,\n",
       " 5.028,\n",
       " 5.0473333333333334,\n",
       " 5.031333333333333,\n",
       " 5.031,\n",
       " 4.997,\n",
       " 5.057333333333333,\n",
       " 5.015666666666666,\n",
       " 5.062333333333333,\n",
       " 5.036,\n",
       " 5.073333333333333,\n",
       " 5.093,\n",
       " 5.029333333333334,\n",
       " 5.075333333333333,\n",
       " 5.044333333333333,\n",
       " 5.014,\n",
       " 5.001666666666667,\n",
       " 5.108,\n",
       " 5.039666666666666,\n",
       " 5.068,\n",
       " 5.026,\n",
       " 5.065666666666667,\n",
       " 5.091333333333333,\n",
       " 5.04,\n",
       " 4.998,\n",
       " 5.091333333333333,\n",
       " 5.018,\n",
       " 5.057333333333333,\n",
       " 5.014,\n",
       " 5.059333333333333,\n",
       " 4.9943333333333335,\n",
       " 5.078666666666667,\n",
       " 5.023333333333333,\n",
       " 5.045,\n",
       " 5.038333333333333,\n",
       " 5.015,\n",
       " 5.050333333333334,\n",
       " 5.013,\n",
       " 5.021333333333334,\n",
       " 5.0713333333333335,\n",
       " 4.9896666666666665,\n",
       " 5.046666666666667,\n",
       " 5.051333333333333,\n",
       " 4.998,\n",
       " 5.009666666666667,\n",
       " 5.073,\n",
       " 5.012666666666667,\n",
       " 5.051,\n",
       " 5.030333333333333,\n",
       " 5.0343333333333335,\n",
       " 5.113,\n",
       " 5.037333333333334,\n",
       " 5.048,\n",
       " 5.043,\n",
       " 5.073333333333333,\n",
       " 5.050666666666666,\n",
       " 5.056666666666667,\n",
       " 5.0183333333333335,\n",
       " 5.0136666666666665,\n",
       " 5.059333333333333,\n",
       " 5.002666666666666,\n",
       " 4.991,\n",
       " 5.059333333333333,\n",
       " 5.026,\n",
       " 5.050666666666666,\n",
       " 5.047666666666666,\n",
       " 5.038333333333333,\n",
       " 5.083666666666667,\n",
       " 5.038666666666667,\n",
       " 5.082333333333334,\n",
       " 5.012333333333333,\n",
       " 5.068,\n",
       " 5.05,\n",
       " 5.057666666666667,\n",
       " 5.052,\n",
       " 5.060666666666667,\n",
       " 5.037333333333334,\n",
       " 5.004,\n",
       " 5.036666666666667,\n",
       " 5.097666666666667,\n",
       " 5.041333333333333,\n",
       " 5.051,\n",
       " 5.068666666666667,\n",
       " 5.052333333333333,\n",
       " 5.023333333333333,\n",
       " 5.040666666666667,\n",
       " 5.061333333333334,\n",
       " 5.051,\n",
       " 5.072,\n",
       " 5.048,\n",
       " 5.049333333333333,\n",
       " 5.033666666666667,\n",
       " 5.043,\n",
       " 5.028,\n",
       " 5.066333333333334,\n",
       " 5.093,\n",
       " 4.982333333333333,\n",
       " 5.057666666666667,\n",
       " 5.031,\n",
       " 5.072,\n",
       " 5.105333333333333,\n",
       " 4.996666666666667,\n",
       " 5.0216666666666665,\n",
       " 5.003,\n",
       " 5.036333333333333,\n",
       " 5.014666666666667,\n",
       " 5.085333333333334,\n",
       " 5.039,\n",
       " 5.046,\n",
       " 5.0536666666666665,\n",
       " 5.022,\n",
       " 5.082,\n",
       " 5.014666666666667,\n",
       " 4.979666666666667,\n",
       " 5.035333333333333,\n",
       " 5.053,\n",
       " 5.033666666666667,\n",
       " 5.105666666666667,\n",
       " 5.042,\n",
       " 5.065333333333333,\n",
       " 5.028,\n",
       " 5.025333333333333,\n",
       " 5.082,\n",
       " 5.062666666666667,\n",
       " 5.100333333333333,\n",
       " 5.085333333333334,\n",
       " 5.008666666666667,\n",
       " 5.0216666666666665,\n",
       " 5.004666666666667,\n",
       " 5.059666666666667,\n",
       " 5.033,\n",
       " 5.068,\n",
       " 4.997,\n",
       " 5.078666666666667,\n",
       " 5.021,\n",
       " 5.044,\n",
       " 4.983333333333333,\n",
       " 5.048666666666667,\n",
       " 5.035666666666667,\n",
       " 4.993666666666667,\n",
       " 5.09,\n",
       " 5.028333333333333,\n",
       " 5.0553333333333335,\n",
       " 5.075666666666667,\n",
       " 5.041,\n",
       " 5.059333333333333,\n",
       " 5.070333333333333,\n",
       " 5.079666666666666,\n",
       " 5.011333333333333,\n",
       " 5.073666666666667,\n",
       " 5.059,\n",
       " 5.0696666666666665,\n",
       " 5.031333333333333,\n",
       " 5.034,\n",
       " 5.053,\n",
       " 5.072666666666667,\n",
       " 5.062333333333333,\n",
       " 5.015666666666666,\n",
       " 5.0616666666666665,\n",
       " 5.054333333333333,\n",
       " 5.055,\n",
       " 4.982,\n",
       " 4.9976666666666665,\n",
       " 4.999,\n",
       " 5.049333333333333,\n",
       " 5.052333333333333,\n",
       " 5.019666666666667,\n",
       " 5.0136666666666665,\n",
       " 5.044333333333333,\n",
       " 5.051666666666667,\n",
       " 5.005,\n",
       " 5.039333333333333,\n",
       " 5.017333333333333,\n",
       " 5.053,\n",
       " 5.056333333333333,\n",
       " 5.048333333333333,\n",
       " 5.049666666666667,\n",
       " 5.027,\n",
       " 5.063666666666666,\n",
       " 5.028,\n",
       " 5.1,\n",
       " 5.035666666666667,\n",
       " 5.042666666666666,\n",
       " 5.048333333333333,\n",
       " 5.049333333333333,\n",
       " 5.045,\n",
       " 5.031666666666666,\n",
       " 5.081333333333333,\n",
       " 4.999,\n",
       " 5.033666666666667,\n",
       " 4.991,\n",
       " 5.080666666666667,\n",
       " 4.996666666666667,\n",
       " 5.015333333333333,\n",
       " 5.075666666666667,\n",
       " 5.067333333333333,\n",
       " 5.018,\n",
       " 5.068333333333333,\n",
       " 5.035,\n",
       " 5.0616666666666665,\n",
       " 5.044666666666667,\n",
       " 5.0473333333333334,\n",
       " 5.099333333333333,\n",
       " 5.083333333333333,\n",
       " 5.0456666666666665,\n",
       " 5.019,\n",
       " 5.059333333333333,\n",
       " 5.039666666666666,\n",
       " 5.039333333333333,\n",
       " 5.044666666666667,\n",
       " 4.967333333333333,\n",
       " 5.053,\n",
       " 5.032666666666667,\n",
       " 5.050666666666666,\n",
       " 5.063,\n",
       " 5.041,\n",
       " 5.048333333333333,\n",
       " 5.042666666666666,\n",
       " 5.035,\n",
       " 5.006,\n",
       " 5.048333333333333,\n",
       " 5.046,\n",
       " 5.036,\n",
       " 4.974666666666667,\n",
       " 5.063,\n",
       " 5.054,\n",
       " 5.006666666666667,\n",
       " 5.026666666666666,\n",
       " 5.014333333333333,\n",
       " 4.994,\n",
       " 5.015,\n",
       " 5.061,\n",
       " 5.031333333333333,\n",
       " 5.034666666666666,\n",
       " 5.054333333333333,\n",
       " 5.011333333333333,\n",
       " 5.043,\n",
       " 5.019333333333333,\n",
       " 5.068666666666667,\n",
       " 5.034,\n",
       " 5.0616666666666665,\n",
       " 5.024333333333334,\n",
       " 5.037333333333334,\n",
       " 5.042666666666666,\n",
       " 5.028,\n",
       " 5.048,\n",
       " 5.130333333333334,\n",
       " 5.009333333333333,\n",
       " 5.002666666666666,\n",
       " 5.047,\n",
       " 5.0343333333333335,\n",
       " 5.079,\n",
       " 5.020333333333333,\n",
       " 5.026666666666666,\n",
       " 5.046,\n",
       " 4.999333333333333,\n",
       " 5.078666666666667,\n",
       " 5.035666666666667,\n",
       " 5.034666666666666,\n",
       " 5.040666666666667,\n",
       " 5.037333333333334,\n",
       " 5.020333333333333,\n",
       " 5.044666666666667,\n",
       " 5.015333333333333,\n",
       " 5.065333333333333,\n",
       " 5.060333333333333,\n",
       " 5.043,\n",
       " 5.069333333333334,\n",
       " 5.031666666666666,\n",
       " 5.024,\n",
       " 5.004,\n",
       " 5.029,\n",
       " 5.089,\n",
       " 5.022666666666667,\n",
       " 5.073666666666667,\n",
       " 5.011,\n",
       " 5.098333333333334,\n",
       " 4.9656666666666665,\n",
       " 5.03,\n",
       " 5.02,\n",
       " 5.071666666666666,\n",
       " 5.029333333333334,\n",
       " 5.033333333333333,\n",
       " 5.034666666666666,\n",
       " 5.031333333333333,\n",
       " 5.015,\n",
       " 5.064666666666667,\n",
       " 4.962666666666666,\n",
       " 5.052333333333333,\n",
       " 5.013,\n",
       " 5.0456666666666665,\n",
       " 5.065,\n",
       " 5.0183333333333335,\n",
       " 5.069333333333334,\n",
       " 5.035333333333333,\n",
       " 5.031666666666666,\n",
       " 5.001666666666667,\n",
       " 4.97,\n",
       " 5.040666666666667,\n",
       " 5.019333333333333,\n",
       " 5.0456666666666665,\n",
       " 5.075333333333333,\n",
       " 5.035333333333333,\n",
       " 5.0536666666666665,\n",
       " 5.0713333333333335,\n",
       " 5.013,\n",
       " 5.0473333333333334,\n",
       " 5.060666666666667,\n",
       " 5.028333333333333,\n",
       " 5.022333333333333,\n",
       " 5.084666666666666,\n",
       " 5.031333333333333,\n",
       " 5.0696666666666665,\n",
       " 5.025,\n",
       " 5.038,\n",
       " 5.06,\n",
       " 5.055,\n",
       " 5.035333333333333,\n",
       " 5.006,\n",
       " 5.032,\n",
       " 5.043333333333333,\n",
       " 5.035333333333333,\n",
       " 5.055666666666666,\n",
       " 5.055666666666666,\n",
       " 5.085333333333334,\n",
       " 5.041,\n",
       " 5.053333333333334,\n",
       " 5.069333333333334,\n",
       " 5.063666666666666,\n",
       " 5.065,\n",
       " 5.051,\n",
       " 5.061333333333334,\n",
       " 5.058666666666666,\n",
       " 5.063666666666666,\n",
       " 5.033,\n",
       " 5.0713333333333335,\n",
       " 4.9736666666666665,\n",
       " 5.072333333333333,\n",
       " 5.024666666666667,\n",
       " 5.011333333333333,\n",
       " 4.989333333333334,\n",
       " 5.085333333333334,\n",
       " 5.062333333333333,\n",
       " 5.005,\n",
       " 5.008,\n",
       " 5.083,\n",
       " 5.070666666666667,\n",
       " 5.0633333333333335,\n",
       " 5.044666666666667,\n",
       " 5.047666666666666,\n",
       " 4.992666666666667,\n",
       " 5.026666666666666,\n",
       " 5.066666666666666,\n",
       " 5.043666666666667,\n",
       " 5.110333333333333,\n",
       " 5.067333333333333,\n",
       " 5.030333333333333,\n",
       " 5.055,\n",
       " 5.074333333333334,\n",
       " 5.040666666666667,\n",
       " 4.990333333333333,\n",
       " 5.037333333333334,\n",
       " 5.012333333333333,\n",
       " 5.045333333333334,\n",
       " 5.039333333333333,\n",
       " 5.084333333333333,\n",
       " 5.037,\n",
       " 4.987,\n",
       " 5.019666666666667,\n",
       " 4.994666666666666,\n",
       " 5.044333333333333,\n",
       " 5.029333333333334,\n",
       " 4.992666666666667,\n",
       " 5.031333333333333,\n",
       " 5.028,\n",
       " 5.055666666666666,\n",
       " 5.051,\n",
       " 5.056666666666667,\n",
       " 5.072,\n",
       " 5.043,\n",
       " 5.039333333333333,\n",
       " 5.061333333333334,\n",
       " 4.969333333333333,\n",
       " 5.017,\n",
       " 5.051,\n",
       " 5.0986666666666665,\n",
       " 5.043333333333333,\n",
       " 5.07,\n",
       " 4.999666666666666,\n",
       " 5.017333333333333,\n",
       " 4.993333333333333,\n",
       " 5.048333333333333,\n",
       " 5.021333333333334,\n",
       " 5.004,\n",
       " 5.033333333333333,\n",
       " 5.032333333333334,\n",
       " 5.091666666666667,\n",
       " 5.031,\n",
       " 5.007333333333333,\n",
       " 4.997,\n",
       " 5.037333333333334,\n",
       " 5.012,\n",
       " 5.048666666666667,\n",
       " 5.036,\n",
       " 5.060666666666667,\n",
       " 5.012666666666667,\n",
       " 4.995666666666667,\n",
       " 5.030333333333333,\n",
       " 5.045333333333334,\n",
       " 5.028,\n",
       " 5.043333333333333,\n",
       " 5.068333333333333,\n",
       " 5.0103333333333335,\n",
       " 5.062,\n",
       " 4.975666666666666,\n",
       " 5.045333333333334,\n",
       " 5.036,\n",
       " 5.059,\n",
       " 5.016666666666667,\n",
       " 5.066,\n",
       " 5.002,\n",
       " 5.028666666666667,\n",
       " 5.04,\n",
       " 5.048666666666667,\n",
       " 5.041333333333333,\n",
       " 5.038333333333333,\n",
       " 5.076666666666667,\n",
       " 5.102666666666667,\n",
       " 5.04,\n",
       " 5.042666666666666,\n",
       " 5.049666666666667,\n",
       " 5.038,\n",
       " 5.0536666666666665,\n",
       " 5.0296666666666665,\n",
       " 5.057333333333333,\n",
       " 5.064333333333333,\n",
       " 5.033666666666667,\n",
       " 5.063666666666666,\n",
       " 5.060666666666667,\n",
       " 5.019666666666667,\n",
       " 5.039,\n",
       " 5.062333333333333,\n",
       " 5.035333333333333,\n",
       " 5.036666666666667,\n",
       " 5.069,\n",
       " 5.078666666666667,\n",
       " 4.965333333333334,\n",
       " 5.013333333333334,\n",
       " 5.054333333333333,\n",
       " 5.011333333333333,\n",
       " 5.062333333333333,\n",
       " 4.998333333333333,\n",
       " 5.052,\n",
       " 5.067,\n",
       " 5.051666666666667,\n",
       " 5.037,\n",
       " 5.01,\n",
       " 5.038,\n",
       " 5.041333333333333,\n",
       " 5.048,\n",
       " 5.033666666666667,\n",
       " 5.071666666666666,\n",
       " 5.014,\n",
       " 5.065,\n",
       " 5.037,\n",
       " 5.018,\n",
       " 5.0103333333333335,\n",
       " 5.034666666666666,\n",
       " 5.068666666666667,\n",
       " 4.982,\n",
       " 5.098333333333334,\n",
       " 5.044333333333333,\n",
       " 5.031,\n",
       " 5.088,\n",
       " 5.03,\n",
       " 4.999666666666666,\n",
       " 5.054,\n",
       " 5.0536666666666665,\n",
       " 4.994,\n",
       " 5.0183333333333335,\n",
       " 5.017333333333333,\n",
       " 5.043333333333333,\n",
       " 5.04,\n",
       " 5.05,\n",
       " 5.012666666666667,\n",
       " 5.089333333333333,\n",
       " 5.093666666666667,\n",
       " 5.096666666666667,\n",
       " 5.013333333333334,\n",
       " 5.058,\n",
       " 5.001666666666667,\n",
       " 5.0056666666666665,\n",
       " 5.028,\n",
       " 5.073666666666667,\n",
       " 5.030333333333333,\n",
       " 5.031,\n",
       " 5.0793333333333335,\n",
       " 5.009333333333333,\n",
       " 5.083666666666667,\n",
       " 5.048,\n",
       " 5.040333333333334,\n",
       " 5.033,\n",
       " 5.059,\n",
       " 5.086,\n",
       " 4.996333333333333,\n",
       " 5.026,\n",
       " 5.070666666666667,\n",
       " 5.022666666666667,\n",
       " 5.043,\n",
       " 5.027666666666667,\n",
       " 5.018,\n",
       " 5.0343333333333335,\n",
       " 5.041333333333333,\n",
       " 5.078,\n",
       " 5.010666666666666,\n",
       " 5.042333333333334,\n",
       " 5.025333333333333,\n",
       " 5.030333333333333,\n",
       " 5.058333333333334,\n",
       " 5.066333333333334,\n",
       " 5.051,\n",
       " 5.0376666666666665,\n",
       " 5.049,\n",
       " 5.095,\n",
       " 5.068333333333333,\n",
       " 5.058,\n",
       " 5.0473333333333334,\n",
       " 5.032666666666667,\n",
       " 5.048,\n",
       " 5.018666666666666,\n",
       " 5.013,\n",
       " 5.043,\n",
       " 5.019,\n",
       " 5.021333333333334,\n",
       " 5.088333333333333,\n",
       " 4.998,\n",
       " 5.078666666666667,\n",
       " 4.993,\n",
       " 5.057666666666667,\n",
       " 5.081333333333333,\n",
       " 5.025,\n",
       " 5.027333333333333,\n",
       " 5.0136666666666665,\n",
       " 5.026,\n",
       " 5.055,\n",
       " 5.006333333333333,\n",
       " 5.016333333333334,\n",
       " 5.054333333333333,\n",
       " 4.991666666666666,\n",
       " 5.062,\n",
       " 5.025666666666667,\n",
       " 5.039666666666666,\n",
       " 5.0553333333333335,\n",
       " 5.044333333333333,\n",
       " 5.066,\n",
       " 5.011333333333333,\n",
       " 5.080333333333333,\n",
       " 5.089666666666667,\n",
       " 5.003333333333333,\n",
       " 5.059666666666667,\n",
       " 5.080666666666667,\n",
       " 5.062333333333333,\n",
       " 5.040666666666667,\n",
       " 5.062666666666667,\n",
       " 5.063,\n",
       " 5.023,\n",
       " 5.0103333333333335,\n",
       " 5.102666666666667,\n",
       " 5.039666666666666,\n",
       " 5.04,\n",
       " 5.077,\n",
       " 5.035666666666667,\n",
       " 5.067,\n",
       " 5.043,\n",
       " 5.082666666666666,\n",
       " 5.044333333333333,\n",
       " 4.992,\n",
       " 5.045333333333334,\n",
       " 5.009666666666667,\n",
       " 5.042666666666666,\n",
       " 5.069333333333334,\n",
       " 5.054,\n",
       " 5.039333333333333,\n",
       " 5.034666666666666,\n",
       " 5.052333333333333,\n",
       " 4.966,\n",
       " 5.038,\n",
       " 5.056666666666667,\n",
       " 5.0296666666666665,\n",
       " 5.036,\n",
       " 5.016333333333334,\n",
       " 5.034666666666666,\n",
       " 5.068,\n",
       " 5.1,\n",
       " 5.031,\n",
       " 5.059333333333333,\n",
       " 5.023333333333333,\n",
       " 5.092333333333333,\n",
       " 5.048666666666667,\n",
       " 5.034,\n",
       " 5.0263333333333335,\n",
       " 5.055666666666666,\n",
       " 5.043333333333333,\n",
       " 5.057,\n",
       " 5.042,\n",
       " 5.043666666666667,\n",
       " 5.0216666666666665,\n",
       " 5.022333333333333,\n",
       " 5.104,\n",
       " 4.995333333333333,\n",
       " 5.046666666666667,\n",
       " 5.0473333333333334,\n",
       " 5.050666666666666,\n",
       " 5.058666666666666,\n",
       " 5.0616666666666665,\n",
       " 5.0616666666666665,\n",
       " 5.051666666666667,\n",
       " 5.061,\n",
       " 5.025666666666667,\n",
       " 5.042333333333334,\n",
       " 5.027,\n",
       " 5.061333333333334,\n",
       " 5.052333333333333,\n",
       " 5.033,\n",
       " 5.025666666666667,\n",
       " 5.052,\n",
       " 5.042666666666666,\n",
       " 5.033333333333333,\n",
       " 5.033666666666667,\n",
       " 5.0,\n",
       " 5.031333333333333,\n",
       " 5.027333333333333,\n",
       " 5.013,\n",
       " 5.009,\n",
       " 5.031333333333333,\n",
       " 5.067666666666667,\n",
       " 5.0216666666666665,\n",
       " 5.0456666666666665,\n",
       " 5.040666666666667,\n",
       " 5.0376666666666665,\n",
       " 5.061333333333334,\n",
       " 5.016666666666667,\n",
       " 5.0056666666666665,\n",
       " 5.049333333333333,\n",
       " 5.009333333333333,\n",
       " 5.050333333333334,\n",
       " 5.034,\n",
       " 5.077333333333334,\n",
       " 5.08,\n",
       " 4.9976666666666665,\n",
       " 5.075333333333333,\n",
       " 5.026,\n",
       " 5.065666666666667,\n",
       " 5.032,\n",
       " 5.033666666666667,\n",
       " 5.064666666666667,\n",
       " 5.04,\n",
       " 5.075333333333333,\n",
       " 4.992666666666667,\n",
       " 5.039333333333333,\n",
       " 5.062666666666667,\n",
       " 5.033666666666667,\n",
       " 5.040666666666667,\n",
       " 4.988333333333333,\n",
       " 5.03,\n",
       " 5.043333333333333,\n",
       " 5.018666666666666,\n",
       " 5.04,\n",
       " 5.007,\n",
       " 5.033,\n",
       " 5.051666666666667,\n",
       " 5.016666666666667,\n",
       " 5.058333333333334,\n",
       " 5.044666666666667,\n",
       " 5.036666666666667,\n",
       " 5.068,\n",
       " 5.033333333333333,\n",
       " 5.042666666666666,\n",
       " 5.019666666666667,\n",
       " 5.018666666666666,\n",
       " 5.035,\n",
       " 4.998,\n",
       " 5.054666666666667,\n",
       " 5.046,\n",
       " 4.983333333333333,\n",
       " 5.072,\n",
       " 5.032666666666667,\n",
       " 5.034,\n",
       " 5.032333333333334,\n",
       " 5.072,\n",
       " 5.043666666666667,\n",
       " 5.036333333333333,\n",
       " 5.030666666666667,\n",
       " 5.04,\n",
       " 5.042666666666666,\n",
       " 5.045333333333334,\n",
       " 5.072,\n",
       " 5.035666666666667,\n",
       " 5.044666666666667,\n",
       " 5.0296666666666665,\n",
       " 5.019666666666667,\n",
       " 5.016666666666667,\n",
       " 5.085333333333334,\n",
       " 5.044333333333333,\n",
       " 5.043333333333333,\n",
       " 5.051666666666667,\n",
       " 5.0536666666666665,\n",
       " 5.054,\n",
       " 5.071666666666666,\n",
       " 5.039,\n",
       " 5.067333333333333,\n",
       " 5.024,\n",
       " 5.044333333333333,\n",
       " 5.070333333333333,\n",
       " 5.1,\n",
       " 5.043333333333333,\n",
       " 5.019666666666667,\n",
       " 5.060666666666667,\n",
       " 5.057333333333333,\n",
       " 5.046333333333333,\n",
       " 5.012666666666667,\n",
       " 5.034,\n",
       " 5.012666666666667,\n",
       " 5.016666666666667,\n",
       " 5.033,\n",
       " 5.06,\n",
       " 5.012333333333333,\n",
       " 5.06,\n",
       " 5.033,\n",
       " 5.043666666666667,\n",
       " 5.057666666666667,\n",
       " 5.059666666666667,\n",
       " 5.064333333333333,\n",
       " 5.040666666666667,\n",
       " 5.036,\n",
       " 5.043666666666667,\n",
       " 5.039,\n",
       " 5.038,\n",
       " 5.028,\n",
       " 4.9976666666666665,\n",
       " 5.038333333333333,\n",
       " 5.0216666666666665,\n",
       " 5.099333333333333,\n",
       " 4.997333333333334,\n",
       " 5.009666666666667,\n",
       " 5.073333333333333,\n",
       " 5.075666666666667,\n",
       " 4.996666666666667,\n",
       " 5.052,\n",
       " 5.109,\n",
       " 5.058,\n",
       " 5.073,\n",
       " 5.030333333333333,\n",
       " 4.986666666666666,\n",
       " 5.066666666666666,\n",
       " 5.075,\n",
       " 5.063,\n",
       " 5.020666666666667,\n",
       " 5.007666666666666,\n",
       " 5.057333333333333,\n",
       " 5.000333333333334,\n",
       " 5.071,\n",
       " 5.085666666666667,\n",
       " 5.009333333333333,\n",
       " 5.035333333333333,\n",
       " 5.017333333333333,\n",
       " 5.043666666666667,\n",
       " 5.046333333333333,\n",
       " 4.993666666666667,\n",
       " 5.047,\n",
       " 5.032666666666667,\n",
       " 5.086666666666667,\n",
       " 4.987,\n",
       " 5.026666666666666,\n",
       " 5.038,\n",
       " 4.9543333333333335,\n",
       " 5.041,\n",
       " 5.093333333333334,\n",
       " 5.0343333333333335,\n",
       " 5.016,\n",
       " 5.035333333333333,\n",
       " 5.054,\n",
       " 5.027333333333333,\n",
       " 5.088,\n",
       " 5.032333333333334,\n",
       " 5.027666666666667,\n",
       " 5.032333333333334,\n",
       " 5.068666666666667,\n",
       " 5.056,\n",
       " 5.01,\n",
       " 5.030333333333333,\n",
       " 5.007666666666666,\n",
       " 5.042,\n",
       " 5.0296666666666665,\n",
       " 5.031333333333333,\n",
       " 5.050333333333334,\n",
       " 5.008333333333334,\n",
       " 5.046333333333333,\n",
       " 5.017,\n",
       " 5.077,\n",
       " 5.092666666666666,\n",
       " 5.056333333333333,\n",
       " 5.039,\n",
       " 5.023666666666666,\n",
       " 5.046,\n",
       " 5.065,\n",
       " 5.065,\n",
       " 5.070333333333333,\n",
       " 5.027333333333333,\n",
       " 5.0473333333333334,\n",
       " 5.088333333333333,\n",
       " 5.023666666666666,\n",
       " 5.015333333333333,\n",
       " 5.084666666666666,\n",
       " 5.061333333333334,\n",
       " 5.051,\n",
       " 5.038333333333333,\n",
       " 5.089666666666667,\n",
       " 5.073333333333333,\n",
       " 5.03,\n",
       " 5.0296666666666665,\n",
       " 5.017666666666667,\n",
       " 5.048333333333333,\n",
       " 5.094,\n",
       " 5.102333333333333,\n",
       " 5.058,\n",
       " 5.052,\n",
       " 5.038666666666667,\n",
       " ...]"
      ]
     },
     "execution_count": 120,
     "metadata": {},
     "output_type": "execute_result"
    }
   ],
   "source": [
    "mean_of_samples"
   ]
  },
  {
   "cell_type": "code",
   "execution_count": 123,
   "metadata": {},
   "outputs": [
    {
     "data": {
      "text/plain": [
       "(5.028488217422159, 5.052865517951379)"
      ]
     },
     "execution_count": 123,
     "metadata": {},
     "output_type": "execute_result"
    }
   ],
   "source": [
    "#confidence intervl\n",
    "np.mean(mean_of_samples)-margin_of_error,np.mean(mean_of_samples)+margin_of_error"
   ]
  },
  {
   "cell_type": "code",
   "execution_count": 124,
   "metadata": {},
   "outputs": [
    {
     "data": {
      "text/plain": [
       "array([-0.05345732,  0.7454752 ,  1.90601363,  1.1519753 , -0.50700972,\n",
       "       -0.81255241, -0.00340307,  1.40416327,  1.88557996, -0.70321213,\n",
       "       -0.16318353, -0.49109672, -0.76023175,  0.16493671, -0.04516977,\n",
       "        0.18082032, -0.73146583, -0.12054976, -2.04950515,  0.3631717 ,\n",
       "       -0.21965243,  0.46667382, -0.17853453, -1.13861347, -0.18532883,\n",
       "       -1.18184269, -0.44692809, -0.20695226,  0.42095627, -1.58426031,\n",
       "        0.4469193 , -1.06162157, -1.36970243,  0.85041116,  0.00404916,\n",
       "       -0.99318161,  0.4685337 , -0.16988942,  0.74028523,  0.23908659,\n",
       "       -0.62647953, -0.19911747,  1.23929854,  1.53797871,  0.26139962,\n",
       "        2.0143456 , -1.15815163, -0.01022474,  0.49233727, -0.87067776,\n",
       "       -1.95588499, -0.38420672,  0.09636426, -1.72881568,  1.13741942,\n",
       "        0.57489701, -0.90927   ,  1.63162519, -1.07316148, -1.68524088,\n",
       "       -1.58321525,  0.68329936,  0.47438019, -0.39363247,  0.51172981,\n",
       "        0.10695432, -0.62142283, -0.22483366,  0.18999896,  0.94595931,\n",
       "       -1.08616786,  0.26948434, -0.72084812,  0.38823072, -0.3175211 ,\n",
       "       -0.89249709,  1.65174865,  0.17087885, -0.57508438,  0.75283273,\n",
       "       -0.40743684,  0.22136409, -1.08556811, -0.6150391 ,  0.95405322,\n",
       "       -0.99129998,  0.10011163,  1.32032711,  0.38319337, -0.81030392,\n",
       "       -0.17413834,  1.68238319,  0.86252261, -0.69314039, -1.07911902,\n",
       "        0.33634936, -1.60726853, -0.85436804,  0.14788544,  0.74627956])"
      ]
     },
     "execution_count": 124,
     "metadata": {},
     "output_type": "execute_result"
    }
   ],
   "source": [
    "#Ztest \n",
    "\n",
    "\n",
    "from numpy.random import randn\n",
    "population = randn(100)\n",
    "population"
   ]
  },
  {
   "cell_type": "code",
   "execution_count": 125,
   "metadata": {},
   "outputs": [
    {
     "name": "stderr",
     "output_type": "stream",
     "text": [
      "C:\\Users\\Admin\\AppData\\Local\\Temp\\ipykernel_13232\\2958836585.py:1: UserWarning: \n",
      "\n",
      "`distplot` is a deprecated function and will be removed in seaborn v0.14.0.\n",
      "\n",
      "Please adapt your code to use either `displot` (a figure-level function with\n",
      "similar flexibility) or `histplot` (an axes-level function for histograms).\n",
      "\n",
      "For a guide to updating your code to use the new functions, please see\n",
      "https://gist.github.com/mwaskom/de44147ed2974457ad6372750bbe5751\n",
      "\n",
      "  sns.distplot(population)\n"
     ]
    },
    {
     "data": {
      "text/plain": [
       "<Axes: ylabel='Density'>"
      ]
     },
     "execution_count": 125,
     "metadata": {},
     "output_type": "execute_result"
    },
    {
     "data": {
      "image/png": "[encoded data removed]",
      "text/plain": [
       "<Figure size 640x480 with 1 Axes>"
      ]
     },
     "metadata": {},
     "output_type": "display_data"
    }
   ],
   "source": [
    "sns.distplot(population)"
   ]
  },
  {
   "cell_type": "code",
   "execution_count": 126,
   "metadata": {},
   "outputs": [
    {
     "data": {
      "text/plain": [
       "(-0.07186796968156929, 0.9125493914262066)"
      ]
     },
     "execution_count": 126,
     "metadata": {},
     "output_type": "execute_result"
    }
   ],
   "source": [
    "np.mean(population),np.std(population)"
   ]
  },
  {
   "cell_type": "code",
   "execution_count": 128,
   "metadata": {},
   "outputs": [],
   "source": [
    "null_mean = 0.05 #claim\n",
    "#if pvalue <= 0.05 -- reject null hypothesis\n",
    "#if p value >0.05 -- failto reject null hypothesis\n",
    "\n",
    "\n",
    "from statsmodels.stats.weightstats import ztest\n"
   ]
  },
  {
   "cell_type": "code",
   "execution_count": 132,
   "metadata": {},
   "outputs": [],
   "source": [
    "zscore, pvalue =ztest(population,value=null_mean,alternative='larger') # here alternative means,mean is greater than null mean"
   ]
  },
  {
   "cell_type": "code",
   "execution_count": 133,
   "metadata": {},
   "outputs": [
    {
     "data": {
      "text/plain": [
       "(-1.328772995282386, 0.9080385629679575)"
      ]
     },
     "execution_count": 133,
     "metadata": {},
     "output_type": "execute_result"
    }
   ],
   "source": [
    "zscore, pvalue"
   ]
  },
  {
   "cell_type": "code",
   "execution_count": 134,
   "metadata": {},
   "outputs": [
    {
     "data": {
      "text/plain": [
       "-1.328772995282386"
      ]
     },
     "execution_count": 134,
     "metadata": {},
     "output_type": "execute_result"
    }
   ],
   "source": [
    "zscore"
   ]
  },
  {
   "cell_type": "code",
   "execution_count": 135,
   "metadata": {},
   "outputs": [
    {
     "data": {
      "text/plain": [
       "0.9080385629679575"
      ]
     },
     "execution_count": 135,
     "metadata": {},
     "output_type": "execute_result"
    }
   ],
   "source": [
    "pvalue"
   ]
  },
  {
   "cell_type": "code",
   "execution_count": 138,
   "metadata": {},
   "outputs": [
    {
     "name": "stdout",
     "output_type": "stream",
     "text": [
      "fail to reject the HO\n"
     ]
    }
   ],
   "source": [
    "if pvalue <= 0.05:\n",
    "    print(\"Reject the HO\")\n",
    "else:\n",
    "    print(\"fail to reject the HO\")    "
   ]
  },
  {
   "cell_type": "code",
   "execution_count": 139,
   "metadata": {},
   "outputs": [],
   "source": [
    "# zcritical approach\n",
    "import scipy.stats as stats\n",
    "\n",
    "\n",
    "sample_mean = 100\n",
    "population_mean=90\n",
    "population_std=16\n",
    "sample_size=50\n",
    "alpha=0.05"
   ]
  },
  {
   "cell_type": "code",
   "execution_count": 140,
   "metadata": {},
   "outputs": [],
   "source": [
    "zscore=(sample_mean - population_mean )/(population_std/np.sqrt(sample_size))"
   ]
  },
  {
   "cell_type": "code",
   "execution_count": 141,
   "metadata": {},
   "outputs": [
    {
     "data": {
      "text/plain": [
       "4.419417382415922"
      ]
     },
     "execution_count": 141,
     "metadata": {},
     "output_type": "execute_result"
    }
   ],
   "source": [
    "zscore"
   ]
  },
  {
   "cell_type": "code",
   "execution_count": 143,
   "metadata": {},
   "outputs": [],
   "source": [
    "# stats module in scipy >>zcritical\n",
    "#percent point function >> inverse of cdf"
   ]
  },
  {
   "cell_type": "code",
   "execution_count": 144,
   "metadata": {},
   "outputs": [],
   "source": [
    "zcritical=stats.norm.ppf(1-alpha)"
   ]
  },
  {
   "cell_type": "code",
   "execution_count": 145,
   "metadata": {},
   "outputs": [
    {
     "data": {
      "text/plain": [
       "1.6448536269514722"
      ]
     },
     "execution_count": 145,
     "metadata": {},
     "output_type": "execute_result"
    }
   ],
   "source": [
    "zcritical"
   ]
  },
  {
   "cell_type": "code",
   "execution_count": 146,
   "metadata": {},
   "outputs": [
    {
     "name": "stdout",
     "output_type": "stream",
     "text": [
      "Reject the HO\n"
     ]
    }
   ],
   "source": [
    "if zscore > zcritical:\n",
    "    print(\"Reject the HO\")\n",
    "else:\n",
    "    print(\"fail to reject the HO\")    "
   ]
  },
  {
   "cell_type": "code",
   "execution_count": 147,
   "metadata": {},
   "outputs": [],
   "source": [
    "# pvalue approach using scipy"
   ]
  },
  {
   "cell_type": "code",
   "execution_count": 148,
   "metadata": {},
   "outputs": [],
   "source": [
    "pvalue=1-stats.norm.cdf(zscore)"
   ]
  },
  {
   "cell_type": "code",
   "execution_count": 149,
   "metadata": {},
   "outputs": [
    {
     "data": {
      "text/plain": [
       "4.948367312573865e-06"
      ]
     },
     "execution_count": 149,
     "metadata": {},
     "output_type": "execute_result"
    }
   ],
   "source": [
    "pvalue"
   ]
  },
  {
   "cell_type": "code",
   "execution_count": 150,
   "metadata": {},
   "outputs": [
    {
     "name": "stdout",
     "output_type": "stream",
     "text": [
      "Reject the HO\n"
     ]
    }
   ],
   "source": [
    "if pvalue <= alpha:\n",
    "     print(\"Reject the HO\")\n",
    "else:\n",
    "    print(\"fail to reject the HO\")\n",
    "    "
   ]
  },
  {
   "cell_type": "code",
   "execution_count": 151,
   "metadata": {},
   "outputs": [],
   "source": [
    "# T test >> ss < 30 or sigma of pop is  not given\n",
    "# one sample t test(wrt one independent sample)\n",
    "# two sample t test(wrt two independent sample)\n",
    "# paired t test(two samples from same population from different time interval)"
   ]
  },
  {
   "cell_type": "code",
   "execution_count": 152,
   "metadata": {},
   "outputs": [],
   "source": [
    "# one sample t test"
   ]
  },
  {
   "cell_type": "code",
   "execution_count": 160,
   "metadata": {},
   "outputs": [],
   "source": [
    "population =np.random.randint(10,50,50)"
   ]
  },
  {
   "cell_type": "code",
   "execution_count": 161,
   "metadata": {},
   "outputs": [
    {
     "data": {
      "text/plain": [
       "array([22, 21, 26, 40, 34, 34, 32, 40, 25, 17, 41, 36, 13, 20, 11, 44, 45,\n",
       "       11, 31, 12, 43, 30, 19, 32, 19, 35, 48, 42, 39, 15, 18, 26, 35, 34,\n",
       "       11, 11, 38, 32, 29, 42, 35, 31, 14, 42, 25, 19, 48, 28, 22, 16])"
      ]
     },
     "execution_count": 161,
     "metadata": {},
     "output_type": "execute_result"
    }
   ],
   "source": [
    "population"
   ]
  },
  {
   "cell_type": "code",
   "execution_count": 162,
   "metadata": {},
   "outputs": [],
   "source": [
    "sample=np.random.choice(population,20)"
   ]
  },
  {
   "cell_type": "code",
   "execution_count": 163,
   "metadata": {},
   "outputs": [
    {
     "data": {
      "text/plain": [
       "29.95"
      ]
     },
     "execution_count": 163,
     "metadata": {},
     "output_type": "execute_result"
    }
   ],
   "source": [
    "np.mean(sample)"
   ]
  },
  {
   "cell_type": "code",
   "execution_count": 164,
   "metadata": {},
   "outputs": [
    {
     "data": {
      "text/plain": [
       "TtestResult(statistic=1.8311038136792208, pvalue=0.08281384258450995, df=19)"
      ]
     },
     "execution_count": 164,
     "metadata": {},
     "output_type": "execute_result"
    }
   ],
   "source": [
    "null_value=25#(the mean of population is 25)\n",
    "import scipy\n",
    "scipy.stats.ttest_1samp(sample,null_value)\n"
   ]
  },
  {
   "cell_type": "code",
   "execution_count": 165,
   "metadata": {},
   "outputs": [],
   "source": [
    " # if pvalue >0.05,fail to reject the ho"
   ]
  },
  {
   "cell_type": "code",
   "execution_count": 166,
   "metadata": {},
   "outputs": [],
   "source": [
    "# two sample t test"
   ]
  },
  {
   "cell_type": "code",
   "execution_count": 168,
   "metadata": {},
   "outputs": [],
   "source": [
    "virat_kohli_score=np.random.choice(population,20)"
   ]
  },
  {
   "cell_type": "code",
   "execution_count": 169,
   "metadata": {},
   "outputs": [
    {
     "data": {
      "text/plain": [
       "array([31, 32, 32, 35, 18, 48, 12, 11, 34, 22, 12, 11, 22, 11, 42, 18, 11,\n",
       "       48, 40, 19])"
      ]
     },
     "execution_count": 169,
     "metadata": {},
     "output_type": "execute_result"
    }
   ],
   "source": [
    "virat_kohli_score"
   ]
  },
  {
   "cell_type": "code",
   "execution_count": 170,
   "metadata": {},
   "outputs": [],
   "source": [
    "rohit_sharma_score=[31, 32, 32, 35, 18, 48, 12, 11, 34, 22, 12, 11, 22, 11, 42, 18, 11,\n",
    "       48, 40, 19]"
   ]
  },
  {
   "cell_type": "code",
   "execution_count": 171,
   "metadata": {},
   "outputs": [
    {
     "data": {
      "text/plain": [
       "(25.45, 25.45)"
      ]
     },
     "execution_count": 171,
     "metadata": {},
     "output_type": "execute_result"
    }
   ],
   "source": [
    "np.mean(rohit_sharma_score),np.mean(virat_kohli_score)"
   ]
  },
  {
   "cell_type": "code",
   "execution_count": 172,
   "metadata": {},
   "outputs": [
    {
     "data": {
      "text/plain": [
       "TtestResult(statistic=0.0, pvalue=1.0, df=38.0)"
      ]
     },
     "execution_count": 172,
     "metadata": {},
     "output_type": "execute_result"
    }
   ],
   "source": [
    "scipy.stats.ttest_ind(rohit_sharma_score,virat_kohli_score)"
   ]
  },
  {
   "cell_type": "code",
   "execution_count": 173,
   "metadata": {},
   "outputs": [],
   "source": [
    "#if pvalue > 0.0,fail to reject the hO\n"
   ]
  },
  {
   "cell_type": "code",
   "execution_count": 174,
   "metadata": {},
   "outputs": [],
   "source": [
    "# paired t test >> two sample from same population at different time interval"
   ]
  },
  {
   "cell_type": "code",
   "execution_count": 180,
   "metadata": {},
   "outputs": [],
   "source": [
    "rohit_score_first_inning=[31,36,46,24,48,46,47,16,35,45,37]\n",
    "rohit_score_second_inning=[31,36,46,24,48,16,49,47,37,35,45]"
   ]
  },
  {
   "cell_type": "code",
   "execution_count": 182,
   "metadata": {},
   "outputs": [
    {
     "data": {
      "text/plain": [
       "(37.36363636363637, 37.63636363636363)"
      ]
     },
     "execution_count": 182,
     "metadata": {},
     "output_type": "execute_result"
    }
   ],
   "source": [
    "np.mean(rohit_score_first_inning),np.mean(rohit_score_second_inning)"
   ]
  },
  {
   "cell_type": "code",
   "execution_count": 183,
   "metadata": {},
   "outputs": [
    {
     "data": {
      "text/plain": [
       "TtestResult(statistic=-0.06345175394176086, pvalue=0.9506572004670786, df=10)"
      ]
     },
     "execution_count": 183,
     "metadata": {},
     "output_type": "execute_result"
    }
   ],
   "source": [
    "scipy.stats.ttest_rel(rohit_score_first_inning,rohit_score_second_inning)"
   ]
  },
  {
   "cell_type": "code",
   "execution_count": 184,
   "metadata": {},
   "outputs": [
    {
     "data": {
      "text/html": [
       "<div>\n",
       "<style scoped>\n",
       "    .dataframe tbody tr th:only-of-type {\n",
       "        vertical-align: middle;\n",
       "    }\n",
       "\n",
       "    .dataframe tbody tr th {\n",
       "        vertical-align: top;\n",
       "    }\n",
       "\n",
       "    .dataframe thead th {\n",
       "        text-align: right;\n",
       "    }\n",
       "</style>\n",
       "<table border=\"1\" class=\"dataframe\">\n",
       "  <thead>\n",
       "    <tr style=\"text-align: right;\">\n",
       "      <th></th>\n",
       "      <th>total_bill</th>\n",
       "      <th>tip</th>\n",
       "      <th>sex</th>\n",
       "      <th>smoker</th>\n",
       "      <th>day</th>\n",
       "      <th>time</th>\n",
       "      <th>size</th>\n",
       "    </tr>\n",
       "  </thead>\n",
       "  <tbody>\n",
       "    <tr>\n",
       "      <th>0</th>\n",
       "      <td>16.99</td>\n",
       "      <td>1.01</td>\n",
       "      <td>Female</td>\n",
       "      <td>No</td>\n",
       "      <td>Sun</td>\n",
       "      <td>Dinner</td>\n",
       "      <td>2</td>\n",
       "    </tr>\n",
       "    <tr>\n",
       "      <th>1</th>\n",
       "      <td>10.34</td>\n",
       "      <td>1.66</td>\n",
       "      <td>Male</td>\n",
       "      <td>No</td>\n",
       "      <td>Sun</td>\n",
       "      <td>Dinner</td>\n",
       "      <td>3</td>\n",
       "    </tr>\n",
       "    <tr>\n",
       "      <th>2</th>\n",
       "      <td>21.01</td>\n",
       "      <td>3.50</td>\n",
       "      <td>Male</td>\n",
       "      <td>No</td>\n",
       "      <td>Sun</td>\n",
       "      <td>Dinner</td>\n",
       "      <td>3</td>\n",
       "    </tr>\n",
       "    <tr>\n",
       "      <th>3</th>\n",
       "      <td>23.68</td>\n",
       "      <td>3.31</td>\n",
       "      <td>Male</td>\n",
       "      <td>No</td>\n",
       "      <td>Sun</td>\n",
       "      <td>Dinner</td>\n",
       "      <td>2</td>\n",
       "    </tr>\n",
       "    <tr>\n",
       "      <th>4</th>\n",
       "      <td>24.59</td>\n",
       "      <td>3.61</td>\n",
       "      <td>Female</td>\n",
       "      <td>No</td>\n",
       "      <td>Sun</td>\n",
       "      <td>Dinner</td>\n",
       "      <td>4</td>\n",
       "    </tr>\n",
       "    <tr>\n",
       "      <th>...</th>\n",
       "      <td>...</td>\n",
       "      <td>...</td>\n",
       "      <td>...</td>\n",
       "      <td>...</td>\n",
       "      <td>...</td>\n",
       "      <td>...</td>\n",
       "      <td>...</td>\n",
       "    </tr>\n",
       "    <tr>\n",
       "      <th>239</th>\n",
       "      <td>29.03</td>\n",
       "      <td>5.92</td>\n",
       "      <td>Male</td>\n",
       "      <td>No</td>\n",
       "      <td>Sat</td>\n",
       "      <td>Dinner</td>\n",
       "      <td>3</td>\n",
       "    </tr>\n",
       "    <tr>\n",
       "      <th>240</th>\n",
       "      <td>27.18</td>\n",
       "      <td>2.00</td>\n",
       "      <td>Female</td>\n",
       "      <td>Yes</td>\n",
       "      <td>Sat</td>\n",
       "      <td>Dinner</td>\n",
       "      <td>2</td>\n",
       "    </tr>\n",
       "    <tr>\n",
       "      <th>241</th>\n",
       "      <td>22.67</td>\n",
       "      <td>2.00</td>\n",
       "      <td>Male</td>\n",
       "      <td>Yes</td>\n",
       "      <td>Sat</td>\n",
       "      <td>Dinner</td>\n",
       "      <td>2</td>\n",
       "    </tr>\n",
       "    <tr>\n",
       "      <th>242</th>\n",
       "      <td>17.82</td>\n",
       "      <td>1.75</td>\n",
       "      <td>Male</td>\n",
       "      <td>No</td>\n",
       "      <td>Sat</td>\n",
       "      <td>Dinner</td>\n",
       "      <td>2</td>\n",
       "    </tr>\n",
       "    <tr>\n",
       "      <th>243</th>\n",
       "      <td>18.78</td>\n",
       "      <td>3.00</td>\n",
       "      <td>Female</td>\n",
       "      <td>No</td>\n",
       "      <td>Thur</td>\n",
       "      <td>Dinner</td>\n",
       "      <td>2</td>\n",
       "    </tr>\n",
       "  </tbody>\n",
       "</table>\n",
       "<p>244 rows × 7 columns</p>\n",
       "</div>"
      ],
      "text/plain": [
       "     total_bill   tip     sex smoker   day    time  size\n",
       "0         16.99  1.01  Female     No   Sun  Dinner     2\n",
       "1         10.34  1.66    Male     No   Sun  Dinner     3\n",
       "2         21.01  3.50    Male     No   Sun  Dinner     3\n",
       "3         23.68  3.31    Male     No   Sun  Dinner     2\n",
       "4         24.59  3.61  Female     No   Sun  Dinner     4\n",
       "..          ...   ...     ...    ...   ...     ...   ...\n",
       "239       29.03  5.92    Male     No   Sat  Dinner     3\n",
       "240       27.18  2.00  Female    Yes   Sat  Dinner     2\n",
       "241       22.67  2.00    Male    Yes   Sat  Dinner     2\n",
       "242       17.82  1.75    Male     No   Sat  Dinner     2\n",
       "243       18.78  3.00  Female     No  Thur  Dinner     2\n",
       "\n",
       "[244 rows x 7 columns]"
      ]
     },
     "execution_count": 184,
     "metadata": {},
     "output_type": "execute_result"
    }
   ],
   "source": [
    "df"
   ]
  },
  {
   "cell_type": "code",
   "execution_count": 185,
   "metadata": {},
   "outputs": [],
   "source": [
    "# how to know if the given data is normally distributed or not\n",
    "#distribaution plot,q-q plot\n",
    "# statistical test "
   ]
  },
  {
   "cell_type": "code",
   "execution_count": 186,
   "metadata": {},
   "outputs": [],
   "source": [
    "data = pd.read_csv(\"https://raw.githubusercontent.com/shrikant-temburwar/Wine-Quality-Dataset/master/winequality-red.csv\", sep = \";\")"
   ]
  },
  {
   "cell_type": "code",
   "execution_count": 187,
   "metadata": {},
   "outputs": [
    {
     "data": {
      "text/html": [
       "<div>\n",
       "<style scoped>\n",
       "    .dataframe tbody tr th:only-of-type {\n",
       "        vertical-align: middle;\n",
       "    }\n",
       "\n",
       "    .dataframe tbody tr th {\n",
       "        vertical-align: top;\n",
       "    }\n",
       "\n",
       "    .dataframe thead th {\n",
       "        text-align: right;\n",
       "    }\n",
       "</style>\n",
       "<table border=\"1\" class=\"dataframe\">\n",
       "  <thead>\n",
       "    <tr style=\"text-align: right;\">\n",
       "      <th></th>\n",
       "      <th>fixed acidity</th>\n",
       "      <th>volatile acidity</th>\n",
       "      <th>citric acid</th>\n",
       "      <th>residual sugar</th>\n",
       "      <th>chlorides</th>\n",
       "      <th>free sulfur dioxide</th>\n",
       "      <th>total sulfur dioxide</th>\n",
       "      <th>density</th>\n",
       "      <th>pH</th>\n",
       "      <th>sulphates</th>\n",
       "      <th>alcohol</th>\n",
       "      <th>quality</th>\n",
       "    </tr>\n",
       "  </thead>\n",
       "  <tbody>\n",
       "    <tr>\n",
       "      <th>0</th>\n",
       "      <td>7.4</td>\n",
       "      <td>0.700</td>\n",
       "      <td>0.00</td>\n",
       "      <td>1.9</td>\n",
       "      <td>0.076</td>\n",
       "      <td>11.0</td>\n",
       "      <td>34.0</td>\n",
       "      <td>0.99780</td>\n",
       "      <td>3.51</td>\n",
       "      <td>0.56</td>\n",
       "      <td>9.4</td>\n",
       "      <td>5</td>\n",
       "    </tr>\n",
       "    <tr>\n",
       "      <th>1</th>\n",
       "      <td>7.8</td>\n",
       "      <td>0.880</td>\n",
       "      <td>0.00</td>\n",
       "      <td>2.6</td>\n",
       "      <td>0.098</td>\n",
       "      <td>25.0</td>\n",
       "      <td>67.0</td>\n",
       "      <td>0.99680</td>\n",
       "      <td>3.20</td>\n",
       "      <td>0.68</td>\n",
       "      <td>9.8</td>\n",
       "      <td>5</td>\n",
       "    </tr>\n",
       "    <tr>\n",
       "      <th>2</th>\n",
       "      <td>7.8</td>\n",
       "      <td>0.760</td>\n",
       "      <td>0.04</td>\n",
       "      <td>2.3</td>\n",
       "      <td>0.092</td>\n",
       "      <td>15.0</td>\n",
       "      <td>54.0</td>\n",
       "      <td>0.99700</td>\n",
       "      <td>3.26</td>\n",
       "      <td>0.65</td>\n",
       "      <td>9.8</td>\n",
       "      <td>5</td>\n",
       "    </tr>\n",
       "    <tr>\n",
       "      <th>3</th>\n",
       "      <td>11.2</td>\n",
       "      <td>0.280</td>\n",
       "      <td>0.56</td>\n",
       "      <td>1.9</td>\n",
       "      <td>0.075</td>\n",
       "      <td>17.0</td>\n",
       "      <td>60.0</td>\n",
       "      <td>0.99800</td>\n",
       "      <td>3.16</td>\n",
       "      <td>0.58</td>\n",
       "      <td>9.8</td>\n",
       "      <td>6</td>\n",
       "    </tr>\n",
       "    <tr>\n",
       "      <th>4</th>\n",
       "      <td>7.4</td>\n",
       "      <td>0.700</td>\n",
       "      <td>0.00</td>\n",
       "      <td>1.9</td>\n",
       "      <td>0.076</td>\n",
       "      <td>11.0</td>\n",
       "      <td>34.0</td>\n",
       "      <td>0.99780</td>\n",
       "      <td>3.51</td>\n",
       "      <td>0.56</td>\n",
       "      <td>9.4</td>\n",
       "      <td>5</td>\n",
       "    </tr>\n",
       "    <tr>\n",
       "      <th>...</th>\n",
       "      <td>...</td>\n",
       "      <td>...</td>\n",
       "      <td>...</td>\n",
       "      <td>...</td>\n",
       "      <td>...</td>\n",
       "      <td>...</td>\n",
       "      <td>...</td>\n",
       "      <td>...</td>\n",
       "      <td>...</td>\n",
       "      <td>...</td>\n",
       "      <td>...</td>\n",
       "      <td>...</td>\n",
       "    </tr>\n",
       "    <tr>\n",
       "      <th>1594</th>\n",
       "      <td>6.2</td>\n",
       "      <td>0.600</td>\n",
       "      <td>0.08</td>\n",
       "      <td>2.0</td>\n",
       "      <td>0.090</td>\n",
       "      <td>32.0</td>\n",
       "      <td>44.0</td>\n",
       "      <td>0.99490</td>\n",
       "      <td>3.45</td>\n",
       "      <td>0.58</td>\n",
       "      <td>10.5</td>\n",
       "      <td>5</td>\n",
       "    </tr>\n",
       "    <tr>\n",
       "      <th>1595</th>\n",
       "      <td>5.9</td>\n",
       "      <td>0.550</td>\n",
       "      <td>0.10</td>\n",
       "      <td>2.2</td>\n",
       "      <td>0.062</td>\n",
       "      <td>39.0</td>\n",
       "      <td>51.0</td>\n",
       "      <td>0.99512</td>\n",
       "      <td>3.52</td>\n",
       "      <td>0.76</td>\n",
       "      <td>11.2</td>\n",
       "      <td>6</td>\n",
       "    </tr>\n",
       "    <tr>\n",
       "      <th>1596</th>\n",
       "      <td>6.3</td>\n",
       "      <td>0.510</td>\n",
       "      <td>0.13</td>\n",
       "      <td>2.3</td>\n",
       "      <td>0.076</td>\n",
       "      <td>29.0</td>\n",
       "      <td>40.0</td>\n",
       "      <td>0.99574</td>\n",
       "      <td>3.42</td>\n",
       "      <td>0.75</td>\n",
       "      <td>11.0</td>\n",
       "      <td>6</td>\n",
       "    </tr>\n",
       "    <tr>\n",
       "      <th>1597</th>\n",
       "      <td>5.9</td>\n",
       "      <td>0.645</td>\n",
       "      <td>0.12</td>\n",
       "      <td>2.0</td>\n",
       "      <td>0.075</td>\n",
       "      <td>32.0</td>\n",
       "      <td>44.0</td>\n",
       "      <td>0.99547</td>\n",
       "      <td>3.57</td>\n",
       "      <td>0.71</td>\n",
       "      <td>10.2</td>\n",
       "      <td>5</td>\n",
       "    </tr>\n",
       "    <tr>\n",
       "      <th>1598</th>\n",
       "      <td>6.0</td>\n",
       "      <td>0.310</td>\n",
       "      <td>0.47</td>\n",
       "      <td>3.6</td>\n",
       "      <td>0.067</td>\n",
       "      <td>18.0</td>\n",
       "      <td>42.0</td>\n",
       "      <td>0.99549</td>\n",
       "      <td>3.39</td>\n",
       "      <td>0.66</td>\n",
       "      <td>11.0</td>\n",
       "      <td>6</td>\n",
       "    </tr>\n",
       "  </tbody>\n",
       "</table>\n",
       "<p>1599 rows × 12 columns</p>\n",
       "</div>"
      ],
      "text/plain": [
       "      fixed acidity  volatile acidity  citric acid  residual sugar  chlorides  \\\n",
       "0               7.4             0.700         0.00             1.9      0.076   \n",
       "1               7.8             0.880         0.00             2.6      0.098   \n",
       "2               7.8             0.760         0.04             2.3      0.092   \n",
       "3              11.2             0.280         0.56             1.9      0.075   \n",
       "4               7.4             0.700         0.00             1.9      0.076   \n",
       "...             ...               ...          ...             ...        ...   \n",
       "1594            6.2             0.600         0.08             2.0      0.090   \n",
       "1595            5.9             0.550         0.10             2.2      0.062   \n",
       "1596            6.3             0.510         0.13             2.3      0.076   \n",
       "1597            5.9             0.645         0.12             2.0      0.075   \n",
       "1598            6.0             0.310         0.47             3.6      0.067   \n",
       "\n",
       "      free sulfur dioxide  total sulfur dioxide  density    pH  sulphates  \\\n",
       "0                    11.0                  34.0  0.99780  3.51       0.56   \n",
       "1                    25.0                  67.0  0.99680  3.20       0.68   \n",
       "2                    15.0                  54.0  0.99700  3.26       0.65   \n",
       "3                    17.0                  60.0  0.99800  3.16       0.58   \n",
       "4                    11.0                  34.0  0.99780  3.51       0.56   \n",
       "...                   ...                   ...      ...   ...        ...   \n",
       "1594                 32.0                  44.0  0.99490  3.45       0.58   \n",
       "1595                 39.0                  51.0  0.99512  3.52       0.76   \n",
       "1596                 29.0                  40.0  0.99574  3.42       0.75   \n",
       "1597                 32.0                  44.0  0.99547  3.57       0.71   \n",
       "1598                 18.0                  42.0  0.99549  3.39       0.66   \n",
       "\n",
       "      alcohol  quality  \n",
       "0         9.4        5  \n",
       "1         9.8        5  \n",
       "2         9.8        5  \n",
       "3         9.8        6  \n",
       "4         9.4        5  \n",
       "...       ...      ...  \n",
       "1594     10.5        5  \n",
       "1595     11.2        6  \n",
       "1596     11.0        6  \n",
       "1597     10.2        5  \n",
       "1598     11.0        6  \n",
       "\n",
       "[1599 rows x 12 columns]"
      ]
     },
     "execution_count": 187,
     "metadata": {},
     "output_type": "execute_result"
    }
   ],
   "source": [
    "data"
   ]
  },
  {
   "cell_type": "code",
   "execution_count": 192,
   "metadata": {},
   "outputs": [
    {
     "name": "stderr",
     "output_type": "stream",
     "text": [
      "C:\\Users\\Admin\\AppData\\Local\\Temp\\ipykernel_13232\\3426726177.py:2: UserWarning: \n",
      "\n",
      "`distplot` is a deprecated function and will be removed in seaborn v0.14.0.\n",
      "\n",
      "Please adapt your code to use either `displot` (a figure-level function with\n",
      "similar flexibility) or `histplot` (an axes-level function for histograms).\n",
      "\n",
      "For a guide to updating your code to use the new functions, please see\n",
      "https://gist.github.com/mwaskom/de44147ed2974457ad6372750bbe5751\n",
      "\n",
      "  sns.distplot(population)\n"
     ]
    },
    {
     "data": {
      "text/plain": [
       "array([ 1.3306581 ,  1.98867154,  1.28709164, ..., -0.69249513,\n",
       "       -0.24230668, -0.1207586 ])"
      ]
     },
     "execution_count": 192,
     "metadata": {},
     "output_type": "execute_result"
    },
    {
     "data": {
      "image/png": "[encoded data removed]",
      "text/plain": [
       "<Figure size 640x480 with 1 Axes>"
      ]
     },
     "metadata": {},
     "output_type": "display_data"
    }
   ],
   "source": [
    "pop=np.random.randn(10000)\n",
    "sns.distplot(population)\n",
    "pop"
   ]
  },
  {
   "cell_type": "code",
   "execution_count": 193,
   "metadata": {},
   "outputs": [
    {
     "data": {
      "text/plain": [
       "array([ 1.3306581 ,  1.98867154,  1.28709164, ..., -0.69249513,\n",
       "       -0.24230668, -0.1207586 ])"
      ]
     },
     "execution_count": 193,
     "metadata": {},
     "output_type": "execute_result"
    }
   ],
   "source": [
    "pop"
   ]
  },
  {
   "cell_type": "code",
   "execution_count": 201,
   "metadata": {},
   "outputs": [
    {
     "data": {
      "text/plain": [
       "ShapiroResult(statistic=0.9513776898384094, pvalue=0.038874413818120956)"
      ]
     },
     "execution_count": 201,
     "metadata": {},
     "output_type": "execute_result"
    }
   ],
   "source": [
    "from scipy import stats\n",
    "stats.shapiro(population)"
   ]
  },
  {
   "cell_type": "code",
   "execution_count": 202,
   "metadata": {},
   "outputs": [
    {
     "name": "stderr",
     "output_type": "stream",
     "text": [
      "C:\\Users\\Admin\\AppData\\Local\\Temp\\ipykernel_13232\\3678522696.py:1: UserWarning: \n",
      "\n",
      "`distplot` is a deprecated function and will be removed in seaborn v0.14.0.\n",
      "\n",
      "Please adapt your code to use either `displot` (a figure-level function with\n",
      "similar flexibility) or `histplot` (an axes-level function for histograms).\n",
      "\n",
      "For a guide to updating your code to use the new functions, please see\n",
      "https://gist.github.com/mwaskom/de44147ed2974457ad6372750bbe5751\n",
      "\n",
      "  sns.distplot(data['citric acid'])\n"
     ]
    },
    {
     "data": {
      "text/plain": [
       "<Axes: xlabel='citric acid', ylabel='Density'>"
      ]
     },
     "execution_count": 202,
     "metadata": {},
     "output_type": "execute_result"
    },
    {
     "data": {
      "image/png": "[encoded data removed]",
      "text/plain": [
       "<Figure size 640x480 with 1 Axes>"
      ]
     },
     "metadata": {},
     "output_type": "display_data"
    }
   ],
   "source": [
    "sns.distplot(data['citric acid'])"
   ]
  },
  {
   "cell_type": "code",
   "execution_count": 204,
   "metadata": {},
   "outputs": [
    {
     "data": {
      "text/plain": [
       "ShapiroResult(statistic=0.955294668674469, pvalue=1.0233944777578548e-21)"
      ]
     },
     "execution_count": 204,
     "metadata": {},
     "output_type": "execute_result"
    }
   ],
   "source": [
    "stats.shapiro(data['citric acid'])"
   ]
  },
  {
   "cell_type": "code",
   "execution_count": null,
   "metadata": {},
   "outputs": [],
   "source": [
    "#pvalue is less than 0.05 and hence reject the hO the sample is drawn from a normal dist population"
   ]
  }
 ],
 "metadata": {
  "kernelspec": {
   "display_name": "base",
   "language": "python",
   "name": "python3"
  },
  "language_info": {
   "codemirror_mode": {
    "name": "ipython",
    "version": 3
   },
   "file_extension": ".py",
   "mimetype": "text/x-python",
   "name": "python",
   "nbconvert_exporter": "python",
   "pygments_lexer": "ipython3",
   "version": "3.11.5"
  }
 },
 "nbformat": 4,
 "nbformat_minor": 2
}
