{
 "cells": [
  {
   "cell_type": "markdown",
   "metadata": {},
   "source": [
    "#Question:-1"
   ]
  },
  {
   "cell_type": "markdown",
   "metadata": {},
   "source": [
    "# Write a Python function to calculate the mean of a given list of numbers. Create a function to find the median of a list of numbers\n"
   ]
  },
  {
   "cell_type": "code",
   "execution_count": 2,
   "metadata": {},
   "outputs": [
    {
     "name": "stdout",
     "output_type": "stream",
     "text": [
      "[119, 106, 115, 129, 105, 113, 122, 91, 99, 117, 98, 98, 122, 97, 120, 106, 91, 105, 127, 123, 121, 112, 114, 96, 102, 116, 106, 123, 96, 120, 91, 104, 122, 116, 105, 107, 102, 97, 97, 111, 114, 120, 122, 111, 122, 124, 112, 128, 99, 99, 107, 122, 109, 112, 108, 117, 119, 96, 126, 121, 121, 126, 99, 92, 107, 126, 103, 90, 112, 119, 127, 127, 122, 90, 123, 121, 114, 117, 91, 123, 117, 111, 119, 91, 126, 117, 117, 100, 106, 99, 121, 117, 121, 123, 100, 117, 126, 107, 94, 114]\n",
      "111.42\n",
      "114.0\n"
     ]
    }
   ],
   "source": [
    "import random\n",
    "init_list=[random.randint(90,130)for item in range(100)]\n",
    "def caluclate_mean(numbers):\n",
    "    return sum(numbers)/len(numbers)\n",
    "def calculate_median(numbers):\n",
    "    sorted_numbers=sorted(numbers)\n",
    "    n=len(sorted_numbers)\n",
    "    mid=n//2\n",
    "    if n % 2 == 0:\n",
    "        median=(sorted_numbers[mid - 1] + sorted_numbers[mid]) / 2\n",
    "    else:\n",
    "        median=sorted_numbers[mid]\n",
    "    return median\n",
    "mean_values=caluclate_mean(init_list)\n",
    "median_values=calculate_median(init_list) \n",
    "print(init_list)\n",
    "print(mean_values)\n",
    "print(median_values)        \n",
    "    \n",
    "\n"
   ]
  },
  {
   "cell_type": "markdown",
   "metadata": {},
   "source": [
    "# Develop a program to compute the mode of a list of integers"
   ]
  },
  {
   "cell_type": "code",
   "execution_count": 18,
   "metadata": {},
   "outputs": [
    {
     "name": "stdout",
     "output_type": "stream",
     "text": [
      "[128 118 104  97 110 128 108 112 100 100 113 125 129 113  92 111  91 113\n",
      " 119 127  91 110 122 101 111 114 116 117 105 104  92 126  96 110  98 128\n",
      " 107  93 114 103  98 115  91 109 117  96  97 124 103 106 125 129  93  91\n",
      "  95  93 118 107 115 123  99 125 103 120 104  97 103 112 129 110 105 107\n",
      " 113 115 114 130 118 104  90 114  96  98 113  90  97 113 100 106  97 124\n",
      " 124 122  94 128 130 117  96  98  97 101]\n",
      "97\n"
     ]
    }
   ],
   "source": [
    "import numpy as np\n",
    "from scipy import stats\n",
    "np.random.seed(42)  \n",
    "int_list = np.random.randint(90, 131, size=100)\n",
    "def calculate_mode(number_list):\n",
    "    if len(number_list) == 0:\n",
    "        return None  \n",
    "    mode_result = stats.mode(number_list)\n",
    "    if isinstance(mode_result.mode, np.ndarray):\n",
    "        return mode_result.mode.tolist()\n",
    "    else:\n",
    "        return mode_result.mode\n",
    "print(int_list)\n",
    "print(calculate_mode(int_list))"
   ]
  },
  {
   "cell_type": "markdown",
   "metadata": {},
   "source": [
    "# Implement a function to calculate the weighted mean of a list of values and their corresponding weights."
   ]
  },
  {
   "cell_type": "code",
   "execution_count": 19,
   "metadata": {},
   "outputs": [
    {
     "name": "stdout",
     "output_type": "stream",
     "text": [
      "30.0\n"
     ]
    }
   ],
   "source": [
    "import numpy as np\n",
    "np.random.seed(42) \n",
    "int_list = np.random.randint(90, 131, size=10)\n",
    "def calculate_weighted_mean(values, weights):\n",
    "    if len(values) != len(weights):\n",
    "        raise ValueError\n",
    "    weighted_sum = sum(value * weight for value, weight in zip(values, weights))\n",
    "    total_weight = sum(weights)\n",
    "    if total_weight == 0:\n",
    "        raise ValueError\n",
    "    return weighted_sum / total_weight\n",
    "values = [10, 20, 30, 40]\n",
    "weights = [0.1, 0.2, 0.3, 0.4]\n",
    "print(calculate_weighted_mean(values, weights))"
   ]
  },
  {
   "cell_type": "markdown",
   "metadata": {},
   "source": [
    "# Write a Python function to find the geometric mean of a list of positive numbers."
   ]
  },
  {
   "cell_type": "code",
   "execution_count": 21,
   "metadata": {},
   "outputs": [
    {
     "name": "stdout",
     "output_type": "stream",
     "text": [
      "8.000000000000002\n"
     ]
    }
   ],
   "source": [
    "import numpy as np\n",
    "np.random.seed(42)  \n",
    "int_list = np.random.randint(90, 131, size=10)\n",
    "def calculate_geometric_mean(numbers):\n",
    "    if any(num <= 0 for num in numbers):\n",
    "        raise ValueError\n",
    "    product = 1\n",
    "    for num in numbers:\n",
    "        product *= num\n",
    "    return product ** (1 / len(numbers))\n",
    "positive_numbers = [2, 4, 8, 16, 32]\n",
    "print(calculate_geometric_mean(positive_numbers))"
   ]
  },
  {
   "cell_type": "markdown",
   "metadata": {},
   "source": [
    "# Create a program to calculate the harmonic mean of a list of values."
   ]
  },
  {
   "cell_type": "code",
   "execution_count": 22,
   "metadata": {},
   "outputs": [
    {
     "name": "stdout",
     "output_type": "stream",
     "text": [
      "5.161290322580645\n"
     ]
    }
   ],
   "source": [
    "import numpy as np\n",
    "np.random.seed(42) \n",
    "int_list = np.random.randint(90, 131, size=100)\n",
    "def calculate_harmonic_mean(numbers):\n",
    "    if any(num <= 0 for num in numbers):\n",
    "        raise ValueError\n",
    "    reciprocal_sum = sum(1 / num for num in numbers)\n",
    "    return len(numbers) / reciprocal_sum\n",
    "positive_numbers = [2, 4, 8, 16, 32]\n",
    "print(calculate_harmonic_mean(positive_numbers))"
   ]
  },
  {
   "cell_type": "markdown",
   "metadata": {},
   "source": [
    "# Build a function to determine the midrange of a list of numbers (average of the minimum and maximum)"
   ]
  },
  {
   "cell_type": "code",
   "execution_count": 23,
   "metadata": {},
   "outputs": [
    {
     "name": "stdout",
     "output_type": "stream",
     "text": [
      "110.0\n"
     ]
    }
   ],
   "source": [
    "import numpy as np\n",
    "np.random.seed(42) \n",
    "int_list = np.random.randint(90, 131, size=100)\n",
    "def calculate_midrange(numbers):\n",
    "    if len(numbers) == 0:\n",
    "        raise ValueError\n",
    "    min_val = min(numbers)\n",
    "    max_val = max(numbers)\n",
    "    return (min_val + max_val) / 2\n",
    "print(calculate_midrange(int_list))"
   ]
  },
  {
   "cell_type": "markdown",
   "metadata": {},
   "source": [
    "# Implement a Python program to find the trimmed mean of a list, excluding a certain percentage of outliers"
   ]
  },
  {
   "cell_type": "code",
   "execution_count": 24,
   "metadata": {},
   "outputs": [
    {
     "name": "stdout",
     "output_type": "stream",
     "text": [
      "10 108.82222222222222\n"
     ]
    }
   ],
   "source": [
    "np.random.seed(42) \n",
    "int_list = np.random.randint(90, 131, size=100)\n",
    "def calculate_trimmed_mean(numbers, trim_percent):\n",
    "    \n",
    "    if not 0 <= trim_percent <= 50:\n",
    "        raise ValueError\n",
    "\n",
    "    n = len(numbers)\n",
    "    k = int(n * (trim_percent / 100) / 2)\n",
    "    \n",
    "    sorted_numbers = sorted(numbers)\n",
    "    trimmed_numbers = sorted_numbers[k : n - k] \n",
    "\n",
    "    return np.mean(trimmed_numbers)\n",
    "\n",
    "trim_percent = 10 \n",
    "print((trim_percent), calculate_trimmed_mean(int_list, trim_percent))"
   ]
  },
  {
   "cell_type": "markdown",
   "metadata": {},
   "source": [
    "#Question:-2\n"
   ]
  },
  {
   "cell_type": "code",
   "execution_count": null,
   "metadata": {},
   "outputs": [],
   "source": [
    "#Compare the given list of visualization for the given data: \n",
    "#1. Frequency & Gaussian distribution \n",
    "#2. Frequency smoothened KDE plot \n",
    "#3. Gaussian distribution & smoothened KDE plo"
   ]
  },
  {
   "cell_type": "code",
   "execution_count": 17,
   "metadata": {},
   "outputs": [
    {
     "data": {
      "image/png": "[encoded data removed]",
      "text/plain": [
       "<Figure size 1200x400 with 3 Axes>"
      ]
     },
     "metadata": {},
     "output_type": "display_data"
    }
   ],
   "source": [
    "import numpy as np\n",
    "import matplotlib.pyplot as plt\n",
    "import seaborn as sns\n",
    "np.random.seed(42)\n",
    "int_list2 = np.random.randint(200, 301, size=500)\n",
    "# Plot 1: Frequency histogram\n",
    "plt.figure(figsize=(12, 4))\n",
    "plt.subplot(1, 3, 1)\n",
    "plt.hist(int_list2, bins=20, color='skyblue', edgecolor='black', alpha=0.7)\n",
    "plt.title('Frequency Histogram')\n",
    "plt.xlabel('Values')\n",
    "plt.ylabel('Frequency')\n",
    "# Plot 2: Smoothened KDE plot\n",
    "plt.subplot(1, 3, 2)\n",
    "sns.kdeplot(int_list2, color='orange', linewidth=2)\n",
    "plt.title('Smoothened KDE Plot')\n",
    "plt.xlabel('Values')\n",
    "plt.ylabel('Density')\n",
    "# Plot 3: Gaussian distribution\n",
    "plt.subplot(1, 3, 3)\n",
    "sns.histplot(int_list2, kde=True, color='green', stat='density', linewidth=0)\n",
    "sns.kdeplot(int_list2, color='red', linewidth=2)\n",
    "plt.title('Gaussian Distribution & KDE Plot')\n",
    "plt.xlabel('Values')\n",
    "plt.ylabel('Density')\n",
    "\n",
    "plt.tight_layout()\n",
    "plt.show()"
   ]
  },
  {
   "cell_type": "markdown",
   "metadata": {},
   "source": [
    "# Write a Python function to calculate the range of a given list of numbers."
   ]
  },
  {
   "cell_type": "code",
   "execution_count": 25,
   "metadata": {},
   "outputs": [
    {
     "name": "stdout",
     "output_type": "stream",
     "text": [
      "100\n"
     ]
    }
   ],
   "source": [
    "np.random.seed(42)\n",
    "int_list2 = np.random.randint(200, 301, size=500)\n",
    "def calculate_range(number_list):\n",
    "    if len(number_list) == 0:\n",
    "        raise ValueError\n",
    "    min_val = min(number_list)\n",
    "    max_val = max(number_list)\n",
    "    return max_val - min_val\n",
    "print(calculate_range(int_list2))"
   ]
  },
  {
   "cell_type": "markdown",
   "metadata": {},
   "source": [
    "#  Create a program to find the variance and standard deviation of a list of numbers."
   ]
  },
  {
   "cell_type": "code",
   "execution_count": 26,
   "metadata": {},
   "outputs": [
    {
     "name": "stdout",
     "output_type": "stream",
     "text": [
      "819.1136\n",
      "28.62016072631319\n"
     ]
    }
   ],
   "source": [
    "np.random.seed(42)\n",
    "int_list2 = np.random.randint(200, 301, size=50)\n",
    "def calculate_variance_and_stddev(number_list):\n",
    "    if len(number_list) == 0:\n",
    "        raise ValueError(\"List cannot be empty.\")\n",
    "    variance = np.var(number_list)\n",
    "    stddev = np.std(number_list)\n",
    "    return variance, stddev\n",
    "variance, stddev = calculate_variance_and_stddev(int_list2)\n",
    "print(variance)\n",
    "print(stddev)"
   ]
  },
  {
   "cell_type": "markdown",
   "metadata": {},
   "source": [
    "# Implement a function to compute the interquartile range (IQR) of a list of values."
   ]
  },
  {
   "cell_type": "code",
   "execution_count": 27,
   "metadata": {},
   "outputs": [
    {
     "name": "stdout",
     "output_type": "stream",
     "text": [
      "51.25\n"
     ]
    }
   ],
   "source": [
    "np.random.seed(42) \n",
    "int_list2 = np.random.randint(200, 301, size=500)\n",
    "def calculate_iqr(number_list):\n",
    "    if len(number_list) == 0:\n",
    "        raise ValueError\n",
    "    q1 = np.percentile(number_list, 25)\n",
    "    q3 = np.percentile(number_list, 75)\n",
    "    iqr = q3 - q1\n",
    "    return iqr\n",
    "iqr = calculate_iqr(int_list2)\n",
    "print(iqr)"
   ]
  },
  {
   "cell_type": "markdown",
   "metadata": {},
   "source": [
    "# Build a program to calculate the coefficient of variation for a dataset."
   ]
  },
  {
   "cell_type": "code",
   "execution_count": 28,
   "metadata": {},
   "outputs": [
    {
     "name": "stdout",
     "output_type": "stream",
     "text": [
      "12.037404235357076\n"
     ]
    }
   ],
   "source": [
    "np.random.seed(42)\n",
    "int_list2 = np.random.randint(200, 301, size=500)\n",
    "def calculate_coefficient_of_variation(number_list):\n",
    "    if len(number_list) == 0:\n",
    "        raise ValueError\n",
    "    mean = np.mean(number_list)\n",
    "    stddev = np.std(number_list)\n",
    "    coefficient_of_variation = (stddev / mean) * 100\n",
    "    return coefficient_of_variation\n",
    "cv = calculate_coefficient_of_variation(int_list2)\n",
    "print(cv)"
   ]
  },
  {
   "cell_type": "markdown",
   "metadata": {},
   "source": [
    "# Write a Python function to find the mean absolute deviation (MAD) of a list of numbers."
   ]
  },
  {
   "cell_type": "code",
   "execution_count": 29,
   "metadata": {},
   "outputs": [
    {
     "name": "stdout",
     "output_type": "stream",
     "text": [
      "25.803440000000002\n"
     ]
    }
   ],
   "source": [
    "np.random.seed(42) \n",
    "int_list2 = np.random.randint(200, 301, size=500)\n",
    "def calculate_mad(number_list):\n",
    "    if len(number_list) == 0:\n",
    "        raise ValueError\n",
    "    mean = np.mean(number_list)\n",
    "    mad = np.mean(np.abs(number_list - mean))\n",
    "    return mad\n",
    "mad = calculate_mad(int_list2)\n",
    "print(mad)"
   ]
  },
  {
   "cell_type": "markdown",
   "metadata": {},
   "source": [
    "#  Create a program to calculate the quartile deviation of a list of values."
   ]
  },
  {
   "cell_type": "code",
   "execution_count": 30,
   "metadata": {},
   "outputs": [
    {
     "name": "stdout",
     "output_type": "stream",
     "text": [
      "25.625\n"
     ]
    }
   ],
   "source": [
    "np.random.seed(42) \n",
    "int_list2 = np.random.randint(200, 301, size=500)\n",
    "def calculate_quartile_deviation(number_list):\n",
    "    if len(number_list) == 0:\n",
    "        raise ValueError\n",
    "    q1 = np.percentile(number_list, 25)\n",
    "    q3 = np.percentile(number_list, 75)\n",
    "    quartile_deviation = (q3 - q1) / 2\n",
    "    return quartile_deviation\n",
    "quartile_deviation = calculate_quartile_deviation(int_list2)\n",
    "print(quartile_deviation)"
   ]
  },
  {
   "cell_type": "markdown",
   "metadata": {},
   "source": [
    "#  Implement a function to find the range-based coefficient of dispersion for a dataset."
   ]
  },
  {
   "cell_type": "code",
   "execution_count": 31,
   "metadata": {},
   "outputs": [
    {
     "name": "stdout",
     "output_type": "stream",
     "text": [
      "40.094623311014\n"
     ]
    }
   ],
   "source": [
    "np.random.seed(42) \n",
    "int_list2 = np.random.randint(200, 301, size=500)\n",
    "def calculate_range_coefficient_of_dispersion(number_list):\n",
    "    if len(number_list) == 0:\n",
    "        raise ValueError\n",
    "    range_value = np.max(number_list) - np.min(number_list)\n",
    "    mean = np.mean(number_list)\n",
    "    coefficient_of_dispersion = (range_value / mean) * 100\n",
    "    return coefficient_of_dispersion\n",
    "range_cd = calculate_range_coefficient_of_dispersion(int_list2)\n",
    "print(range_cd)"
   ]
  },
  {
   "cell_type": "markdown",
   "metadata": {},
   "source": [
    "#Question:-3"
   ]
  },
  {
   "cell_type": "code",
   "execution_count": 32,
   "metadata": {},
   "outputs": [
    {
     "name": "stdout",
     "output_type": "stream",
     "text": [
      "3.0\n",
      "1.0\n"
     ]
    }
   ],
   "source": [
    "class DiscreteRandomVariable:\n",
    "    def __init__(self, values, probabilities):\n",
    "        if len(values) != len(probabilities):\n",
    "            raise ValueError\n",
    "        self.values = values\n",
    "        self.probabilities = probabilities\n",
    "    def expected_value(self):\n",
    "        return sum(value * probability for value, probability in zip(self.values, self.probabilities))\n",
    "    def variance(self):\n",
    "        expected_value = self.expected_value()\n",
    "        squared_differences = [(value - expected_value) ** 2 for value in self.values]\n",
    "        return sum(probability * squared_difference for probability, squared_difference in zip(self.probabilities, squared_differences))\n",
    "values = [1, 2, 3, 4]\n",
    "probabilities = [0.1, 0.2, 0.3, 0.4]\n",
    "random_variable = DiscreteRandomVariable(values, probabilities)\n",
    "print(random_variable.expected_value())\n",
    "print(random_variable.variance())"
   ]
  },
  {
   "cell_type": "code",
   "execution_count": null,
   "metadata": {},
   "outputs": [],
   "source": [
    "#Question-4"
   ]
  },
  {
   "cell_type": "code",
   "execution_count": 33,
   "metadata": {},
   "outputs": [
    {
     "name": "stdout",
     "output_type": "stream",
     "text": [
      "3.5092\n",
      "2.8959153599999996\n"
     ]
    }
   ],
   "source": [
    "class FairSixSidedDie:\n",
    "    def __init__(self):\n",
    "        self.sides = [1, 2, 3, 4, 5, 6]\n",
    "        self.probabilities = [1/6] * 6\n",
    "    def roll(self, n=1):\n",
    "        return np.random.choice(self.sides, size=n, p=self.probabilities)\n",
    "def calculate_expected_value(outcomes):\n",
    "    return np.mean(outcomes)\n",
    "def calculate_variance(outcomes):\n",
    "    return np.var(outcomes)\n",
    "die = FairSixSidedDie()\n",
    "n_rolls = 10000\n",
    "outcomes = die.roll(n_rolls)\n",
    "expected_value = calculate_expected_value(outcomes)\n",
    "variance = calculate_variance(outcomes)\n",
    "print(expected_value)\n",
    "print( variance)"
   ]
  },
  {
   "cell_type": "markdown",
   "metadata": {},
   "source": [
    "#Question:-5"
   ]
  },
  {
   "cell_type": "code",
   "execution_count": 35,
   "metadata": {},
   "outputs": [
    {
     "name": "stdout",
     "output_type": "stream",
     "text": [
      "Binomial Distribution:\n",
      "4.9984\n",
      "2.4537974399999993\n",
      "\n",
      "Poisson Distribution:\n",
      "4.9824\n",
      "5.0328902399999995\n"
     ]
    }
   ],
   "source": [
    "\n",
    "def generate_samples_mean_variance(distribution, n_samples, *params):\n",
    "    if distribution == 'binomial':\n",
    "        if len(params) != 2:\n",
    "            raise ValueError\n",
    "        n, p = params\n",
    "        samples = np.random.binomial(n, p, size=n_samples)\n",
    "    elif distribution == 'poisson':\n",
    "        if len(params) != 1:\n",
    "            raise ValueError\n",
    "        lam = params[0]\n",
    "        samples = np.random.poisson(lam, size=n_samples)\n",
    "    else:\n",
    "        raise ValueError\n",
    "\n",
    "    mean = np.mean(samples)\n",
    "    variance = np.var(samples)\n",
    "    return mean, variance\n",
    "n_samples = 10000\n",
    "mean, variance = generate_samples_mean_variance('binomial', n_samples, 10, 0.5)\n",
    "print(\"Binomial Distribution:\")\n",
    "print(mean)\n",
    "print(variance)\n",
    "mean, variance = generate_samples_mean_variance('poisson', n_samples, 5)\n",
    "print(\"\\nPoisson Distribution:\")\n",
    "print(mean)\n",
    "print(variance)"
   ]
  },
  {
   "cell_type": "code",
   "execution_count": 36,
   "metadata": {},
   "outputs": [],
   "source": [
    "#Question:-6"
   ]
  },
  {
   "cell_type": "code",
   "execution_count": 37,
   "metadata": {},
   "outputs": [
    {
     "name": "stdout",
     "output_type": "stream",
     "text": [
      "0.011332599572607321\n",
      "0.9795086425009338\n",
      "0.9897012895318131\n"
     ]
    }
   ],
   "source": [
    "mu = 0 \n",
    "sigma = 1  \n",
    "n_samples = 10000\n",
    "samples = np.random.normal(mu, sigma, n_samples)\n",
    "mean = np.mean(samples)\n",
    "variance = np.var(samples)\n",
    "std_deviation = np.std(samples)\n",
    "print( mean)\n",
    "print(variance)\n",
    "print(std_deviation)"
   ]
  },
  {
   "cell_type": "code",
   "execution_count": 38,
   "metadata": {},
   "outputs": [],
   "source": [
    "#Question:-7"
   ]
  },
  {
   "cell_type": "code",
   "execution_count": 39,
   "metadata": {},
   "outputs": [],
   "source": [
    "# Write a Python function that calculates their skewness"
   ]
  },
  {
   "cell_type": "code",
   "execution_count": 40,
   "metadata": {},
   "outputs": [
    {
     "name": "stdout",
     "output_type": "stream",
     "text": [
      "1.1262346334818645\n",
      "1.456426688422149\n"
     ]
    }
   ],
   "source": [
    "tips = sns.load_dataset('tips')\n",
    "def calculate_skewness(data):\n",
    "    return np.mean((data - np.mean(data))**3) / np.std(data)**3\n",
    "total_bill_skewness = calculate_skewness(tips['total_bill'])\n",
    "tip_skewness = calculate_skewness(tips['tip'])\n",
    "\n",
    "print(total_bill_skewness)\n",
    "print(tip_skewness)"
   ]
  },
  {
   "cell_type": "code",
   "execution_count": 41,
   "metadata": {},
   "outputs": [],
   "source": [
    "# Create a program that determines whether the columns exhibit positive skewness, negative skewness, or is approaxmiately  symettric "
   ]
  },
  {
   "cell_type": "code",
   "execution_count": 42,
   "metadata": {},
   "outputs": [
    {
     "name": "stdout",
     "output_type": "stream",
     "text": [
      "positive\n",
      "positive\n"
     ]
    }
   ],
   "source": [
    "tips = sns.load_dataset('tips')\n",
    "def determine_skewness(data):\n",
    "    skewness = np.mean((data - np.mean(data))**3) / np.std(data)**3\n",
    "    if skewness > 0.5:\n",
    "        return 'positive'\n",
    "    elif skewness < -0.5:\n",
    "        return 'negative'\n",
    "    else:\n",
    "        return 'approximately symmetric'\n",
    "total_bill_skewness = determine_skewness(tips['total_bill'])\n",
    "tip_skewness = determine_skewness(tips['tip'])\n",
    "print(total_bill_skewness)\n",
    "print(tip_skewness)"
   ]
  },
  {
   "cell_type": "markdown",
   "metadata": {},
   "source": [
    "# Write a function that calculates the covariance between two columns"
   ]
  },
  {
   "cell_type": "code",
   "execution_count": 44,
   "metadata": {},
   "outputs": [
    {
     "name": "stdout",
     "output_type": "stream",
     "text": [
      "8.289388917629669\n"
     ]
    }
   ],
   "source": [
    "tips = sns.load_dataset('tips')\n",
    "def calculate_covariance(data, column1, column2):\n",
    "    mean_column1 = data[column1].mean()\n",
    "    mean_column2 = data[column2].mean()\n",
    "    covariance = ((data[column1] - mean_column1) * (data[column2] - mean_column2)).mean()\n",
    "    return covariance\n",
    "covariance_total_bill_tip = calculate_covariance(tips, 'total_bill', 'tip')\n",
    "print(covariance_total_bill_tip)"
   ]
  },
  {
   "cell_type": "markdown",
   "metadata": {},
   "source": [
    "#  Implement a Python program that calculates the Pearson correlation coefficient between two columns."
   ]
  },
  {
   "cell_type": "code",
   "execution_count": 45,
   "metadata": {},
   "outputs": [
    {
     "name": "stdout",
     "output_type": "stream",
     "text": [
      "0.6757341092113641\n"
     ]
    }
   ],
   "source": [
    "tips = sns.load_dataset('tips')\n",
    "def calculate_pearson_correlation(data, column1, column2):\n",
    "    correlation_coefficient = data[column1].corr(data[column2], method='pearson')\n",
    "    return correlation_coefficient\n",
    "correlation_total_bill_tip = calculate_pearson_correlation(tips, 'total_bill', 'tip')\n",
    "print(correlation_total_bill_tip)"
   ]
  },
  {
   "cell_type": "markdown",
   "metadata": {},
   "source": [
    "# Write a script to visualize the correlation between two specific columns in a Pandas DataFrame using scatter plots\n"
   ]
  },
  {
   "cell_type": "code",
   "execution_count": 46,
   "metadata": {},
   "outputs": [
    {
     "data": {
      "image/png": "[encoded data removed]",
      "text/plain": [
       "<Figure size 640x480 with 1 Axes>"
      ]
     },
     "metadata": {},
     "output_type": "display_data"
    }
   ],
   "source": [
    "tips = sns.load_dataset('tips')\n",
    "sns.scatterplot(data=tips, x='total_bill', y='tip')\n",
    "plt.title('Scatter Plot of Total Bill vs Tip')\n",
    "plt.xlabel('Total Bill')\n",
    "plt.ylabel('Tip')\n",
    "plt.show()"
   ]
  },
  {
   "cell_type": "markdown",
   "metadata": {},
   "source": [
    "#Question:-8"
   ]
  },
  {
   "cell_type": "code",
   "execution_count": 47,
   "metadata": {},
   "outputs": [
    {
     "name": "stdout",
     "output_type": "stream",
     "text": [
      "[1.48671951e-06 2.45106104e-06 3.99989037e-06 6.46116639e-06\n",
      " 1.03310066e-05 1.63509589e-05 2.56160812e-05 3.97238224e-05\n",
      " 6.09759040e-05 9.26476353e-05 1.39341123e-04 2.07440309e-04\n",
      " 3.05686225e-04 4.45889725e-04 6.43795498e-04 9.20104770e-04\n",
      " 1.30165384e-03 1.82273110e-03 2.52649578e-03 3.46643792e-03\n",
      " 4.70779076e-03 6.32877643e-03 8.42153448e-03 1.10925548e-02\n",
      " 1.44624148e-02 1.86646099e-02 2.38432745e-02 3.01496139e-02\n",
      " 3.77369231e-02 4.67541424e-02 5.73380051e-02 6.96039584e-02\n",
      " 8.36361772e-02 9.94771388e-02 1.17117360e-01 1.36486009e-01\n",
      " 1.57443188e-01 1.79774665e-01 2.03189836e-01 2.27323506e-01\n",
      " 2.51741947e-01 2.75953371e-01 2.99422683e-01 3.21590023e-01\n",
      " 3.41892294e-01 3.59786558e-01 3.74773979e-01 3.86422853e-01\n",
      " 3.94389234e-01 3.98433802e-01 3.98433802e-01 3.94389234e-01\n",
      " 3.86422853e-01 3.74773979e-01 3.59786558e-01 3.41892294e-01\n",
      " 3.21590023e-01 2.99422683e-01 2.75953371e-01 2.51741947e-01\n",
      " 2.27323506e-01 2.03189836e-01 1.79774665e-01 1.57443188e-01\n",
      " 1.36486009e-01 1.17117360e-01 9.94771388e-02 8.36361772e-02\n",
      " 6.96039584e-02 5.73380051e-02 4.67541424e-02 3.77369231e-02\n",
      " 3.01496139e-02 2.38432745e-02 1.86646099e-02 1.44624148e-02\n",
      " 1.10925548e-02 8.42153448e-03 6.32877643e-03 4.70779076e-03\n",
      " 3.46643792e-03 2.52649578e-03 1.82273110e-03 1.30165384e-03\n",
      " 9.20104770e-04 6.43795498e-04 4.45889725e-04 3.05686225e-04\n",
      " 2.07440309e-04 1.39341123e-04 9.26476353e-05 6.09759040e-05\n",
      " 3.97238224e-05 2.56160812e-05 1.63509589e-05 1.03310066e-05\n",
      " 6.46116639e-06 3.99989037e-06 2.45106104e-06 1.48671951e-06]\n"
     ]
    }
   ],
   "source": [
    "def normal_pdf(x, mu, sigma):\n",
    "    pdf = 1 / (np.sqrt(2 * np.pi) * sigma) * np.exp(-((x - mu) ** 2) / (2 * sigma ** 2))\n",
    "    return pdf\n",
    "x_values = np.linspace(-5, 5, 100)  \n",
    "mu = 0  \n",
    "sigma = 1  \n",
    "pdf_values = normal_pdf(x_values, mu, sigma)\n",
    "print(pdf_values)"
   ]
  },
  {
   "cell_type": "code",
   "execution_count": 48,
   "metadata": {},
   "outputs": [],
   "source": [
    "#Question:-9"
   ]
  },
  {
   "cell_type": "code",
   "execution_count": 50,
   "metadata": {},
   "outputs": [
    {
     "name": "stdout",
     "output_type": "stream",
     "text": [
      "[0.         0.02493635 0.04925087 0.07295908 0.0960761  0.11861666\n",
      " 0.14059514 0.16202556 0.18292158 0.20329653 0.2231634  0.24253487\n",
      " 0.26142329 0.27984069 0.29779883 0.31530917 0.33238285 0.34903079\n",
      " 0.36526358 0.38109159 0.3965249  0.41157337 0.42624658 0.44055389\n",
      " 0.45450444 0.4681071  0.48137057 0.49430329 0.50691352 0.5192093\n",
      " 0.53119846 0.54288866 0.55428735 0.56540179 0.57623908 0.58680613\n",
      " 0.59710968 0.60715629 0.61695238 0.62650419 0.63581781 0.64489918\n",
      " 0.6537541  0.66238821 0.67080701 0.67901588 0.68702005 0.69482463\n",
      " 0.70243459 0.70985478 0.71708995 0.72414469 0.73102351 0.7377308\n",
      " 0.74427084 0.75064779 0.75686572 0.76292861 0.7688403  0.77460458\n",
      " 0.78022512 0.7857055  0.79104922 0.79625969 0.80134023 0.80629408\n",
      " 0.8111244  0.81583426 0.82042669 0.82490459 0.82927083 0.83352819\n",
      " 0.83767939 0.84172707 0.84567382 0.84952215 0.85327452 0.85693332\n",
      " 0.86050088 0.86397948 0.86737133 0.87067861 0.87390341 0.8770478\n",
      " 0.88011378 0.8831033  0.88601828 0.88886057 0.89163198 0.89433428\n",
      " 0.8969692  0.89953841 0.90204355 0.90448623 0.90686799 0.90919037\n",
      " 0.91145483 0.91366282 0.91581575 0.917915  ]\n"
     ]
    }
   ],
   "source": [
    "def exponential_cdf(x, lambd):\n",
    "    cdf = 1 - np.exp(-lambd * x)\n",
    "    return cdf\n",
    "x_values = np.linspace(0, 5, 100)  \n",
    "lambd = 0.5 \n",
    "cdf_values = exponential_cdf(x_values, lambd)\n",
    "print(cdf_values)"
   ]
  },
  {
   "cell_type": "code",
   "execution_count": 51,
   "metadata": {},
   "outputs": [],
   "source": [
    "#Question:-11"
   ]
  },
  {
   "cell_type": "code",
   "execution_count": 57,
   "metadata": {},
   "outputs": [
    {
     "name": "stdout",
     "output_type": "stream",
     "text": [
      "p-value: 0.059685605532426224\n",
      "Fail to reject the null hypothesis. There is no significant difference in conversion rates between the old and new layouts.\n"
     ]
    }
   ],
   "source": [
    "import numpy as np\n",
    "from statsmodels.stats.proportion import proportions_ztest\n",
    "old_layout = np.array([1] * 50 + [0] * 950)\n",
    "new_layout = np.array([1] * 70 + [0] * 930) \n",
    "count_old = np.sum(old_layout)\n",
    "count_new = np.sum(new_layout)\n",
    "nobs_old = len(old_layout)\n",
    "nobs_new = len(new_layout)\n",
    "stat, pval = proportions_ztest([count_old, count_new], [nobs_old, nobs_new])\n",
    "alpha = 0.05\n",
    "print(f\"p-value: {pval}\")\n",
    "if pval < alpha:\n",
    "    print(\"Reject the null hypothesis. There is a significant difference in conversion rates between the old and new layouts.\")\n",
    "else:\n",
    "    print(\"Fail to reject the null hypothesis. There is no significant difference in conversion rates between the old and new layouts.\")"
   ]
  },
  {
   "cell_type": "code",
   "execution_count": 58,
   "metadata": {},
   "outputs": [],
   "source": [
    "#Question:-12"
   ]
  },
  {
   "cell_type": "code",
   "execution_count": 60,
   "metadata": {},
   "outputs": [
    {
     "name": "stdout",
     "output_type": "stream",
     "text": [
      "p-value: 0.9130909194908616\n",
      "Fail to reject the null hypothesis. There is no significant improvement in exam scores after the tutoring program.\n"
     ]
    }
   ],
   "source": [
    "import numpy as np\n",
    "from statsmodels.stats import weightstats as stests\n",
    "before_program = np.array([75, 80, 85, 70, 90, 78, 92, 88, 82, 87])\n",
    "after_program = np.array([80, 85, 90, 80, 92, 80, 95, 90, 85, 88])\n",
    "z_stat, p_value = stests.ztest(before_program, after_program, alternative='larger')\n",
    "alpha = 0.05\n",
    "print(f\"p-value: {p_value}\")\n",
    "if p_value < alpha:\n",
    "    print(\"Reject the null hypothesis. There is a significant improvement in exam scores after the tutoring program.\")\n",
    "else:\n",
    "    print(\"Fail to reject the null hypothesis. There is no significant improvement in exam scores after the tutoring program.\")\n"
   ]
  },
  {
   "cell_type": "code",
   "execution_count": 61,
   "metadata": {},
   "outputs": [],
   "source": [
    "#Question:-13"
   ]
  },
  {
   "cell_type": "code",
   "execution_count": 62,
   "metadata": {},
   "outputs": [
    {
     "name": "stdout",
     "output_type": "stream",
     "text": [
      "p-value: 0.004150476693595778\n",
      "Reject the null hypothesis. The drug is effective in reducing blood pressure.\n"
     ]
    }
   ],
   "source": [
    "import numpy as np\n",
    "from statsmodels.stats import weightstats as stests\n",
    "before_drug = np.array([145, 150, 140, 135, 155, 160, 152, 148, 130, 138])\n",
    "after_drug = np.array([130, 140, 132, 128, 145, 148, 138, 136, 125, 130])\n",
    "z_stat, p_value = stests.ztest(before_drug, after_drug, alternative='larger')\n",
    "\n",
    "alpha = 0.05\n",
    "print(f\"p-value: {p_value}\")\n",
    "if p_value < alpha:\n",
    "    print(\"Reject the null hypothesis. The drug is effective in reducing blood pressure.\")\n",
    "else:\n",
    "    print(\"Fail to reject the null hypothesis. There is no significant evidene that the drug reduces blood pressure.\")"
   ]
  },
  {
   "cell_type": "code",
   "execution_count": 63,
   "metadata": {},
   "outputs": [],
   "source": [
    "#Question:-14"
   ]
  },
  {
   "cell_type": "code",
   "execution_count": 65,
   "metadata": {},
   "outputs": [
    {
     "name": "stdout",
     "output_type": "stream",
     "text": [
      "p-value: 0.0007251287113068958\n",
      "Reject the null hypothesis. The average response time is less than 5 minutes.\n"
     ]
    }
   ],
   "source": [
    "import numpy as np\n",
    "from statsmodels.stats import weightstats as stests\n",
    "response_times = np.array([4.3, 3.8, 5.1, 4.9, 4.7, 4.2, 5.2, 4.5, 4.6, 4.4])\n",
    "pop_mean = 5\n",
    "z_stat, p_value = stests.ztest(response_times, value=pop_mean, alternative='smaller')\n",
    "alpha = 0.05\n",
    "print(f\"p-value: {p_value}\")\n",
    "if p_value < alpha:\n",
    "    print(\"Reject the null hypothesis. The average response time is less than 5 minutes.\")\n",
    "else:\n",
    "    print(\"Fail to reject the null hypothesis. There is no significant evidence that the average response time is less than 5 minutes.\")"
   ]
  },
  {
   "cell_type": "code",
   "execution_count": 66,
   "metadata": {},
   "outputs": [],
   "source": [
    "#Question:-15"
   ]
  },
  {
   "cell_type": "code",
   "execution_count": 67,
   "metadata": {},
   "outputs": [
    {
     "name": "stdout",
     "output_type": "stream",
     "text": [
      "t-statistic: -7.298102156175071\n",
      "Degrees of freedom: 18\n",
      "p-value: 8.833437608301987e-07\n"
     ]
    }
   ],
   "source": [
    "import numpy as np\n",
    "from scipy import stats\n",
    "def ab_test(layout_a_clicks, layout_b_clicks):\n",
    "    layout_a_clicks = np.array(layout_a_clicks)\n",
    "    layout_b_clicks = np.array(layout_b_clicks)\n",
    "    t_stat, p_value = stats.ttest_ind(layout_a_clicks, layout_b_clicks)\n",
    "    degrees_of_freedom = len(layout_a_clicks) + len(layout_b_clicks) - 2\n",
    "    return t_stat, degrees_of_freedom, p_value\n",
    "layout_a_clicks = [28, 32, 33, 29, 31, 34, 30, 35, 36, 37]\n",
    "layout_b_clicks = [40, 41, 38, 42, 39, 44, 43, 41, 45, 47]\n",
    "t_statistic, df, p_value = ab_test(layout_a_clicks, layout_b_clicks)\n",
    "print(\"t-statistic:\", t_statistic)\n",
    "print(\"Degrees of freedom:\", df)\n",
    "print(\"p-value:\", p_value)"
   ]
  },
  {
   "cell_type": "code",
   "execution_count": 68,
   "metadata": {},
   "outputs": [],
   "source": [
    "#Question:-16"
   ]
  },
  {
   "cell_type": "code",
   "execution_count": 70,
   "metadata": {},
   "outputs": [
    {
     "name": "stdout",
     "output_type": "stream",
     "text": [
      "t-statistic: 4.14048098620866\n",
      "Degrees of freedom: 18\n",
      "p-value: 0.0006143398442372505\n"
     ]
    }
   ],
   "source": [
    "import numpy as np\n",
    "from scipy import stats\n",
    "def compare_drugs(existing_drug_levels, new_drug_levels):\n",
    "    existing_drug_levels = np.array(existing_drug_levels)\n",
    "    new_drug_levels = np.array(new_drug_levels)\n",
    "    t_stat, p_value = stats.ttest_ind(existing_drug_levels, new_drug_levels)\n",
    "    degrees_of_freedom = len(existing_drug_levels) + len(new_drug_levels) - 2\n",
    "    return t_stat, degrees_of_freedom, p_value\n",
    "existing_drug_levels = [180, 182, 175, 185, 178, 176, 172, 184, 179, 183]\n",
    "new_drug_levels = [170, 172, 165, 168, 175, 173, 170, 178, 172, 176]\n",
    "t_statistic, df, p_value = compare_drugs(existing_drug_levels, new_drug_levels)\n",
    "print(\"t-statistic:\", t_statistic)\n",
    "print(\"Degrees of freedom:\", df)\n",
    "print(\"p-value:\", p_value)"
   ]
  },
  {
   "cell_type": "code",
   "execution_count": 71,
   "metadata": {},
   "outputs": [],
   "source": [
    "#Question:-17"
   ]
  },
  {
   "cell_type": "code",
   "execution_count": 72,
   "metadata": {},
   "outputs": [
    {
     "name": "stdout",
     "output_type": "stream",
     "text": [
      "t-statistic: -4.42840883965761\n",
      "Degrees of freedom: 9\n",
      "p-value: 0.0016509548165795493\n"
     ]
    }
   ],
   "source": [
    "import numpy as np\n",
    "from scipy import stats\n",
    "\n",
    "def intervention_analysis(pre_intervention_scores, post_intervention_scores):\n",
    "    pre_intervention_scores = np.array(pre_intervention_scores)\n",
    "    post_intervention_scores = np.array(post_intervention_scores)\n",
    "    t_stat, p_value = stats.ttest_rel(pre_intervention_scores, post_intervention_scores)\n",
    "    degrees_of_freedom = len(pre_intervention_scores) - 1\n",
    "    \n",
    "    return t_stat, degrees_of_freedom, p_value\n",
    "pre_intervention_scores = [80, 85, 90, 75, 88, 82, 92, 78, 85, 87]\n",
    "post_intervention_scores = [90, 92, 88, 92, 95, 91, 96, 93, 89, 93]\n",
    "\n",
    "t_statistic, df, p_value = intervention_analysis(pre_intervention_scores, post_intervention_scores)\n",
    "\n",
    "print(\"t-statistic:\", t_statistic)\n",
    "print(\"Degrees of freedom:\", df)\n",
    "print(\"p-value:\", p_value)"
   ]
  },
  {
   "cell_type": "code",
   "execution_count": 73,
   "metadata": {},
   "outputs": [],
   "source": [
    "#Question:18"
   ]
  },
  {
   "cell_type": "code",
   "execution_count": 74,
   "metadata": {},
   "outputs": [
    {
     "name": "stdout",
     "output_type": "stream",
     "text": [
      "t-statistic: 0.06114208969631383\n",
      "Degrees of freedom: 38\n",
      "p-value: 0.9515665020676465\n"
     ]
    }
   ],
   "source": [
    "def gender_salary_gap_analysis(male_salaries, female_salaries):\n",
    "    t_stat, p_value = stats.ttest_ind(male_salaries, female_salaries)\n",
    "\n",
    "    degrees_of_freedom = len(male_salaries) + len(female_salaries) - 2\n",
    "    \n",
    "    return t_stat, degrees_of_freedom, p_value\n",
    "\n",
    "np.random.seed(0) \n",
    "male_salaries = np.random.normal(loc=50000, scale=10000, size=20)\n",
    "female_salaries = np.random.normal(loc=55000, scale=9000, size=20)\n",
    "\n",
    "t_statistic, df, p_value = gender_salary_gap_analysis(male_salaries, female_salaries)\n",
    "\n",
    "print(\"t-statistic:\", t_statistic)\n",
    "print(\"Degrees of freedom:\", df)\n",
    "print(\"p-value:\", p_value)"
   ]
  },
  {
   "cell_type": "code",
   "execution_count": 75,
   "metadata": {},
   "outputs": [],
   "source": [
    "#Question:-19"
   ]
  },
  {
   "cell_type": "code",
   "execution_count": 76,
   "metadata": {},
   "outputs": [
    {
     "name": "stdout",
     "output_type": "stream",
     "text": [
      "t-statistic: 11.325830417646698\n",
      "Degrees of freedom: 48\n",
      "p-value: 3.6824250702873965e-15\n"
     ]
    }
   ],
   "source": [
    "import numpy as np\n",
    "from scipy import stats\n",
    "\n",
    "def compare_quality_scores(version1_scores, version2_scores):\n",
    "    t_stat, p_value = stats.ttest_ind(version1_scores, version2_scores)\n",
    "\n",
    "    degrees_of_freedom = len(version1_scores) + len(version2_scores) - 2\n",
    "    \n",
    "    return t_stat, degrees_of_freedom, p_value\n",
    "version1_scores = [85, 88, 82, 89, 87, 84, 90, 88, 85, 86, 91, 83, 87, 84, 89, 86, 84, 88, 85, 86, 89, 90, 87, 88, 85]\n",
    "version2_scores = [80, 78, 83, 81, 79, 82, 76, 80, 78, 81, 77, 82, 80, 79, 82, 79, 80, 81, 79, 82, 79, 78, 80, 81, 82]\n",
    "\n",
    "t_statistic, df, p_value = compare_quality_scores(version1_scores, version2_scores)\n",
    "print(\"t-statistic:\", t_statistic)\n",
    "print(\"Degrees of freedom:\", df)\n",
    "print(\"p-value:\", p_value)"
   ]
  },
  {
   "cell_type": "code",
   "execution_count": 77,
   "metadata": {},
   "outputs": [],
   "source": [
    "#Question:-20"
   ]
  },
  {
   "cell_type": "code",
   "execution_count": 78,
   "metadata": {},
   "outputs": [
    {
     "name": "stdout",
     "output_type": "stream",
     "text": [
      "t-statistic: 5.480077554195743\n",
      "Degrees of freedom: 60\n",
      "p-value: 8.895290509945655e-07\n"
     ]
    }
   ],
   "source": [
    "def compare_branch_satisfaction(branch_a_scores, branch_b_scores):\n",
    "    \n",
    "    t_stat, p_value = stats.ttest_ind(branch_a_scores, branch_b_scores)\n",
    "\n",
    "\n",
    "    degrees_of_freedom = len(branch_a_scores) + len(branch_b_scores) - 2\n",
    "    \n",
    "    return t_stat, degrees_of_freedom, p_value\n",
    "\n",
    "branch_a_scores = [4, 5, 3, 4, 5, 4, 5, 3, 4, 4, 5, 4, 4, 3, 4, 5, 5, 4, 3, 4, 5, 4, 3, 5, 4, 4, 5, 3, 4, 5, 4]\n",
    "branch_b_scores = [3, 4, 2, 3, 4, 3, 4, 2, 3, 3, 4, 3, 3, 2, 3, 4, 4, 3, 2, 3, 4, 3, 2, 4, 3, 3, 4, 2, 3, 4, 3]\n",
    "\n",
    "\n",
    "t_statistic, df, p_value = compare_branch_satisfaction(branch_a_scores, branch_b_scores)\n",
    "print(\"t-statistic:\", t_statistic)\n",
    "print(\"Degrees of freedom:\", df)\n",
    "print(\"p-value:\", p_value)"
   ]
  },
  {
   "cell_type": "code",
   "execution_count": 79,
   "metadata": {},
   "outputs": [],
   "source": [
    "#Question:-21"
   ]
  },
  {
   "cell_type": "code",
   "execution_count": 80,
   "metadata": {},
   "outputs": [
    {
     "name": "stdout",
     "output_type": "stream",
     "text": [
      "Chi-Square Statistic: 0.7397720563072268\n",
      "p-value: 0.6908130593907253\n",
      "Degrees of Freedom: 2\n",
      "Expected Frequencies:\n",
      "[[ 65.532  61.468]\n",
      " [ 62.952  59.048]\n",
      " [129.516 121.484]]\n"
     ]
    }
   ],
   "source": [
    "from scipy.stats import chi2_contingency\n",
    "def chi_square_test(age_groups, voter_preferences):\n",
    "    contingency_table = np.zeros((len(np.unique(age_groups)), len(np.unique(voter_preferences))))\n",
    "    for i, age_group in enumerate(np.unique(age_groups)):\n",
    "        for j, preference in enumerate(np.unique(voter_preferences)):\n",
    "            contingency_table[i, j] = np.sum((age_groups == age_group) & (voter_preferences == preference))\n",
    "    \n",
    "\n",
    "    chi2_stat, p_value, dof, expected = chi2_contingency(contingency_table)\n",
    "    \n",
    "    return chi2_stat, p_value, dof, expected\n",
    "\n",
    "\n",
    "np.random.seed(0)\n",
    "age_groups = np.random.choice(['18-30', '31-50', '51+', '51+'], size=500)\n",
    "voter_preferences = np.random.choice(['Candidate A', 'Candidate B'], size=500)\n",
    "\n",
    "chi2_stat, p_value, dof, expected = chi_square_test(age_groups, voter_preferences)\n",
    "\n",
    "print(\"Chi-Square Statistic:\", chi2_stat)\n",
    "print(\"p-value:\", p_value)\n",
    "print(\"Degrees of Freedom:\", dof)\n",
    "print(\"Expected Frequencies:\")\n",
    "print(expected)"
   ]
  },
  {
   "cell_type": "code",
   "execution_count": 81,
   "metadata": {},
   "outputs": [],
   "source": [
    "#Question:-23"
   ]
  },
  {
   "cell_type": "code",
   "execution_count": 82,
   "metadata": {},
   "outputs": [
    {
     "name": "stdout",
     "output_type": "stream",
     "text": [
      "Chi-Square Statistic: 22.161728395061726\n",
      "p-value: 0.00018609719479882557\n",
      "Degrees of Freedom: 4\n",
      "Expected Frequencies:\n",
      "[[34.48275862 34.48275862 31.03448276]\n",
      " [34.48275862 34.48275862 31.03448276]\n",
      " [31.03448276 31.03448276 27.93103448]]\n"
     ]
    }
   ],
   "source": [
    "def chi_square_test_performance(data):\n",
    "    chi2_stat, p_value, dof, expected = chi2_contingency(data)\n",
    "    \n",
    "    return chi2_stat, p_value, dof, expected\n",
    "\n",
    "data = np.array([[50, 30, 20], [30, 40, 30], [20, 30, 40]])\n",
    "\n",
    "chi2_stat, p_value, dof, expected = chi_square_test_performance(data)\n",
    "\n",
    "print(\"Chi-Square Statistic:\", chi2_stat)\n",
    "print(\"p-value:\", p_value)\n",
    "print(\"Degrees of Freedom:\", dof)\n",
    "print(\"Expected Frequencies:\")\n",
    "print(expected)"
   ]
  },
  {
   "cell_type": "code",
   "execution_count": 83,
   "metadata": {},
   "outputs": [],
   "source": [
    "#Question:24"
   ]
  },
  {
   "cell_type": "code",
   "execution_count": 84,
   "metadata": {},
   "outputs": [
    {
     "name": "stdout",
     "output_type": "stream",
     "text": [
      "F-statistic: 27.03556231003039\n",
      "p-value: 3.5786328857349003e-07\n"
     ]
    }
   ],
   "source": [
    "import numpy as np\n",
    "from scipy.stats import f_oneway\n",
    "\n",
    "def anova_test(standard_scores, premium_scores, deluxe_scores):\n",
    "\n",
    "    f_stat, p_value = f_oneway(standard_scores, premium_scores, deluxe_scores)\n",
    "    \n",
    "    return f_stat, p_value\n",
    "standard_scores = [80, 85, 90, 78, 88, 82, 92, 78, 85, 87]\n",
    "premium_scores = [90, 92, 88, 92, 95, 91, 96, 93, 89, 93]\n",
    "deluxe_scores = [95, 98, 92, 97, 96, 94, 98, 97, 92, 99]\n",
    "\n",
    "f_statistic, p_value = anova_test(standard_scores, premium_scores, deluxe_scores)\n",
    "print(\"F-statistic:\", f_statistic)\n",
    "print(\"p-value:\", p_value)"
   ]
  }
 ],
 "metadata": {
  "kernelspec": {
   "display_name": "base",
   "language": "python",
   "name": "python3"
  },
  "language_info": {
   "codemirror_mode": {
    "name": "ipython",
    "version": 3
   },
   "file_extension": ".py",
   "mimetype": "text/x-python",
   "name": "python",
   "nbconvert_exporter": "python",
   "pygments_lexer": "ipython3",
   "version": "3.11.5"
  }
 },
 "nbformat": 4,
 "nbformat_minor": 2
}
